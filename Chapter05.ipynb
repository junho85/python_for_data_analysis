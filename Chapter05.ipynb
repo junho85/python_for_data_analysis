{
 "cells": [
  {
   "cell_type": "code",
   "execution_count": 2,
   "metadata": {
    "collapsed": true
   },
   "outputs": [],
   "source": [
    "import numpy as np\n",
    "import pandas as pd\n",
    "from pandas import Series, DataFrame"
   ]
  },
  {
   "cell_type": "markdown",
   "metadata": {},
   "source": [
    "## 5.1.1 Series"
   ]
  },
  {
   "cell_type": "code",
   "execution_count": 3,
   "metadata": {
    "collapsed": false
   },
   "outputs": [
    {
     "data": {
      "text/plain": [
       "0    4\n",
       "1    7\n",
       "2   -5\n",
       "3    3\n",
       "dtype: int64"
      ]
     },
     "execution_count": 3,
     "metadata": {},
     "output_type": "execute_result"
    }
   ],
   "source": [
    "ser = Series([4,7,-5,3])\n",
    "ser"
   ]
  },
  {
   "cell_type": "code",
   "execution_count": 4,
   "metadata": {
    "collapsed": false
   },
   "outputs": [
    {
     "data": {
      "text/plain": [
       "array([ 4,  7, -5,  3])"
      ]
     },
     "execution_count": 4,
     "metadata": {},
     "output_type": "execute_result"
    }
   ],
   "source": [
    "ser.values"
   ]
  },
  {
   "cell_type": "code",
   "execution_count": 5,
   "metadata": {
    "collapsed": false
   },
   "outputs": [
    {
     "data": {
      "text/plain": [
       "Int64Index([0, 1, 2, 3], dtype='int64')"
      ]
     },
     "execution_count": 5,
     "metadata": {},
     "output_type": "execute_result"
    }
   ],
   "source": [
    "ser.index"
   ]
  },
  {
   "cell_type": "code",
   "execution_count": 6,
   "metadata": {
    "collapsed": false
   },
   "outputs": [
    {
     "data": {
      "text/plain": [
       "d    4\n",
       "b    7\n",
       "a   -5\n",
       "c    3\n",
       "dtype: int64"
      ]
     },
     "execution_count": 6,
     "metadata": {},
     "output_type": "execute_result"
    }
   ],
   "source": [
    "ser2 = Series([4,7,-5,3], index=['d','b','a','c'])\n",
    "ser2"
   ]
  },
  {
   "cell_type": "code",
   "execution_count": 7,
   "metadata": {
    "collapsed": false
   },
   "outputs": [
    {
     "data": {
      "text/plain": [
       "-5"
      ]
     },
     "execution_count": 7,
     "metadata": {},
     "output_type": "execute_result"
    }
   ],
   "source": [
    "ser2['a']"
   ]
  },
  {
   "cell_type": "code",
   "execution_count": 8,
   "metadata": {
    "collapsed": false
   },
   "outputs": [
    {
     "data": {
      "text/plain": [
       "-5"
      ]
     },
     "execution_count": 8,
     "metadata": {},
     "output_type": "execute_result"
    }
   ],
   "source": [
    "ser2[2]"
   ]
  },
  {
   "cell_type": "code",
   "execution_count": 9,
   "metadata": {
    "collapsed": true
   },
   "outputs": [],
   "source": [
    "ser2['d'] = 6 "
   ]
  },
  {
   "cell_type": "code",
   "execution_count": 10,
   "metadata": {
    "collapsed": false
   },
   "outputs": [
    {
     "data": {
      "text/plain": [
       "c    3\n",
       "a   -5\n",
       "d    6\n",
       "dtype: int64"
      ]
     },
     "execution_count": 10,
     "metadata": {},
     "output_type": "execute_result"
    }
   ],
   "source": [
    "ser2[['c','a','d']]"
   ]
  },
  {
   "cell_type": "code",
   "execution_count": 11,
   "metadata": {
    "collapsed": false
   },
   "outputs": [
    {
     "data": {
      "text/plain": [
       "d    6\n",
       "b    7\n",
       "c    3\n",
       "dtype: int64"
      ]
     },
     "execution_count": 11,
     "metadata": {},
     "output_type": "execute_result"
    }
   ],
   "source": [
    "ser2[ ser2 > 0]"
   ]
  },
  {
   "cell_type": "code",
   "execution_count": 12,
   "metadata": {
    "collapsed": false
   },
   "outputs": [
    {
     "data": {
      "text/plain": [
       "True"
      ]
     },
     "execution_count": 12,
     "metadata": {},
     "output_type": "execute_result"
    }
   ],
   "source": [
    "'b' in ser2 "
   ]
  },
  {
   "cell_type": "code",
   "execution_count": 13,
   "metadata": {
    "collapsed": false
   },
   "outputs": [
    {
     "data": {
      "text/plain": [
       "Ohio      35000\n",
       "Oregon    16000\n",
       "Texas     71000\n",
       "Utah       5000\n",
       "dtype: int64"
      ]
     },
     "execution_count": 13,
     "metadata": {},
     "output_type": "execute_result"
    }
   ],
   "source": [
    "ser3 = Series( {'Ohio':35000, 'Texas':71000, 'Oregon':16000, 'Utah':5000})\n",
    "ser3"
   ]
  },
  {
   "cell_type": "code",
   "execution_count": 36,
   "metadata": {
    "collapsed": false
   },
   "outputs": [
    {
     "data": {
      "text/plain": [
       "California      NaN\n",
       "Ohio          35000\n",
       "Oregon        16000\n",
       "Texas         71000\n",
       "dtype: float64"
      ]
     },
     "execution_count": 36,
     "metadata": {},
     "output_type": "execute_result"
    }
   ],
   "source": [
    "state = ['California', 'Ohio','Oregon','Texas']\n",
    "ser4 = Series({'Ohio':35000, 'Texas':71000, 'Oregon':16000, 'Utah':5000}, index=state)\n",
    "ser4\n",
    "# NaN = Not a Number"
   ]
  },
  {
   "cell_type": "code",
   "execution_count": 15,
   "metadata": {
    "collapsed": false
   },
   "outputs": [
    {
     "data": {
      "text/plain": [
       "California     True\n",
       "Ohio          False\n",
       "Oregon        False\n",
       "Texas         False\n",
       "dtype: bool"
      ]
     },
     "execution_count": 15,
     "metadata": {},
     "output_type": "execute_result"
    }
   ],
   "source": [
    "pd.isnull(ser4)"
   ]
  },
  {
   "cell_type": "code",
   "execution_count": 16,
   "metadata": {
    "collapsed": false
   },
   "outputs": [
    {
     "data": {
      "text/plain": [
       "California    False\n",
       "Ohio           True\n",
       "Oregon         True\n",
       "Texas          True\n",
       "dtype: bool"
      ]
     },
     "execution_count": 16,
     "metadata": {},
     "output_type": "execute_result"
    }
   ],
   "source": [
    "pd.notnull(ser4)"
   ]
  },
  {
   "cell_type": "code",
   "execution_count": 17,
   "metadata": {
    "collapsed": false
   },
   "outputs": [
    {
     "data": {
      "text/plain": [
       "California     True\n",
       "Ohio          False\n",
       "Oregon        False\n",
       "Texas         False\n",
       "dtype: bool"
      ]
     },
     "execution_count": 17,
     "metadata": {},
     "output_type": "execute_result"
    }
   ],
   "source": [
    "ser4.isnull()"
   ]
  },
  {
   "cell_type": "code",
   "execution_count": 79,
   "metadata": {
    "collapsed": false
   },
   "outputs": [
    {
     "data": {
      "text/plain": [
       "Ohio      35000\n",
       "Oregon    16000\n",
       "Texas     71000\n",
       "dtype: float64"
      ]
     },
     "execution_count": 79,
     "metadata": {},
     "output_type": "execute_result"
    }
   ],
   "source": [
    "ser4[-ser4.isnull()]"
   ]
  },
  {
   "cell_type": "code",
   "execution_count": 19,
   "metadata": {
    "collapsed": false
   },
   "outputs": [
    {
     "data": {
      "text/plain": [
       "California       NaN\n",
       "Ohio           70000\n",
       "Oregon         32000\n",
       "Texas         142000\n",
       "Utah             NaN\n",
       "dtype: float64"
      ]
     },
     "execution_count": 19,
     "metadata": {},
     "output_type": "execute_result"
    }
   ],
   "source": [
    "ser3 + ser4"
   ]
  },
  {
   "cell_type": "code",
   "execution_count": 20,
   "metadata": {
    "collapsed": false
   },
   "outputs": [
    {
     "data": {
      "text/plain": [
       "state\n",
       "California      NaN\n",
       "Ohio          35000\n",
       "Oregon        16000\n",
       "Texas         71000\n",
       "Name: population, dtype: float64"
      ]
     },
     "execution_count": 20,
     "metadata": {},
     "output_type": "execute_result"
    }
   ],
   "source": [
    "ser4.name = 'population'\n",
    "ser4.index.name = 'state'\n",
    "ser4"
   ]
  },
  {
   "cell_type": "code",
   "execution_count": 21,
   "metadata": {
    "collapsed": false
   },
   "outputs": [
    {
     "data": {
      "text/plain": [
       "CA      NaN\n",
       "OH    35000\n",
       "OR    16000\n",
       "TX    71000\n",
       "Name: population, dtype: float64"
      ]
     },
     "execution_count": 21,
     "metadata": {},
     "output_type": "execute_result"
    }
   ],
   "source": [
    "ser4.index = ['CA', 'OH', 'OR', 'TX']\n",
    "ser4"
   ]
  },
  {
   "cell_type": "markdown",
   "metadata": {},
   "source": [
    "### 5.1.2 DataFrame"
   ]
  },
  {
   "cell_type": "code",
   "execution_count": 23,
   "metadata": {
    "collapsed": false
   },
   "outputs": [
    {
     "data": {
      "text/html": [
       "<div>\n",
       "<table border=\"1\" class=\"dataframe\">\n",
       "  <thead>\n",
       "    <tr style=\"text-align: right;\">\n",
       "      <th></th>\n",
       "      <th>pop</th>\n",
       "      <th>state</th>\n",
       "      <th>year</th>\n",
       "    </tr>\n",
       "  </thead>\n",
       "  <tbody>\n",
       "    <tr>\n",
       "      <th>0</th>\n",
       "      <td>1.5</td>\n",
       "      <td>Ohio</td>\n",
       "      <td>2000</td>\n",
       "    </tr>\n",
       "    <tr>\n",
       "      <th>1</th>\n",
       "      <td>1.7</td>\n",
       "      <td>Ohio</td>\n",
       "      <td>2001</td>\n",
       "    </tr>\n",
       "    <tr>\n",
       "      <th>2</th>\n",
       "      <td>3.6</td>\n",
       "      <td>Ohio</td>\n",
       "      <td>2002</td>\n",
       "    </tr>\n",
       "    <tr>\n",
       "      <th>3</th>\n",
       "      <td>2.4</td>\n",
       "      <td>Nevada</td>\n",
       "      <td>2001</td>\n",
       "    </tr>\n",
       "    <tr>\n",
       "      <th>4</th>\n",
       "      <td>2.9</td>\n",
       "      <td>Nevada</td>\n",
       "      <td>2002</td>\n",
       "    </tr>\n",
       "  </tbody>\n",
       "</table>\n",
       "</div>"
      ],
      "text/plain": [
       "   pop   state  year\n",
       "0  1.5    Ohio  2000\n",
       "1  1.7    Ohio  2001\n",
       "2  3.6    Ohio  2002\n",
       "3  2.4  Nevada  2001\n",
       "4  2.9  Nevada  2002"
      ]
     },
     "execution_count": 23,
     "metadata": {},
     "output_type": "execute_result"
    }
   ],
   "source": [
    "data = { 'state' : [ 'Ohio', 'Ohio', 'Ohio', 'Nevada', 'Nevada'],\n",
    "       'year' : [2000,2001,2002,2001,2002],\n",
    "       'pop' : [1.5,1.7,3.6,2.4,2.9]}\n",
    "frame = DataFrame(data)\n",
    "frame"
   ]
  },
  {
   "cell_type": "code",
   "execution_count": 24,
   "metadata": {
    "collapsed": false
   },
   "outputs": [
    {
     "data": {
      "text/html": [
       "<div>\n",
       "<table border=\"1\" class=\"dataframe\">\n",
       "  <thead>\n",
       "    <tr style=\"text-align: right;\">\n",
       "      <th></th>\n",
       "      <th>year</th>\n",
       "      <th>state</th>\n",
       "      <th>pop</th>\n",
       "    </tr>\n",
       "  </thead>\n",
       "  <tbody>\n",
       "    <tr>\n",
       "      <th>0</th>\n",
       "      <td>2000</td>\n",
       "      <td>Ohio</td>\n",
       "      <td>1.5</td>\n",
       "    </tr>\n",
       "    <tr>\n",
       "      <th>1</th>\n",
       "      <td>2001</td>\n",
       "      <td>Ohio</td>\n",
       "      <td>1.7</td>\n",
       "    </tr>\n",
       "    <tr>\n",
       "      <th>2</th>\n",
       "      <td>2002</td>\n",
       "      <td>Ohio</td>\n",
       "      <td>3.6</td>\n",
       "    </tr>\n",
       "    <tr>\n",
       "      <th>3</th>\n",
       "      <td>2001</td>\n",
       "      <td>Nevada</td>\n",
       "      <td>2.4</td>\n",
       "    </tr>\n",
       "    <tr>\n",
       "      <th>4</th>\n",
       "      <td>2002</td>\n",
       "      <td>Nevada</td>\n",
       "      <td>2.9</td>\n",
       "    </tr>\n",
       "  </tbody>\n",
       "</table>\n",
       "</div>"
      ],
      "text/plain": [
       "   year   state  pop\n",
       "0  2000    Ohio  1.5\n",
       "1  2001    Ohio  1.7\n",
       "2  2002    Ohio  3.6\n",
       "3  2001  Nevada  2.4\n",
       "4  2002  Nevada  2.9"
      ]
     },
     "execution_count": 24,
     "metadata": {},
     "output_type": "execute_result"
    }
   ],
   "source": [
    "DataFrame(data, columns=['year','state','pop'])"
   ]
  },
  {
   "cell_type": "code",
   "execution_count": 25,
   "metadata": {
    "collapsed": false
   },
   "outputs": [
    {
     "data": {
      "text/html": [
       "<div>\n",
       "<table border=\"1\" class=\"dataframe\">\n",
       "  <thead>\n",
       "    <tr style=\"text-align: right;\">\n",
       "      <th></th>\n",
       "      <th>year</th>\n",
       "      <th>state</th>\n",
       "      <th>pop</th>\n",
       "      <th>debt</th>\n",
       "    </tr>\n",
       "  </thead>\n",
       "  <tbody>\n",
       "    <tr>\n",
       "      <th>one</th>\n",
       "      <td>2000</td>\n",
       "      <td>Ohio</td>\n",
       "      <td>1.5</td>\n",
       "      <td>NaN</td>\n",
       "    </tr>\n",
       "    <tr>\n",
       "      <th>two</th>\n",
       "      <td>2001</td>\n",
       "      <td>Ohio</td>\n",
       "      <td>1.7</td>\n",
       "      <td>NaN</td>\n",
       "    </tr>\n",
       "    <tr>\n",
       "      <th>three</th>\n",
       "      <td>2002</td>\n",
       "      <td>Ohio</td>\n",
       "      <td>3.6</td>\n",
       "      <td>NaN</td>\n",
       "    </tr>\n",
       "    <tr>\n",
       "      <th>four</th>\n",
       "      <td>2001</td>\n",
       "      <td>Nevada</td>\n",
       "      <td>2.4</td>\n",
       "      <td>NaN</td>\n",
       "    </tr>\n",
       "    <tr>\n",
       "      <th>five</th>\n",
       "      <td>2002</td>\n",
       "      <td>Nevada</td>\n",
       "      <td>2.9</td>\n",
       "      <td>NaN</td>\n",
       "    </tr>\n",
       "  </tbody>\n",
       "</table>\n",
       "</div>"
      ],
      "text/plain": [
       "       year   state  pop debt\n",
       "one    2000    Ohio  1.5  NaN\n",
       "two    2001    Ohio  1.7  NaN\n",
       "three  2002    Ohio  3.6  NaN\n",
       "four   2001  Nevada  2.4  NaN\n",
       "five   2002  Nevada  2.9  NaN"
      ]
     },
     "execution_count": 25,
     "metadata": {},
     "output_type": "execute_result"
    }
   ],
   "source": [
    "frame2 = DataFrame(data, columns=['year', 'state','pop','debt'], index= ['one', 'two','three','four','five'])\n",
    "frame2"
   ]
  },
  {
   "cell_type": "code",
   "execution_count": 26,
   "metadata": {
    "collapsed": false
   },
   "outputs": [
    {
     "data": {
      "text/plain": [
       "one      2000\n",
       "two      2001\n",
       "three    2002\n",
       "four     2001\n",
       "five     2002\n",
       "Name: year, dtype: int64"
      ]
     },
     "execution_count": 26,
     "metadata": {},
     "output_type": "execute_result"
    }
   ],
   "source": [
    "frame2['year']"
   ]
  },
  {
   "cell_type": "code",
   "execution_count": 27,
   "metadata": {
    "collapsed": false
   },
   "outputs": [
    {
     "data": {
      "text/plain": [
       "one      2000\n",
       "two      2001\n",
       "three    2002\n",
       "four     2001\n",
       "five     2002\n",
       "Name: year, dtype: int64"
      ]
     },
     "execution_count": 27,
     "metadata": {},
     "output_type": "execute_result"
    }
   ],
   "source": [
    "frame2.year"
   ]
  },
  {
   "cell_type": "code",
   "execution_count": 28,
   "metadata": {
    "collapsed": false
   },
   "outputs": [
    {
     "data": {
      "text/plain": [
       "year     2002\n",
       "state    Ohio\n",
       "pop       3.6\n",
       "debt      NaN\n",
       "Name: three, dtype: object"
      ]
     },
     "execution_count": 28,
     "metadata": {},
     "output_type": "execute_result"
    }
   ],
   "source": [
    "frame2.ix['three']"
   ]
  },
  {
   "cell_type": "code",
   "execution_count": 29,
   "metadata": {
    "collapsed": false
   },
   "outputs": [
    {
     "data": {
      "text/plain": [
       "year     2002\n",
       "state    Ohio\n",
       "pop       3.6\n",
       "debt      NaN\n",
       "Name: three, dtype: object"
      ]
     },
     "execution_count": 29,
     "metadata": {},
     "output_type": "execute_result"
    }
   ],
   "source": [
    "frame2.ix[2]"
   ]
  },
  {
   "cell_type": "code",
   "execution_count": 30,
   "metadata": {
    "collapsed": false
   },
   "outputs": [
    {
     "data": {
      "text/plain": [
       "pandas.core.series.Series"
      ]
     },
     "execution_count": 30,
     "metadata": {},
     "output_type": "execute_result"
    }
   ],
   "source": [
    "type(frame2.year)"
   ]
  },
  {
   "cell_type": "code",
   "execution_count": 31,
   "metadata": {
    "collapsed": false
   },
   "outputs": [
    {
     "data": {
      "text/plain": [
       "pandas.core.series.Series"
      ]
     },
     "execution_count": 31,
     "metadata": {},
     "output_type": "execute_result"
    }
   ],
   "source": [
    "type(frame2.ix[2])"
   ]
  },
  {
   "cell_type": "code",
   "execution_count": 32,
   "metadata": {
    "collapsed": false
   },
   "outputs": [
    {
     "data": {
      "text/html": [
       "<div>\n",
       "<table border=\"1\" class=\"dataframe\">\n",
       "  <thead>\n",
       "    <tr style=\"text-align: right;\">\n",
       "      <th></th>\n",
       "      <th>year</th>\n",
       "      <th>state</th>\n",
       "      <th>pop</th>\n",
       "      <th>debt</th>\n",
       "    </tr>\n",
       "  </thead>\n",
       "  <tbody>\n",
       "    <tr>\n",
       "      <th>one</th>\n",
       "      <td>2000</td>\n",
       "      <td>Ohio</td>\n",
       "      <td>1.5</td>\n",
       "      <td>16.5</td>\n",
       "    </tr>\n",
       "    <tr>\n",
       "      <th>two</th>\n",
       "      <td>2001</td>\n",
       "      <td>Ohio</td>\n",
       "      <td>1.7</td>\n",
       "      <td>16.5</td>\n",
       "    </tr>\n",
       "    <tr>\n",
       "      <th>three</th>\n",
       "      <td>2002</td>\n",
       "      <td>Ohio</td>\n",
       "      <td>3.6</td>\n",
       "      <td>16.5</td>\n",
       "    </tr>\n",
       "    <tr>\n",
       "      <th>four</th>\n",
       "      <td>2001</td>\n",
       "      <td>Nevada</td>\n",
       "      <td>2.4</td>\n",
       "      <td>16.5</td>\n",
       "    </tr>\n",
       "    <tr>\n",
       "      <th>five</th>\n",
       "      <td>2002</td>\n",
       "      <td>Nevada</td>\n",
       "      <td>2.9</td>\n",
       "      <td>16.5</td>\n",
       "    </tr>\n",
       "  </tbody>\n",
       "</table>\n",
       "</div>"
      ],
      "text/plain": [
       "       year   state  pop  debt\n",
       "one    2000    Ohio  1.5  16.5\n",
       "two    2001    Ohio  1.7  16.5\n",
       "three  2002    Ohio  3.6  16.5\n",
       "four   2001  Nevada  2.4  16.5\n",
       "five   2002  Nevada  2.9  16.5"
      ]
     },
     "execution_count": 32,
     "metadata": {},
     "output_type": "execute_result"
    }
   ],
   "source": [
    "frame2['debt'] = 16.5\n",
    "frame2"
   ]
  },
  {
   "cell_type": "code",
   "execution_count": 33,
   "metadata": {
    "collapsed": false
   },
   "outputs": [
    {
     "data": {
      "text/html": [
       "<div>\n",
       "<table border=\"1\" class=\"dataframe\">\n",
       "  <thead>\n",
       "    <tr style=\"text-align: right;\">\n",
       "      <th></th>\n",
       "      <th>year</th>\n",
       "      <th>state</th>\n",
       "      <th>pop</th>\n",
       "      <th>debt</th>\n",
       "      <th>eastern</th>\n",
       "    </tr>\n",
       "  </thead>\n",
       "  <tbody>\n",
       "    <tr>\n",
       "      <th>one</th>\n",
       "      <td>2000</td>\n",
       "      <td>Ohio</td>\n",
       "      <td>1.5</td>\n",
       "      <td>16.5</td>\n",
       "      <td>True</td>\n",
       "    </tr>\n",
       "    <tr>\n",
       "      <th>two</th>\n",
       "      <td>2001</td>\n",
       "      <td>Ohio</td>\n",
       "      <td>1.7</td>\n",
       "      <td>16.5</td>\n",
       "      <td>True</td>\n",
       "    </tr>\n",
       "    <tr>\n",
       "      <th>three</th>\n",
       "      <td>2002</td>\n",
       "      <td>Ohio</td>\n",
       "      <td>3.6</td>\n",
       "      <td>16.5</td>\n",
       "      <td>True</td>\n",
       "    </tr>\n",
       "    <tr>\n",
       "      <th>four</th>\n",
       "      <td>2001</td>\n",
       "      <td>Nevada</td>\n",
       "      <td>2.4</td>\n",
       "      <td>16.5</td>\n",
       "      <td>False</td>\n",
       "    </tr>\n",
       "    <tr>\n",
       "      <th>five</th>\n",
       "      <td>2002</td>\n",
       "      <td>Nevada</td>\n",
       "      <td>2.9</td>\n",
       "      <td>16.5</td>\n",
       "      <td>False</td>\n",
       "    </tr>\n",
       "  </tbody>\n",
       "</table>\n",
       "</div>"
      ],
      "text/plain": [
       "       year   state  pop  debt eastern\n",
       "one    2000    Ohio  1.5  16.5    True\n",
       "two    2001    Ohio  1.7  16.5    True\n",
       "three  2002    Ohio  3.6  16.5    True\n",
       "four   2001  Nevada  2.4  16.5   False\n",
       "five   2002  Nevada  2.9  16.5   False"
      ]
     },
     "execution_count": 33,
     "metadata": {},
     "output_type": "execute_result"
    }
   ],
   "source": [
    "frame2['eastern'] = frame2.state == 'Ohio'\n",
    "frame2"
   ]
  },
  {
   "cell_type": "code",
   "execution_count": 34,
   "metadata": {
    "collapsed": false
   },
   "outputs": [
    {
     "data": {
      "text/html": [
       "<div>\n",
       "<table border=\"1\" class=\"dataframe\">\n",
       "  <thead>\n",
       "    <tr style=\"text-align: right;\">\n",
       "      <th></th>\n",
       "      <th>year</th>\n",
       "      <th>state</th>\n",
       "      <th>pop</th>\n",
       "      <th>debt</th>\n",
       "    </tr>\n",
       "  </thead>\n",
       "  <tbody>\n",
       "    <tr>\n",
       "      <th>one</th>\n",
       "      <td>2000</td>\n",
       "      <td>Ohio</td>\n",
       "      <td>1.5</td>\n",
       "      <td>16.5</td>\n",
       "    </tr>\n",
       "    <tr>\n",
       "      <th>two</th>\n",
       "      <td>2001</td>\n",
       "      <td>Ohio</td>\n",
       "      <td>1.7</td>\n",
       "      <td>16.5</td>\n",
       "    </tr>\n",
       "    <tr>\n",
       "      <th>three</th>\n",
       "      <td>2002</td>\n",
       "      <td>Ohio</td>\n",
       "      <td>3.6</td>\n",
       "      <td>16.5</td>\n",
       "    </tr>\n",
       "    <tr>\n",
       "      <th>four</th>\n",
       "      <td>2001</td>\n",
       "      <td>Nevada</td>\n",
       "      <td>2.4</td>\n",
       "      <td>16.5</td>\n",
       "    </tr>\n",
       "    <tr>\n",
       "      <th>five</th>\n",
       "      <td>2002</td>\n",
       "      <td>Nevada</td>\n",
       "      <td>2.9</td>\n",
       "      <td>16.5</td>\n",
       "    </tr>\n",
       "  </tbody>\n",
       "</table>\n",
       "</div>"
      ],
      "text/plain": [
       "       year   state  pop  debt\n",
       "one    2000    Ohio  1.5  16.5\n",
       "two    2001    Ohio  1.7  16.5\n",
       "three  2002    Ohio  3.6  16.5\n",
       "four   2001  Nevada  2.4  16.5\n",
       "five   2002  Nevada  2.9  16.5"
      ]
     },
     "execution_count": 34,
     "metadata": {},
     "output_type": "execute_result"
    }
   ],
   "source": [
    "del frame2['eastern']\n",
    "frame2"
   ]
  },
  {
   "cell_type": "code",
   "execution_count": 37,
   "metadata": {
    "collapsed": false
   },
   "outputs": [
    {
     "data": {
      "text/plain": [
       "Index(['year', 'state', 'pop', 'debt'], dtype='object')"
      ]
     },
     "execution_count": 37,
     "metadata": {},
     "output_type": "execute_result"
    }
   ],
   "source": [
    "frame2.columns"
   ]
  },
  {
   "cell_type": "code",
   "execution_count": 38,
   "metadata": {
    "collapsed": false
   },
   "outputs": [
    {
     "data": {
      "text/plain": [
       "True"
      ]
     },
     "execution_count": 38,
     "metadata": {},
     "output_type": "execute_result"
    }
   ],
   "source": [
    "'state' in frame2.columns"
   ]
  },
  {
   "cell_type": "code",
   "execution_count": 39,
   "metadata": {
    "collapsed": false
   },
   "outputs": [
    {
     "data": {
      "text/plain": [
       "True"
      ]
     },
     "execution_count": 39,
     "metadata": {},
     "output_type": "execute_result"
    }
   ],
   "source": [
    "'two' in frame2.index"
   ]
  },
  {
   "cell_type": "code",
   "execution_count": 40,
   "metadata": {
    "collapsed": false
   },
   "outputs": [
    {
     "data": {
      "text/html": [
       "<div>\n",
       "<table border=\"1\" class=\"dataframe\">\n",
       "  <thead>\n",
       "    <tr style=\"text-align: right;\">\n",
       "      <th></th>\n",
       "      <th>one</th>\n",
       "      <th>two</th>\n",
       "      <th>three</th>\n",
       "      <th>four</th>\n",
       "      <th>five</th>\n",
       "    </tr>\n",
       "  </thead>\n",
       "  <tbody>\n",
       "    <tr>\n",
       "      <th>year</th>\n",
       "      <td>2000</td>\n",
       "      <td>2001</td>\n",
       "      <td>2002</td>\n",
       "      <td>2001</td>\n",
       "      <td>2002</td>\n",
       "    </tr>\n",
       "    <tr>\n",
       "      <th>state</th>\n",
       "      <td>Ohio</td>\n",
       "      <td>Ohio</td>\n",
       "      <td>Ohio</td>\n",
       "      <td>Nevada</td>\n",
       "      <td>Nevada</td>\n",
       "    </tr>\n",
       "    <tr>\n",
       "      <th>pop</th>\n",
       "      <td>1.5</td>\n",
       "      <td>1.7</td>\n",
       "      <td>3.6</td>\n",
       "      <td>2.4</td>\n",
       "      <td>2.9</td>\n",
       "    </tr>\n",
       "    <tr>\n",
       "      <th>debt</th>\n",
       "      <td>16.5</td>\n",
       "      <td>16.5</td>\n",
       "      <td>16.5</td>\n",
       "      <td>16.5</td>\n",
       "      <td>16.5</td>\n",
       "    </tr>\n",
       "  </tbody>\n",
       "</table>\n",
       "</div>"
      ],
      "text/plain": [
       "        one   two three    four    five\n",
       "year   2000  2001  2002    2001    2002\n",
       "state  Ohio  Ohio  Ohio  Nevada  Nevada\n",
       "pop     1.5   1.7   3.6     2.4     2.9\n",
       "debt   16.5  16.5  16.5    16.5    16.5"
      ]
     },
     "execution_count": 40,
     "metadata": {},
     "output_type": "execute_result"
    }
   ],
   "source": [
    "frame2.T"
   ]
  },
  {
   "cell_type": "code",
   "execution_count": 41,
   "metadata": {
    "collapsed": false
   },
   "outputs": [
    {
     "data": {
      "text/plain": [
       "array([[2000, 'Ohio', 1.5, 16.5],\n",
       "       [2001, 'Ohio', 1.7, 16.5],\n",
       "       [2002, 'Ohio', 3.6, 16.5],\n",
       "       [2001, 'Nevada', 2.4, 16.5],\n",
       "       [2002, 'Nevada', 2.9, 16.5]], dtype=object)"
      ]
     },
     "execution_count": 41,
     "metadata": {},
     "output_type": "execute_result"
    }
   ],
   "source": [
    "frame2.values"
   ]
  },
  {
   "cell_type": "markdown",
   "metadata": {},
   "source": [
    "### 5.2.1 Reindex"
   ]
  },
  {
   "cell_type": "code",
   "execution_count": 42,
   "metadata": {
    "collapsed": false
   },
   "outputs": [
    {
     "data": {
      "text/plain": [
       "d    6\n",
       "b    7\n",
       "a   -5\n",
       "c    3\n",
       "dtype: int64"
      ]
     },
     "execution_count": 42,
     "metadata": {},
     "output_type": "execute_result"
    }
   ],
   "source": [
    "ser2"
   ]
  },
  {
   "cell_type": "code",
   "execution_count": 43,
   "metadata": {
    "collapsed": false
   },
   "outputs": [
    {
     "data": {
      "text/plain": [
       "a    -5\n",
       "b     7\n",
       "c     3\n",
       "d     6\n",
       "e   NaN\n",
       "dtype: float64"
      ]
     },
     "execution_count": 43,
     "metadata": {},
     "output_type": "execute_result"
    }
   ],
   "source": [
    "ser2.reindex(['a','b','c','d','e'])"
   ]
  },
  {
   "cell_type": "code",
   "execution_count": 44,
   "metadata": {
    "collapsed": false
   },
   "outputs": [
    {
     "data": {
      "text/plain": [
       "a   -5\n",
       "b    7\n",
       "c    3\n",
       "d    6\n",
       "e    0\n",
       "dtype: int64"
      ]
     },
     "execution_count": 44,
     "metadata": {},
     "output_type": "execute_result"
    }
   ],
   "source": [
    "ser2.reindex(['a','b','c','d','e'], fill_value=0)"
   ]
  },
  {
   "cell_type": "code",
   "execution_count": 45,
   "metadata": {
    "collapsed": false
   },
   "outputs": [
    {
     "data": {
      "text/html": [
       "<div>\n",
       "<table border=\"1\" class=\"dataframe\">\n",
       "  <thead>\n",
       "    <tr style=\"text-align: right;\">\n",
       "      <th></th>\n",
       "      <th>pop</th>\n",
       "      <th>state</th>\n",
       "      <th>year</th>\n",
       "    </tr>\n",
       "  </thead>\n",
       "  <tbody>\n",
       "    <tr>\n",
       "      <th>0</th>\n",
       "      <td>1.5</td>\n",
       "      <td>Ohio</td>\n",
       "      <td>2000</td>\n",
       "    </tr>\n",
       "    <tr>\n",
       "      <th>1</th>\n",
       "      <td>1.7</td>\n",
       "      <td>Ohio</td>\n",
       "      <td>2001</td>\n",
       "    </tr>\n",
       "    <tr>\n",
       "      <th>2</th>\n",
       "      <td>3.6</td>\n",
       "      <td>Ohio</td>\n",
       "      <td>2002</td>\n",
       "    </tr>\n",
       "    <tr>\n",
       "      <th>3</th>\n",
       "      <td>2.4</td>\n",
       "      <td>Nevada</td>\n",
       "      <td>2001</td>\n",
       "    </tr>\n",
       "    <tr>\n",
       "      <th>4</th>\n",
       "      <td>2.9</td>\n",
       "      <td>Nevada</td>\n",
       "      <td>2002</td>\n",
       "    </tr>\n",
       "  </tbody>\n",
       "</table>\n",
       "</div>"
      ],
      "text/plain": [
       "   pop   state  year\n",
       "0  1.5    Ohio  2000\n",
       "1  1.7    Ohio  2001\n",
       "2  3.6    Ohio  2002\n",
       "3  2.4  Nevada  2001\n",
       "4  2.9  Nevada  2002"
      ]
     },
     "execution_count": 45,
     "metadata": {},
     "output_type": "execute_result"
    }
   ],
   "source": [
    "frame"
   ]
  },
  {
   "cell_type": "code",
   "execution_count": 46,
   "metadata": {
    "collapsed": false
   },
   "outputs": [
    {
     "data": {
      "text/html": [
       "<div>\n",
       "<table border=\"1\" class=\"dataframe\">\n",
       "  <thead>\n",
       "    <tr style=\"text-align: right;\">\n",
       "      <th></th>\n",
       "      <th>state</th>\n",
       "      <th>year</th>\n",
       "      <th>pop</th>\n",
       "      <th>debt</th>\n",
       "    </tr>\n",
       "  </thead>\n",
       "  <tbody>\n",
       "    <tr>\n",
       "      <th>0</th>\n",
       "      <td>Ohio</td>\n",
       "      <td>2000</td>\n",
       "      <td>1.5</td>\n",
       "      <td>NaN</td>\n",
       "    </tr>\n",
       "    <tr>\n",
       "      <th>1</th>\n",
       "      <td>Ohio</td>\n",
       "      <td>2001</td>\n",
       "      <td>1.7</td>\n",
       "      <td>NaN</td>\n",
       "    </tr>\n",
       "    <tr>\n",
       "      <th>2</th>\n",
       "      <td>Ohio</td>\n",
       "      <td>2002</td>\n",
       "      <td>3.6</td>\n",
       "      <td>NaN</td>\n",
       "    </tr>\n",
       "    <tr>\n",
       "      <th>3</th>\n",
       "      <td>Nevada</td>\n",
       "      <td>2001</td>\n",
       "      <td>2.4</td>\n",
       "      <td>NaN</td>\n",
       "    </tr>\n",
       "    <tr>\n",
       "      <th>4</th>\n",
       "      <td>Nevada</td>\n",
       "      <td>2002</td>\n",
       "      <td>2.9</td>\n",
       "      <td>NaN</td>\n",
       "    </tr>\n",
       "  </tbody>\n",
       "</table>\n",
       "</div>"
      ],
      "text/plain": [
       "    state  year  pop  debt\n",
       "0    Ohio  2000  1.5   NaN\n",
       "1    Ohio  2001  1.7   NaN\n",
       "2    Ohio  2002  3.6   NaN\n",
       "3  Nevada  2001  2.4   NaN\n",
       "4  Nevada  2002  2.9   NaN"
      ]
     },
     "execution_count": 46,
     "metadata": {},
     "output_type": "execute_result"
    }
   ],
   "source": [
    "frame.reindex(columns=['state','year','pop','debt'])"
   ]
  },
  {
   "cell_type": "code",
   "execution_count": 47,
   "metadata": {
    "collapsed": false
   },
   "outputs": [
    {
     "data": {
      "text/html": [
       "<div>\n",
       "<table border=\"1\" class=\"dataframe\">\n",
       "  <thead>\n",
       "    <tr style=\"text-align: right;\">\n",
       "      <th></th>\n",
       "      <th>state</th>\n",
       "      <th>year</th>\n",
       "      <th>pop</th>\n",
       "      <th>debt</th>\n",
       "    </tr>\n",
       "  </thead>\n",
       "  <tbody>\n",
       "    <tr>\n",
       "      <th>1</th>\n",
       "      <td>Ohio</td>\n",
       "      <td>2001</td>\n",
       "      <td>1.7</td>\n",
       "      <td>NaN</td>\n",
       "    </tr>\n",
       "    <tr>\n",
       "      <th>2</th>\n",
       "      <td>Ohio</td>\n",
       "      <td>2002</td>\n",
       "      <td>3.6</td>\n",
       "      <td>NaN</td>\n",
       "    </tr>\n",
       "    <tr>\n",
       "      <th>4</th>\n",
       "      <td>Nevada</td>\n",
       "      <td>2002</td>\n",
       "      <td>2.9</td>\n",
       "      <td>NaN</td>\n",
       "    </tr>\n",
       "    <tr>\n",
       "      <th>3</th>\n",
       "      <td>Nevada</td>\n",
       "      <td>2001</td>\n",
       "      <td>2.4</td>\n",
       "      <td>NaN</td>\n",
       "    </tr>\n",
       "    <tr>\n",
       "      <th>0</th>\n",
       "      <td>Ohio</td>\n",
       "      <td>2000</td>\n",
       "      <td>1.5</td>\n",
       "      <td>NaN</td>\n",
       "    </tr>\n",
       "  </tbody>\n",
       "</table>\n",
       "</div>"
      ],
      "text/plain": [
       "    state  year  pop  debt\n",
       "1    Ohio  2001  1.7   NaN\n",
       "2    Ohio  2002  3.6   NaN\n",
       "4  Nevada  2002  2.9   NaN\n",
       "3  Nevada  2001  2.4   NaN\n",
       "0    Ohio  2000  1.5   NaN"
      ]
     },
     "execution_count": 47,
     "metadata": {},
     "output_type": "execute_result"
    }
   ],
   "source": [
    "frame.reindex(columns=['state','year','pop','debt'], index=[1,2,4,3,0])"
   ]
  },
  {
   "cell_type": "code",
   "execution_count": 48,
   "metadata": {
    "collapsed": false
   },
   "outputs": [
    {
     "data": {
      "text/html": [
       "<div>\n",
       "<table border=\"1\" class=\"dataframe\">\n",
       "  <thead>\n",
       "    <tr style=\"text-align: right;\">\n",
       "      <th></th>\n",
       "      <th>year</th>\n",
       "      <th>pop</th>\n",
       "    </tr>\n",
       "  </thead>\n",
       "  <tbody>\n",
       "    <tr>\n",
       "      <th>2</th>\n",
       "      <td>2002</td>\n",
       "      <td>3.6</td>\n",
       "    </tr>\n",
       "    <tr>\n",
       "      <th>3</th>\n",
       "      <td>2001</td>\n",
       "      <td>2.4</td>\n",
       "    </tr>\n",
       "  </tbody>\n",
       "</table>\n",
       "</div>"
      ],
      "text/plain": [
       "   year  pop\n",
       "2  2002  3.6\n",
       "3  2001  2.4"
      ]
     },
     "execution_count": 48,
     "metadata": {},
     "output_type": "execute_result"
    }
   ],
   "source": [
    "frame.ix[[2,3], ['year','pop']]"
   ]
  },
  {
   "cell_type": "markdown",
   "metadata": {},
   "source": [
    "### DataFrame 연산"
   ]
  },
  {
   "cell_type": "code",
   "execution_count": 49,
   "metadata": {
    "collapsed": false
   },
   "outputs": [
    {
     "data": {
      "text/html": [
       "<div>\n",
       "<table border=\"1\" class=\"dataframe\">\n",
       "  <thead>\n",
       "    <tr style=\"text-align: right;\">\n",
       "      <th></th>\n",
       "      <th>year</th>\n",
       "      <th>state</th>\n",
       "      <th>pop</th>\n",
       "      <th>debt</th>\n",
       "    </tr>\n",
       "  </thead>\n",
       "  <tbody>\n",
       "    <tr>\n",
       "      <th>one</th>\n",
       "      <td>2000</td>\n",
       "      <td>Ohio</td>\n",
       "      <td>1.5</td>\n",
       "      <td>16.5</td>\n",
       "    </tr>\n",
       "    <tr>\n",
       "      <th>two</th>\n",
       "      <td>2001</td>\n",
       "      <td>Ohio</td>\n",
       "      <td>1.7</td>\n",
       "      <td>16.5</td>\n",
       "    </tr>\n",
       "    <tr>\n",
       "      <th>three</th>\n",
       "      <td>2002</td>\n",
       "      <td>Ohio</td>\n",
       "      <td>3.6</td>\n",
       "      <td>16.5</td>\n",
       "    </tr>\n",
       "    <tr>\n",
       "      <th>four</th>\n",
       "      <td>2001</td>\n",
       "      <td>Nevada</td>\n",
       "      <td>2.4</td>\n",
       "      <td>16.5</td>\n",
       "    </tr>\n",
       "    <tr>\n",
       "      <th>five</th>\n",
       "      <td>2002</td>\n",
       "      <td>Nevada</td>\n",
       "      <td>2.9</td>\n",
       "      <td>16.5</td>\n",
       "    </tr>\n",
       "  </tbody>\n",
       "</table>\n",
       "</div>"
      ],
      "text/plain": [
       "       year   state  pop  debt\n",
       "one    2000    Ohio  1.5  16.5\n",
       "two    2001    Ohio  1.7  16.5\n",
       "three  2002    Ohio  3.6  16.5\n",
       "four   2001  Nevada  2.4  16.5\n",
       "five   2002  Nevada  2.9  16.5"
      ]
     },
     "execution_count": 49,
     "metadata": {},
     "output_type": "execute_result"
    }
   ],
   "source": [
    "frame2"
   ]
  },
  {
   "cell_type": "code",
   "execution_count": 50,
   "metadata": {
    "collapsed": false
   },
   "outputs": [
    {
     "data": {
      "text/html": [
       "<div>\n",
       "<table border=\"1\" class=\"dataframe\">\n",
       "  <thead>\n",
       "    <tr style=\"text-align: right;\">\n",
       "      <th></th>\n",
       "      <th>year</th>\n",
       "      <th>state</th>\n",
       "      <th>pop</th>\n",
       "      <th>debt</th>\n",
       "    </tr>\n",
       "  </thead>\n",
       "  <tbody>\n",
       "    <tr>\n",
       "      <th>one</th>\n",
       "      <td>2000</td>\n",
       "      <td>Ohio</td>\n",
       "      <td>1.5</td>\n",
       "      <td>16.5</td>\n",
       "    </tr>\n",
       "    <tr>\n",
       "      <th>three</th>\n",
       "      <td>2002</td>\n",
       "      <td>Ohio</td>\n",
       "      <td>3.6</td>\n",
       "      <td>16.5</td>\n",
       "    </tr>\n",
       "    <tr>\n",
       "      <th>four</th>\n",
       "      <td>2001</td>\n",
       "      <td>Nevada</td>\n",
       "      <td>2.4</td>\n",
       "      <td>16.5</td>\n",
       "    </tr>\n",
       "    <tr>\n",
       "      <th>five</th>\n",
       "      <td>2002</td>\n",
       "      <td>Nevada</td>\n",
       "      <td>2.9</td>\n",
       "      <td>16.5</td>\n",
       "    </tr>\n",
       "  </tbody>\n",
       "</table>\n",
       "</div>"
      ],
      "text/plain": [
       "       year   state  pop  debt\n",
       "one    2000    Ohio  1.5  16.5\n",
       "three  2002    Ohio  3.6  16.5\n",
       "four   2001  Nevada  2.4  16.5\n",
       "five   2002  Nevada  2.9  16.5"
      ]
     },
     "execution_count": 50,
     "metadata": {},
     "output_type": "execute_result"
    }
   ],
   "source": [
    "frame2.drop('two')"
   ]
  },
  {
   "cell_type": "code",
   "execution_count": 51,
   "metadata": {
    "collapsed": false
   },
   "outputs": [
    {
     "data": {
      "text/html": [
       "<div>\n",
       "<table border=\"1\" class=\"dataframe\">\n",
       "  <thead>\n",
       "    <tr style=\"text-align: right;\">\n",
       "      <th></th>\n",
       "      <th>year</th>\n",
       "      <th>state</th>\n",
       "      <th>pop</th>\n",
       "    </tr>\n",
       "  </thead>\n",
       "  <tbody>\n",
       "    <tr>\n",
       "      <th>one</th>\n",
       "      <td>2000</td>\n",
       "      <td>Ohio</td>\n",
       "      <td>1.5</td>\n",
       "    </tr>\n",
       "    <tr>\n",
       "      <th>two</th>\n",
       "      <td>2001</td>\n",
       "      <td>Ohio</td>\n",
       "      <td>1.7</td>\n",
       "    </tr>\n",
       "    <tr>\n",
       "      <th>three</th>\n",
       "      <td>2002</td>\n",
       "      <td>Ohio</td>\n",
       "      <td>3.6</td>\n",
       "    </tr>\n",
       "    <tr>\n",
       "      <th>four</th>\n",
       "      <td>2001</td>\n",
       "      <td>Nevada</td>\n",
       "      <td>2.4</td>\n",
       "    </tr>\n",
       "    <tr>\n",
       "      <th>five</th>\n",
       "      <td>2002</td>\n",
       "      <td>Nevada</td>\n",
       "      <td>2.9</td>\n",
       "    </tr>\n",
       "  </tbody>\n",
       "</table>\n",
       "</div>"
      ],
      "text/plain": [
       "       year   state  pop\n",
       "one    2000    Ohio  1.5\n",
       "two    2001    Ohio  1.7\n",
       "three  2002    Ohio  3.6\n",
       "four   2001  Nevada  2.4\n",
       "five   2002  Nevada  2.9"
      ]
     },
     "execution_count": 51,
     "metadata": {},
     "output_type": "execute_result"
    }
   ],
   "source": [
    "frame2.drop('debt',axis=1)"
   ]
  },
  {
   "cell_type": "code",
   "execution_count": 52,
   "metadata": {
    "collapsed": false
   },
   "outputs": [
    {
     "data": {
      "text/html": [
       "<div>\n",
       "<table border=\"1\" class=\"dataframe\">\n",
       "  <thead>\n",
       "    <tr style=\"text-align: right;\">\n",
       "      <th></th>\n",
       "      <th>year</th>\n",
       "      <th>state</th>\n",
       "      <th>pop</th>\n",
       "      <th>debt</th>\n",
       "    </tr>\n",
       "  </thead>\n",
       "  <tbody>\n",
       "    <tr>\n",
       "      <th>one</th>\n",
       "      <td>2000</td>\n",
       "      <td>Ohio</td>\n",
       "      <td>1.5</td>\n",
       "      <td>16.5</td>\n",
       "    </tr>\n",
       "    <tr>\n",
       "      <th>two</th>\n",
       "      <td>2001</td>\n",
       "      <td>Ohio</td>\n",
       "      <td>1.7</td>\n",
       "      <td>16.5</td>\n",
       "    </tr>\n",
       "    <tr>\n",
       "      <th>three</th>\n",
       "      <td>2002</td>\n",
       "      <td>Ohio</td>\n",
       "      <td>3.6</td>\n",
       "      <td>16.5</td>\n",
       "    </tr>\n",
       "    <tr>\n",
       "      <th>four</th>\n",
       "      <td>2001</td>\n",
       "      <td>Nevada</td>\n",
       "      <td>2.4</td>\n",
       "      <td>16.5</td>\n",
       "    </tr>\n",
       "    <tr>\n",
       "      <th>five</th>\n",
       "      <td>2002</td>\n",
       "      <td>Nevada</td>\n",
       "      <td>2.9</td>\n",
       "      <td>16.5</td>\n",
       "    </tr>\n",
       "  </tbody>\n",
       "</table>\n",
       "</div>"
      ],
      "text/plain": [
       "       year   state  pop  debt\n",
       "one    2000    Ohio  1.5  16.5\n",
       "two    2001    Ohio  1.7  16.5\n",
       "three  2002    Ohio  3.6  16.5\n",
       "four   2001  Nevada  2.4  16.5\n",
       "five   2002  Nevada  2.9  16.5"
      ]
     },
     "execution_count": 52,
     "metadata": {},
     "output_type": "execute_result"
    }
   ],
   "source": [
    "frame2"
   ]
  },
  {
   "cell_type": "code",
   "execution_count": 53,
   "metadata": {
    "collapsed": false
   },
   "outputs": [
    {
     "data": {
      "text/html": [
       "<div>\n",
       "<table border=\"1\" class=\"dataframe\">\n",
       "  <thead>\n",
       "    <tr style=\"text-align: right;\">\n",
       "      <th></th>\n",
       "      <th>year</th>\n",
       "      <th>state</th>\n",
       "      <th>pop</th>\n",
       "      <th>debt</th>\n",
       "    </tr>\n",
       "  </thead>\n",
       "  <tbody>\n",
       "    <tr>\n",
       "      <th>three</th>\n",
       "      <td>2002</td>\n",
       "      <td>Ohio</td>\n",
       "      <td>3.6</td>\n",
       "      <td>16.5</td>\n",
       "    </tr>\n",
       "    <tr>\n",
       "      <th>five</th>\n",
       "      <td>2002</td>\n",
       "      <td>Nevada</td>\n",
       "      <td>2.9</td>\n",
       "      <td>16.5</td>\n",
       "    </tr>\n",
       "  </tbody>\n",
       "</table>\n",
       "</div>"
      ],
      "text/plain": [
       "       year   state  pop  debt\n",
       "three  2002    Ohio  3.6  16.5\n",
       "five   2002  Nevada  2.9  16.5"
      ]
     },
     "execution_count": 53,
     "metadata": {},
     "output_type": "execute_result"
    }
   ],
   "source": [
    "frame2.ix[frame2.year > 2001]"
   ]
  },
  {
   "cell_type": "code",
   "execution_count": 54,
   "metadata": {
    "collapsed": false
   },
   "outputs": [
    {
     "data": {
      "text/html": [
       "<div>\n",
       "<table border=\"1\" class=\"dataframe\">\n",
       "  <thead>\n",
       "    <tr style=\"text-align: right;\">\n",
       "      <th></th>\n",
       "      <th>state</th>\n",
       "      <th>pop</th>\n",
       "      <th>debt</th>\n",
       "    </tr>\n",
       "  </thead>\n",
       "  <tbody>\n",
       "    <tr>\n",
       "      <th>three</th>\n",
       "      <td>Ohio</td>\n",
       "      <td>3.6</td>\n",
       "      <td>16.5</td>\n",
       "    </tr>\n",
       "    <tr>\n",
       "      <th>five</th>\n",
       "      <td>Nevada</td>\n",
       "      <td>2.9</td>\n",
       "      <td>16.5</td>\n",
       "    </tr>\n",
       "  </tbody>\n",
       "</table>\n",
       "</div>"
      ],
      "text/plain": [
       "        state  pop  debt\n",
       "three    Ohio  3.6  16.5\n",
       "five   Nevada  2.9  16.5"
      ]
     },
     "execution_count": 54,
     "metadata": {},
     "output_type": "execute_result"
    }
   ],
   "source": [
    "frame2.ix[frame2.year > 2001, 1:]"
   ]
  },
  {
   "cell_type": "code",
   "execution_count": 55,
   "metadata": {
    "collapsed": false
   },
   "outputs": [
    {
     "data": {
      "text/html": [
       "<div>\n",
       "<table border=\"1\" class=\"dataframe\">\n",
       "  <thead>\n",
       "    <tr style=\"text-align: right;\">\n",
       "      <th></th>\n",
       "      <th>year</th>\n",
       "      <th>state</th>\n",
       "      <th>pop</th>\n",
       "      <th>debt</th>\n",
       "    </tr>\n",
       "  </thead>\n",
       "  <tbody>\n",
       "    <tr>\n",
       "      <th>one</th>\n",
       "      <td>4000</td>\n",
       "      <td>OhioOhio</td>\n",
       "      <td>3.0</td>\n",
       "      <td>33</td>\n",
       "    </tr>\n",
       "    <tr>\n",
       "      <th>two</th>\n",
       "      <td>4002</td>\n",
       "      <td>OhioOhio</td>\n",
       "      <td>3.4</td>\n",
       "      <td>33</td>\n",
       "    </tr>\n",
       "    <tr>\n",
       "      <th>three</th>\n",
       "      <td>4004</td>\n",
       "      <td>OhioOhio</td>\n",
       "      <td>7.2</td>\n",
       "      <td>33</td>\n",
       "    </tr>\n",
       "    <tr>\n",
       "      <th>four</th>\n",
       "      <td>4002</td>\n",
       "      <td>NevadaNevada</td>\n",
       "      <td>4.8</td>\n",
       "      <td>33</td>\n",
       "    </tr>\n",
       "    <tr>\n",
       "      <th>five</th>\n",
       "      <td>4004</td>\n",
       "      <td>NevadaNevada</td>\n",
       "      <td>5.8</td>\n",
       "      <td>33</td>\n",
       "    </tr>\n",
       "  </tbody>\n",
       "</table>\n",
       "</div>"
      ],
      "text/plain": [
       "       year         state  pop  debt\n",
       "one    4000      OhioOhio  3.0    33\n",
       "two    4002      OhioOhio  3.4    33\n",
       "three  4004      OhioOhio  7.2    33\n",
       "four   4002  NevadaNevada  4.8    33\n",
       "five   4004  NevadaNevada  5.8    33"
      ]
     },
     "execution_count": 55,
     "metadata": {},
     "output_type": "execute_result"
    }
   ],
   "source": [
    "frame2 + frame2"
   ]
  },
  {
   "cell_type": "code",
   "execution_count": 56,
   "metadata": {
    "collapsed": false
   },
   "outputs": [
    {
     "data": {
      "text/html": [
       "<div>\n",
       "<table border=\"1\" class=\"dataframe\">\n",
       "  <thead>\n",
       "    <tr style=\"text-align: right;\">\n",
       "      <th></th>\n",
       "      <th>a</th>\n",
       "      <th>b</th>\n",
       "      <th>c</th>\n",
       "    </tr>\n",
       "  </thead>\n",
       "  <tbody>\n",
       "    <tr>\n",
       "      <th>Utah</th>\n",
       "      <td>0</td>\n",
       "      <td>1</td>\n",
       "      <td>2</td>\n",
       "    </tr>\n",
       "    <tr>\n",
       "      <th>Ohio</th>\n",
       "      <td>3</td>\n",
       "      <td>4</td>\n",
       "      <td>5</td>\n",
       "    </tr>\n",
       "    <tr>\n",
       "      <th>Texas</th>\n",
       "      <td>6</td>\n",
       "      <td>7</td>\n",
       "      <td>8</td>\n",
       "    </tr>\n",
       "    <tr>\n",
       "      <th>Oregon</th>\n",
       "      <td>9</td>\n",
       "      <td>10</td>\n",
       "      <td>11</td>\n",
       "    </tr>\n",
       "  </tbody>\n",
       "</table>\n",
       "</div>"
      ],
      "text/plain": [
       "        a   b   c\n",
       "Utah    0   1   2\n",
       "Ohio    3   4   5\n",
       "Texas   6   7   8\n",
       "Oregon  9  10  11"
      ]
     },
     "execution_count": 56,
     "metadata": {},
     "output_type": "execute_result"
    }
   ],
   "source": [
    "frame3 = DataFrame(np.arange(12.).reshape((4,3)), columns=list('abc'),\n",
    "                   index=['Utah','Ohio','Texas','Oregon'])\n",
    "frame3"
   ]
  },
  {
   "cell_type": "code",
   "execution_count": 57,
   "metadata": {
    "collapsed": false
   },
   "outputs": [
    {
     "data": {
      "text/plain": [
       "a    0\n",
       "b    1\n",
       "c    2\n",
       "Name: Utah, dtype: float64"
      ]
     },
     "execution_count": 57,
     "metadata": {},
     "output_type": "execute_result"
    }
   ],
   "source": [
    "series = frame3.ix[0]\n",
    "series"
   ]
  },
  {
   "cell_type": "code",
   "execution_count": 58,
   "metadata": {
    "collapsed": false
   },
   "outputs": [
    {
     "data": {
      "text/html": [
       "<div>\n",
       "<table border=\"1\" class=\"dataframe\">\n",
       "  <thead>\n",
       "    <tr style=\"text-align: right;\">\n",
       "      <th></th>\n",
       "      <th>a</th>\n",
       "      <th>b</th>\n",
       "      <th>c</th>\n",
       "    </tr>\n",
       "  </thead>\n",
       "  <tbody>\n",
       "    <tr>\n",
       "      <th>Utah</th>\n",
       "      <td>0</td>\n",
       "      <td>0</td>\n",
       "      <td>0</td>\n",
       "    </tr>\n",
       "    <tr>\n",
       "      <th>Ohio</th>\n",
       "      <td>3</td>\n",
       "      <td>3</td>\n",
       "      <td>3</td>\n",
       "    </tr>\n",
       "    <tr>\n",
       "      <th>Texas</th>\n",
       "      <td>6</td>\n",
       "      <td>6</td>\n",
       "      <td>6</td>\n",
       "    </tr>\n",
       "    <tr>\n",
       "      <th>Oregon</th>\n",
       "      <td>9</td>\n",
       "      <td>9</td>\n",
       "      <td>9</td>\n",
       "    </tr>\n",
       "  </tbody>\n",
       "</table>\n",
       "</div>"
      ],
      "text/plain": [
       "        a  b  c\n",
       "Utah    0  0  0\n",
       "Ohio    3  3  3\n",
       "Texas   6  6  6\n",
       "Oregon  9  9  9"
      ]
     },
     "execution_count": 58,
     "metadata": {},
     "output_type": "execute_result"
    }
   ],
   "source": [
    "frame3 - series"
   ]
  },
  {
   "cell_type": "markdown",
   "metadata": {},
   "source": [
    "### 함수 적용"
   ]
  },
  {
   "cell_type": "code",
   "execution_count": 81,
   "metadata": {
    "collapsed": false
   },
   "outputs": [
    {
     "data": {
      "text/html": [
       "<div>\n",
       "<table border=\"1\" class=\"dataframe\">\n",
       "  <thead>\n",
       "    <tr style=\"text-align: right;\">\n",
       "      <th></th>\n",
       "      <th>a</th>\n",
       "      <th>b</th>\n",
       "      <th>c</th>\n",
       "    </tr>\n",
       "  </thead>\n",
       "  <tbody>\n",
       "    <tr>\n",
       "      <th>Utah</th>\n",
       "      <td>0</td>\n",
       "      <td>1</td>\n",
       "      <td>2</td>\n",
       "    </tr>\n",
       "    <tr>\n",
       "      <th>Ohio</th>\n",
       "      <td>3</td>\n",
       "      <td>4</td>\n",
       "      <td>5</td>\n",
       "    </tr>\n",
       "    <tr>\n",
       "      <th>Texas</th>\n",
       "      <td>6</td>\n",
       "      <td>7</td>\n",
       "      <td>8</td>\n",
       "    </tr>\n",
       "    <tr>\n",
       "      <th>Oregon</th>\n",
       "      <td>9</td>\n",
       "      <td>10</td>\n",
       "      <td>11</td>\n",
       "    </tr>\n",
       "  </tbody>\n",
       "</table>\n",
       "</div>"
      ],
      "text/plain": [
       "        a   b   c\n",
       "Utah    0   1   2\n",
       "Ohio    3   4   5\n",
       "Texas   6   7   8\n",
       "Oregon  9  10  11"
      ]
     },
     "execution_count": 81,
     "metadata": {},
     "output_type": "execute_result"
    }
   ],
   "source": [
    "frame3"
   ]
  },
  {
   "cell_type": "code",
   "execution_count": 59,
   "metadata": {
    "collapsed": false
   },
   "outputs": [
    {
     "data": {
      "text/plain": [
       "a    4.5\n",
       "b    5.5\n",
       "c    6.5\n",
       "dtype: float64"
      ]
     },
     "execution_count": 59,
     "metadata": {},
     "output_type": "execute_result"
    }
   ],
   "source": [
    "np.mean(frame3)"
   ]
  },
  {
   "cell_type": "code",
   "execution_count": 95,
   "metadata": {
    "collapsed": false
   },
   "outputs": [
    {
     "data": {
      "text/plain": [
       "2.0"
      ]
     },
     "execution_count": 95,
     "metadata": {},
     "output_type": "execute_result"
    }
   ],
   "source": [
    "np.mean([1,2,3])"
   ]
  },
  {
   "cell_type": "code",
   "execution_count": 60,
   "metadata": {
    "collapsed": false
   },
   "outputs": [
    {
     "data": {
      "text/plain": [
       "a    4.5\n",
       "b    5.5\n",
       "c    6.5\n",
       "dtype: float64"
      ]
     },
     "execution_count": 60,
     "metadata": {},
     "output_type": "execute_result"
    }
   ],
   "source": [
    "frame3.mean(skipna=False)"
   ]
  },
  {
   "cell_type": "code",
   "execution_count": 61,
   "metadata": {
    "collapsed": false
   },
   "outputs": [
    {
     "data": {
      "text/plain": [
       "a    18\n",
       "b    22\n",
       "c    26\n",
       "dtype: float64"
      ]
     },
     "execution_count": 61,
     "metadata": {},
     "output_type": "execute_result"
    }
   ],
   "source": [
    "frame3.sum()"
   ]
  },
  {
   "cell_type": "code",
   "execution_count": 62,
   "metadata": {
    "collapsed": false
   },
   "outputs": [
    {
     "data": {
      "text/plain": [
       "Utah       3\n",
       "Ohio      12\n",
       "Texas     21\n",
       "Oregon    30\n",
       "dtype: float64"
      ]
     },
     "execution_count": 62,
     "metadata": {},
     "output_type": "execute_result"
    }
   ],
   "source": [
    "frame3.sum(axis=1)"
   ]
  },
  {
   "cell_type": "code",
   "execution_count": 96,
   "metadata": {
    "collapsed": false
   },
   "outputs": [
    {
     "data": {
      "text/plain": [
       "a    9\n",
       "b    9\n",
       "c    9\n",
       "dtype: float64"
      ]
     },
     "execution_count": 96,
     "metadata": {},
     "output_type": "execute_result"
    }
   ],
   "source": [
    "f = lambda x: x.max() - x.min()\n",
    "frame3.apply(f)\n",
    "# p574"
   ]
  },
  {
   "cell_type": "code",
   "execution_count": 64,
   "metadata": {
    "collapsed": false
   },
   "outputs": [
    {
     "data": {
      "text/plain": [
       "Utah      2\n",
       "Ohio      2\n",
       "Texas     2\n",
       "Oregon    2\n",
       "dtype: float64"
      ]
     },
     "execution_count": 64,
     "metadata": {},
     "output_type": "execute_result"
    }
   ],
   "source": [
    "frame3.apply(f, axis=1)"
   ]
  },
  {
   "cell_type": "code",
   "execution_count": 65,
   "metadata": {
    "collapsed": true
   },
   "outputs": [],
   "source": [
    "def f(x):\n",
    "    return Series([x.min(),x.max()], index=['min','max'])"
   ]
  },
  {
   "cell_type": "code",
   "execution_count": 66,
   "metadata": {
    "collapsed": false
   },
   "outputs": [
    {
     "data": {
      "text/html": [
       "<div>\n",
       "<table border=\"1\" class=\"dataframe\">\n",
       "  <thead>\n",
       "    <tr style=\"text-align: right;\">\n",
       "      <th></th>\n",
       "      <th>a</th>\n",
       "      <th>b</th>\n",
       "      <th>c</th>\n",
       "    </tr>\n",
       "  </thead>\n",
       "  <tbody>\n",
       "    <tr>\n",
       "      <th>min</th>\n",
       "      <td>0</td>\n",
       "      <td>1</td>\n",
       "      <td>2</td>\n",
       "    </tr>\n",
       "    <tr>\n",
       "      <th>max</th>\n",
       "      <td>9</td>\n",
       "      <td>10</td>\n",
       "      <td>11</td>\n",
       "    </tr>\n",
       "  </tbody>\n",
       "</table>\n",
       "</div>"
      ],
      "text/plain": [
       "     a   b   c\n",
       "min  0   1   2\n",
       "max  9  10  11"
      ]
     },
     "execution_count": 66,
     "metadata": {},
     "output_type": "execute_result"
    }
   ],
   "source": [
    "frame3.apply(f)"
   ]
  },
  {
   "cell_type": "code",
   "execution_count": 67,
   "metadata": {
    "collapsed": true
   },
   "outputs": [],
   "source": [
    "def g(x):\n",
    "    print(x)\n",
    "    return len(x)"
   ]
  },
  {
   "cell_type": "code",
   "execution_count": 68,
   "metadata": {
    "collapsed": false
   },
   "outputs": [
    {
     "name": "stdout",
     "output_type": "stream",
     "text": [
      "Utah      0\n",
      "Ohio      3\n",
      "Texas     6\n",
      "Oregon    9\n",
      "Name: a, dtype: float64\n",
      "Utah       1\n",
      "Ohio       4\n",
      "Texas      7\n",
      "Oregon    10\n",
      "Name: b, dtype: float64\n",
      "Utah       2\n",
      "Ohio       5\n",
      "Texas      8\n",
      "Oregon    11\n",
      "Name: c, dtype: float64\n"
     ]
    },
    {
     "data": {
      "text/plain": [
       "a    4\n",
       "b    4\n",
       "c    4\n",
       "dtype: int64"
      ]
     },
     "execution_count": 68,
     "metadata": {},
     "output_type": "execute_result"
    }
   ],
   "source": [
    "frame3.apply(g)"
   ]
  },
  {
   "cell_type": "code",
   "execution_count": 69,
   "metadata": {
    "collapsed": false
   },
   "outputs": [
    {
     "data": {
      "text/html": [
       "<div>\n",
       "<table border=\"1\" class=\"dataframe\">\n",
       "  <thead>\n",
       "    <tr style=\"text-align: right;\">\n",
       "      <th></th>\n",
       "      <th>a</th>\n",
       "      <th>b</th>\n",
       "      <th>c</th>\n",
       "    </tr>\n",
       "  </thead>\n",
       "  <tbody>\n",
       "    <tr>\n",
       "      <th>Utah</th>\n",
       "      <td>0.0</td>\n",
       "      <td>0.5</td>\n",
       "      <td>1.0</td>\n",
       "    </tr>\n",
       "    <tr>\n",
       "      <th>Ohio</th>\n",
       "      <td>1.5</td>\n",
       "      <td>2.0</td>\n",
       "      <td>2.5</td>\n",
       "    </tr>\n",
       "    <tr>\n",
       "      <th>Texas</th>\n",
       "      <td>3.0</td>\n",
       "      <td>3.5</td>\n",
       "      <td>4.0</td>\n",
       "    </tr>\n",
       "    <tr>\n",
       "      <th>Oregon</th>\n",
       "      <td>4.5</td>\n",
       "      <td>5.0</td>\n",
       "      <td>5.5</td>\n",
       "    </tr>\n",
       "  </tbody>\n",
       "</table>\n",
       "</div>"
      ],
      "text/plain": [
       "          a    b    c\n",
       "Utah    0.0  0.5  1.0\n",
       "Ohio    1.5  2.0  2.5\n",
       "Texas   3.0  3.5  4.0\n",
       "Oregon  4.5  5.0  5.5"
      ]
     },
     "execution_count": 69,
     "metadata": {},
     "output_type": "execute_result"
    }
   ],
   "source": [
    "divf = lambda x: x / 2\n",
    "frame3.applymap(divf)"
   ]
  },
  {
   "cell_type": "markdown",
   "metadata": {},
   "source": [
    "### 정렬"
   ]
  },
  {
   "cell_type": "code",
   "execution_count": 70,
   "metadata": {
    "collapsed": false
   },
   "outputs": [
    {
     "data": {
      "text/html": [
       "<div>\n",
       "<table border=\"1\" class=\"dataframe\">\n",
       "  <thead>\n",
       "    <tr style=\"text-align: right;\">\n",
       "      <th></th>\n",
       "      <th>a</th>\n",
       "      <th>b</th>\n",
       "      <th>c</th>\n",
       "    </tr>\n",
       "  </thead>\n",
       "  <tbody>\n",
       "    <tr>\n",
       "      <th>Ohio</th>\n",
       "      <td>3</td>\n",
       "      <td>4</td>\n",
       "      <td>5</td>\n",
       "    </tr>\n",
       "    <tr>\n",
       "      <th>Oregon</th>\n",
       "      <td>9</td>\n",
       "      <td>10</td>\n",
       "      <td>11</td>\n",
       "    </tr>\n",
       "    <tr>\n",
       "      <th>Texas</th>\n",
       "      <td>6</td>\n",
       "      <td>7</td>\n",
       "      <td>8</td>\n",
       "    </tr>\n",
       "    <tr>\n",
       "      <th>Utah</th>\n",
       "      <td>0</td>\n",
       "      <td>1</td>\n",
       "      <td>2</td>\n",
       "    </tr>\n",
       "  </tbody>\n",
       "</table>\n",
       "</div>"
      ],
      "text/plain": [
       "        a   b   c\n",
       "Ohio    3   4   5\n",
       "Oregon  9  10  11\n",
       "Texas   6   7   8\n",
       "Utah    0   1   2"
      ]
     },
     "execution_count": 70,
     "metadata": {},
     "output_type": "execute_result"
    }
   ],
   "source": [
    "frame3.sort_index()"
   ]
  },
  {
   "cell_type": "code",
   "execution_count": 71,
   "metadata": {
    "collapsed": false
   },
   "outputs": [
    {
     "data": {
      "text/html": [
       "<div>\n",
       "<table border=\"1\" class=\"dataframe\">\n",
       "  <thead>\n",
       "    <tr style=\"text-align: right;\">\n",
       "      <th></th>\n",
       "      <th>c</th>\n",
       "      <th>b</th>\n",
       "      <th>a</th>\n",
       "    </tr>\n",
       "  </thead>\n",
       "  <tbody>\n",
       "    <tr>\n",
       "      <th>Utah</th>\n",
       "      <td>2</td>\n",
       "      <td>1</td>\n",
       "      <td>0</td>\n",
       "    </tr>\n",
       "    <tr>\n",
       "      <th>Ohio</th>\n",
       "      <td>5</td>\n",
       "      <td>4</td>\n",
       "      <td>3</td>\n",
       "    </tr>\n",
       "    <tr>\n",
       "      <th>Texas</th>\n",
       "      <td>8</td>\n",
       "      <td>7</td>\n",
       "      <td>6</td>\n",
       "    </tr>\n",
       "    <tr>\n",
       "      <th>Oregon</th>\n",
       "      <td>11</td>\n",
       "      <td>10</td>\n",
       "      <td>9</td>\n",
       "    </tr>\n",
       "  </tbody>\n",
       "</table>\n",
       "</div>"
      ],
      "text/plain": [
       "         c   b  a\n",
       "Utah     2   1  0\n",
       "Ohio     5   4  3\n",
       "Texas    8   7  6\n",
       "Oregon  11  10  9"
      ]
     },
     "execution_count": 71,
     "metadata": {},
     "output_type": "execute_result"
    }
   ],
   "source": [
    "frame3.sort_index(axis=1, ascending=False)"
   ]
  },
  {
   "cell_type": "code",
   "execution_count": 72,
   "metadata": {
    "collapsed": false
   },
   "outputs": [
    {
     "data": {
      "text/plain": [
       "Oregon    11\n",
       "Texas      8\n",
       "Ohio       5\n",
       "Utah       2\n",
       "Name: c, dtype: float64"
      ]
     },
     "execution_count": 72,
     "metadata": {},
     "output_type": "execute_result"
    }
   ],
   "source": [
    "frame3.c.order(ascending=False)"
   ]
  },
  {
   "cell_type": "code",
   "execution_count": 73,
   "metadata": {
    "collapsed": false
   },
   "outputs": [
    {
     "data": {
      "text/html": [
       "<div>\n",
       "<table border=\"1\" class=\"dataframe\">\n",
       "  <thead>\n",
       "    <tr style=\"text-align: right;\">\n",
       "      <th></th>\n",
       "      <th>a</th>\n",
       "      <th>b</th>\n",
       "      <th>c</th>\n",
       "    </tr>\n",
       "  </thead>\n",
       "  <tbody>\n",
       "    <tr>\n",
       "      <th>Utah</th>\n",
       "      <td>0</td>\n",
       "      <td>1</td>\n",
       "      <td>2</td>\n",
       "    </tr>\n",
       "    <tr>\n",
       "      <th>Ohio</th>\n",
       "      <td>3</td>\n",
       "      <td>4</td>\n",
       "      <td>5</td>\n",
       "    </tr>\n",
       "    <tr>\n",
       "      <th>Texas</th>\n",
       "      <td>6</td>\n",
       "      <td>7</td>\n",
       "      <td>8</td>\n",
       "    </tr>\n",
       "    <tr>\n",
       "      <th>Oregon</th>\n",
       "      <td>9</td>\n",
       "      <td>10</td>\n",
       "      <td>11</td>\n",
       "    </tr>\n",
       "  </tbody>\n",
       "</table>\n",
       "</div>"
      ],
      "text/plain": [
       "        a   b   c\n",
       "Utah    0   1   2\n",
       "Ohio    3   4   5\n",
       "Texas   6   7   8\n",
       "Oregon  9  10  11"
      ]
     },
     "execution_count": 73,
     "metadata": {},
     "output_type": "execute_result"
    }
   ],
   "source": [
    "frame3.sort_index(by=['a','b'])"
   ]
  },
  {
   "cell_type": "code",
   "execution_count": 74,
   "metadata": {
    "collapsed": false
   },
   "outputs": [
    {
     "data": {
      "text/plain": [
       "Utah      1\n",
       "Ohio      2\n",
       "Texas     3\n",
       "Oregon    4\n",
       "Name: a, dtype: float64"
      ]
     },
     "execution_count": 74,
     "metadata": {},
     "output_type": "execute_result"
    }
   ],
   "source": [
    "frame3.a.rank()"
   ]
  },
  {
   "cell_type": "code",
   "execution_count": 75,
   "metadata": {
    "collapsed": false
   },
   "outputs": [
    {
     "data": {
      "text/html": [
       "<div>\n",
       "<table border=\"1\" class=\"dataframe\">\n",
       "  <thead>\n",
       "    <tr style=\"text-align: right;\">\n",
       "      <th></th>\n",
       "      <th>a</th>\n",
       "      <th>b</th>\n",
       "      <th>c</th>\n",
       "    </tr>\n",
       "  </thead>\n",
       "  <tbody>\n",
       "    <tr>\n",
       "      <th>Utah</th>\n",
       "      <td>1</td>\n",
       "      <td>2</td>\n",
       "      <td>3</td>\n",
       "    </tr>\n",
       "    <tr>\n",
       "      <th>Ohio</th>\n",
       "      <td>1</td>\n",
       "      <td>2</td>\n",
       "      <td>3</td>\n",
       "    </tr>\n",
       "    <tr>\n",
       "      <th>Texas</th>\n",
       "      <td>1</td>\n",
       "      <td>2</td>\n",
       "      <td>3</td>\n",
       "    </tr>\n",
       "    <tr>\n",
       "      <th>Oregon</th>\n",
       "      <td>1</td>\n",
       "      <td>2</td>\n",
       "      <td>3</td>\n",
       "    </tr>\n",
       "  </tbody>\n",
       "</table>\n",
       "</div>"
      ],
      "text/plain": [
       "        a  b  c\n",
       "Utah    1  2  3\n",
       "Ohio    1  2  3\n",
       "Texas   1  2  3\n",
       "Oregon  1  2  3"
      ]
     },
     "execution_count": 75,
     "metadata": {},
     "output_type": "execute_result"
    }
   ],
   "source": [
    "frame3.rank(axis=1)"
   ]
  },
  {
   "cell_type": "code",
   "execution_count": 1,
   "metadata": {
    "collapsed": true
   },
   "outputs": [],
   "source": [
    "import numpy as np\n",
    "import pandas as pd\n",
    "from pandas import Series, DataFrame"
   ]
  },
  {
   "cell_type": "code",
   "execution_count": 2,
   "metadata": {
    "collapsed": false
   },
   "outputs": [
    {
     "data": {
      "text/html": [
       "<div>\n",
       "<table border=\"1\" class=\"dataframe\">\n",
       "  <thead>\n",
       "    <tr style=\"text-align: right;\">\n",
       "      <th></th>\n",
       "      <th>year</th>\n",
       "      <th>state</th>\n",
       "      <th>pop</th>\n",
       "      <th>debt</th>\n",
       "    </tr>\n",
       "  </thead>\n",
       "  <tbody>\n",
       "    <tr>\n",
       "      <th>one</th>\n",
       "      <td>2000</td>\n",
       "      <td>Ohio</td>\n",
       "      <td>1.5</td>\n",
       "      <td>16.5</td>\n",
       "    </tr>\n",
       "    <tr>\n",
       "      <th>two</th>\n",
       "      <td>2001</td>\n",
       "      <td>Ohio</td>\n",
       "      <td>1.7</td>\n",
       "      <td>16.5</td>\n",
       "    </tr>\n",
       "    <tr>\n",
       "      <th>three</th>\n",
       "      <td>2002</td>\n",
       "      <td>Ohio</td>\n",
       "      <td>3.6</td>\n",
       "      <td>16.5</td>\n",
       "    </tr>\n",
       "    <tr>\n",
       "      <th>four</th>\n",
       "      <td>2001</td>\n",
       "      <td>Nevada</td>\n",
       "      <td>2.4</td>\n",
       "      <td>16.5</td>\n",
       "    </tr>\n",
       "    <tr>\n",
       "      <th>five</th>\n",
       "      <td>2002</td>\n",
       "      <td>Nevada</td>\n",
       "      <td>2.9</td>\n",
       "      <td>16.5</td>\n",
       "    </tr>\n",
       "  </tbody>\n",
       "</table>\n",
       "</div>"
      ],
      "text/plain": [
       "       year   state  pop  debt\n",
       "one    2000    Ohio  1.5  16.5\n",
       "two    2001    Ohio  1.7  16.5\n",
       "three  2002    Ohio  3.6  16.5\n",
       "four   2001  Nevada  2.4  16.5\n",
       "five   2002  Nevada  2.9  16.5"
      ]
     },
     "execution_count": 2,
     "metadata": {},
     "output_type": "execute_result"
    }
   ],
   "source": [
    "data = { 'state' : [ 'Ohio', 'Ohio', 'Ohio', 'Nevada', 'Nevada'],\n",
    "       'year' : [2000,2001,2002,2001,2002],\n",
    "       'pop' : [1.5,1.7,3.6,2.4,2.9]}\n",
    "frame2 = DataFrame(data, columns=['year', 'state','pop','debt'], index= ['one', 'two','three','four','five'])\n",
    "frame2['debt'] = 16.5\n",
    "frame2"
   ]
  },
  {
   "cell_type": "code",
   "execution_count": 3,
   "metadata": {
    "collapsed": false
   },
   "outputs": [
    {
     "data": {
      "text/html": [
       "<div>\n",
       "<table border=\"1\" class=\"dataframe\">\n",
       "  <thead>\n",
       "    <tr style=\"text-align: right;\">\n",
       "      <th></th>\n",
       "      <th>year</th>\n",
       "      <th>state</th>\n",
       "      <th>pop</th>\n",
       "      <th>debt</th>\n",
       "    </tr>\n",
       "  </thead>\n",
       "  <tbody>\n",
       "    <tr>\n",
       "      <th>one</th>\n",
       "      <td>2000</td>\n",
       "      <td>Ohio</td>\n",
       "      <td>NaN</td>\n",
       "      <td>NaN</td>\n",
       "    </tr>\n",
       "    <tr>\n",
       "      <th>two</th>\n",
       "      <td>2001</td>\n",
       "      <td>Ohio</td>\n",
       "      <td>1.7</td>\n",
       "      <td>16.5</td>\n",
       "    </tr>\n",
       "    <tr>\n",
       "      <th>three</th>\n",
       "      <td>2002</td>\n",
       "      <td>Ohio</td>\n",
       "      <td>3.6</td>\n",
       "      <td>16.5</td>\n",
       "    </tr>\n",
       "    <tr>\n",
       "      <th>four</th>\n",
       "      <td>2001</td>\n",
       "      <td>Nevada</td>\n",
       "      <td>2.4</td>\n",
       "      <td>16.5</td>\n",
       "    </tr>\n",
       "    <tr>\n",
       "      <th>five</th>\n",
       "      <td>2002</td>\n",
       "      <td>Nevada</td>\n",
       "      <td>2.9</td>\n",
       "      <td>16.5</td>\n",
       "    </tr>\n",
       "  </tbody>\n",
       "</table>\n",
       "</div>"
      ],
      "text/plain": [
       "       year   state  pop  debt\n",
       "one    2000    Ohio  NaN   NaN\n",
       "two    2001    Ohio  1.7  16.5\n",
       "three  2002    Ohio  3.6  16.5\n",
       "four   2001  Nevada  2.4  16.5\n",
       "five   2002  Nevada  2.9  16.5"
      ]
     },
     "execution_count": 3,
     "metadata": {},
     "output_type": "execute_result"
    }
   ],
   "source": [
    "# 누락된 데이터 처리\n",
    "frame2.ix['one',['debt','pop']] = np.nan\n",
    "frame2"
   ]
  },
  {
   "cell_type": "code",
   "execution_count": 4,
   "metadata": {
    "collapsed": false
   },
   "outputs": [
    {
     "data": {
      "text/html": [
       "<div>\n",
       "<table border=\"1\" class=\"dataframe\">\n",
       "  <thead>\n",
       "    <tr style=\"text-align: right;\">\n",
       "      <th></th>\n",
       "      <th>year</th>\n",
       "      <th>state</th>\n",
       "      <th>pop</th>\n",
       "      <th>debt</th>\n",
       "    </tr>\n",
       "  </thead>\n",
       "  <tbody>\n",
       "    <tr>\n",
       "      <th>two</th>\n",
       "      <td>2001</td>\n",
       "      <td>Ohio</td>\n",
       "      <td>1.7</td>\n",
       "      <td>16.5</td>\n",
       "    </tr>\n",
       "    <tr>\n",
       "      <th>three</th>\n",
       "      <td>2002</td>\n",
       "      <td>Ohio</td>\n",
       "      <td>3.6</td>\n",
       "      <td>16.5</td>\n",
       "    </tr>\n",
       "    <tr>\n",
       "      <th>four</th>\n",
       "      <td>2001</td>\n",
       "      <td>Nevada</td>\n",
       "      <td>2.4</td>\n",
       "      <td>16.5</td>\n",
       "    </tr>\n",
       "    <tr>\n",
       "      <th>five</th>\n",
       "      <td>2002</td>\n",
       "      <td>Nevada</td>\n",
       "      <td>2.9</td>\n",
       "      <td>16.5</td>\n",
       "    </tr>\n",
       "  </tbody>\n",
       "</table>\n",
       "</div>"
      ],
      "text/plain": [
       "       year   state  pop  debt\n",
       "two    2001    Ohio  1.7  16.5\n",
       "three  2002    Ohio  3.6  16.5\n",
       "four   2001  Nevada  2.4  16.5\n",
       "five   2002  Nevada  2.9  16.5"
      ]
     },
     "execution_count": 4,
     "metadata": {},
     "output_type": "execute_result"
    }
   ],
   "source": [
    "frame2.dropna()"
   ]
  },
  {
   "cell_type": "code",
   "execution_count": 5,
   "metadata": {
    "collapsed": false
   },
   "outputs": [
    {
     "data": {
      "text/html": [
       "<div>\n",
       "<table border=\"1\" class=\"dataframe\">\n",
       "  <thead>\n",
       "    <tr style=\"text-align: right;\">\n",
       "      <th></th>\n",
       "      <th>year</th>\n",
       "      <th>state</th>\n",
       "      <th>pop</th>\n",
       "      <th>debt</th>\n",
       "    </tr>\n",
       "  </thead>\n",
       "  <tbody>\n",
       "    <tr>\n",
       "      <th>one</th>\n",
       "      <td>2000</td>\n",
       "      <td>Ohio</td>\n",
       "      <td>0.0</td>\n",
       "      <td>0.0</td>\n",
       "    </tr>\n",
       "    <tr>\n",
       "      <th>two</th>\n",
       "      <td>2001</td>\n",
       "      <td>Ohio</td>\n",
       "      <td>1.7</td>\n",
       "      <td>16.5</td>\n",
       "    </tr>\n",
       "    <tr>\n",
       "      <th>three</th>\n",
       "      <td>2002</td>\n",
       "      <td>Ohio</td>\n",
       "      <td>3.6</td>\n",
       "      <td>16.5</td>\n",
       "    </tr>\n",
       "    <tr>\n",
       "      <th>four</th>\n",
       "      <td>2001</td>\n",
       "      <td>Nevada</td>\n",
       "      <td>2.4</td>\n",
       "      <td>16.5</td>\n",
       "    </tr>\n",
       "    <tr>\n",
       "      <th>five</th>\n",
       "      <td>2002</td>\n",
       "      <td>Nevada</td>\n",
       "      <td>2.9</td>\n",
       "      <td>16.5</td>\n",
       "    </tr>\n",
       "  </tbody>\n",
       "</table>\n",
       "</div>"
      ],
      "text/plain": [
       "       year   state  pop  debt\n",
       "one    2000    Ohio  0.0   0.0\n",
       "two    2001    Ohio  1.7  16.5\n",
       "three  2002    Ohio  3.6  16.5\n",
       "four   2001  Nevada  2.4  16.5\n",
       "five   2002  Nevada  2.9  16.5"
      ]
     },
     "execution_count": 5,
     "metadata": {},
     "output_type": "execute_result"
    }
   ],
   "source": [
    "frame2.fillna(0)"
   ]
  },
  {
   "cell_type": "code",
   "execution_count": 6,
   "metadata": {
    "collapsed": false
   },
   "outputs": [
    {
     "data": {
      "text/html": [
       "<div>\n",
       "<table border=\"1\" class=\"dataframe\">\n",
       "  <thead>\n",
       "    <tr>\n",
       "      <th></th>\n",
       "      <th></th>\n",
       "      <th colspan=\"2\" halign=\"left\">Ohio</th>\n",
       "      <th>Colorado</th>\n",
       "    </tr>\n",
       "    <tr>\n",
       "      <th></th>\n",
       "      <th></th>\n",
       "      <th>G</th>\n",
       "      <th>R</th>\n",
       "      <th>G</th>\n",
       "    </tr>\n",
       "  </thead>\n",
       "  <tbody>\n",
       "    <tr>\n",
       "      <th rowspan=\"2\" valign=\"top\">a</th>\n",
       "      <th>1</th>\n",
       "      <td>0</td>\n",
       "      <td>1</td>\n",
       "      <td>2</td>\n",
       "    </tr>\n",
       "    <tr>\n",
       "      <th>2</th>\n",
       "      <td>3</td>\n",
       "      <td>4</td>\n",
       "      <td>5</td>\n",
       "    </tr>\n",
       "    <tr>\n",
       "      <th rowspan=\"2\" valign=\"top\">b</th>\n",
       "      <th>1</th>\n",
       "      <td>6</td>\n",
       "      <td>7</td>\n",
       "      <td>8</td>\n",
       "    </tr>\n",
       "    <tr>\n",
       "      <th>2</th>\n",
       "      <td>9</td>\n",
       "      <td>10</td>\n",
       "      <td>11</td>\n",
       "    </tr>\n",
       "  </tbody>\n",
       "</table>\n",
       "</div>"
      ],
      "text/plain": [
       "    Ohio     Colorado\n",
       "       G   R        G\n",
       "a 1    0   1        2\n",
       "  2    3   4        5\n",
       "b 1    6   7        8\n",
       "  2    9  10       11"
      ]
     },
     "execution_count": 6,
     "metadata": {},
     "output_type": "execute_result"
    }
   ],
   "source": [
    "# 계층적색인\n",
    "frame4 = DataFrame(np.arange(12).reshape((4,3)),\n",
    "                   index=[['a','a','b','b'], [1,2,1,2]],\n",
    "                   columns=[['Ohio','Ohio','Colorado'], ['G','R','G']])\n",
    "frame4"
   ]
  },
  {
   "cell_type": "code",
   "execution_count": 7,
   "metadata": {
    "collapsed": false
   },
   "outputs": [
    {
     "data": {
      "text/html": [
       "<div>\n",
       "<table border=\"1\" class=\"dataframe\">\n",
       "  <thead>\n",
       "    <tr>\n",
       "      <th></th>\n",
       "      <th>state</th>\n",
       "      <th colspan=\"2\" halign=\"left\">Ohio</th>\n",
       "      <th>Colorado</th>\n",
       "    </tr>\n",
       "    <tr>\n",
       "      <th></th>\n",
       "      <th>color</th>\n",
       "      <th>G</th>\n",
       "      <th>R</th>\n",
       "      <th>G</th>\n",
       "    </tr>\n",
       "    <tr>\n",
       "      <th>key1</th>\n",
       "      <th>key2</th>\n",
       "      <th></th>\n",
       "      <th></th>\n",
       "      <th></th>\n",
       "    </tr>\n",
       "  </thead>\n",
       "  <tbody>\n",
       "    <tr>\n",
       "      <th rowspan=\"2\" valign=\"top\">a</th>\n",
       "      <th>1</th>\n",
       "      <td>0</td>\n",
       "      <td>1</td>\n",
       "      <td>2</td>\n",
       "    </tr>\n",
       "    <tr>\n",
       "      <th>2</th>\n",
       "      <td>3</td>\n",
       "      <td>4</td>\n",
       "      <td>5</td>\n",
       "    </tr>\n",
       "    <tr>\n",
       "      <th rowspan=\"2\" valign=\"top\">b</th>\n",
       "      <th>1</th>\n",
       "      <td>6</td>\n",
       "      <td>7</td>\n",
       "      <td>8</td>\n",
       "    </tr>\n",
       "    <tr>\n",
       "      <th>2</th>\n",
       "      <td>9</td>\n",
       "      <td>10</td>\n",
       "      <td>11</td>\n",
       "    </tr>\n",
       "  </tbody>\n",
       "</table>\n",
       "</div>"
      ],
      "text/plain": [
       "state     Ohio     Colorado\n",
       "color        G   R        G\n",
       "key1 key2                  \n",
       "a    1       0   1        2\n",
       "     2       3   4        5\n",
       "b    1       6   7        8\n",
       "     2       9  10       11"
      ]
     },
     "execution_count": 7,
     "metadata": {},
     "output_type": "execute_result"
    }
   ],
   "source": [
    "frame4.index.names=['key1','key2']\n",
    "frame4.columns.names=['state','color']\n",
    "frame4"
   ]
  },
  {
   "cell_type": "code",
   "execution_count": 23,
   "metadata": {
    "collapsed": false
   },
   "outputs": [
    {
     "data": {
      "text/plain": [
       "4"
      ]
     },
     "execution_count": 23,
     "metadata": {},
     "output_type": "execute_result"
    }
   ],
   "source": [
    "frame4.ix['a'].ix[2].Ohio.R"
   ]
  },
  {
   "cell_type": "code",
   "execution_count": 28,
   "metadata": {
    "collapsed": false
   },
   "outputs": [
    {
     "data": {
      "text/plain": [
       "4"
      ]
     },
     "execution_count": 28,
     "metadata": {},
     "output_type": "execute_result"
    }
   ],
   "source": [
    "frame4.Ohio.R.ix['a'].ix[2]"
   ]
  },
  {
   "cell_type": "code",
   "execution_count": 8,
   "metadata": {
    "collapsed": false
   },
   "outputs": [
    {
     "data": {
      "text/html": [
       "<div>\n",
       "<table border=\"1\" class=\"dataframe\">\n",
       "  <thead>\n",
       "    <tr>\n",
       "      <th>state</th>\n",
       "      <th colspan=\"2\" halign=\"left\">Ohio</th>\n",
       "      <th>Colorado</th>\n",
       "    </tr>\n",
       "    <tr>\n",
       "      <th>color</th>\n",
       "      <th>G</th>\n",
       "      <th>R</th>\n",
       "      <th>G</th>\n",
       "    </tr>\n",
       "    <tr>\n",
       "      <th>key2</th>\n",
       "      <th></th>\n",
       "      <th></th>\n",
       "      <th></th>\n",
       "    </tr>\n",
       "  </thead>\n",
       "  <tbody>\n",
       "    <tr>\n",
       "      <th>1</th>\n",
       "      <td>0</td>\n",
       "      <td>1</td>\n",
       "      <td>2</td>\n",
       "    </tr>\n",
       "    <tr>\n",
       "      <th>2</th>\n",
       "      <td>3</td>\n",
       "      <td>4</td>\n",
       "      <td>5</td>\n",
       "    </tr>\n",
       "  </tbody>\n",
       "</table>\n",
       "</div>"
      ],
      "text/plain": [
       "state Ohio    Colorado\n",
       "color    G  R        G\n",
       "key2                  \n",
       "1        0  1        2\n",
       "2        3  4        5"
      ]
     },
     "execution_count": 8,
     "metadata": {},
     "output_type": "execute_result"
    }
   ],
   "source": [
    "frame4.ix['a']"
   ]
  },
  {
   "cell_type": "code",
   "execution_count": 9,
   "metadata": {
    "collapsed": false
   },
   "outputs": [
    {
     "data": {
      "text/plain": [
       "state     color\n",
       "Ohio      G        0\n",
       "          R        1\n",
       "Colorado  G        2\n",
       "Name: 1, dtype: int64"
      ]
     },
     "execution_count": 9,
     "metadata": {},
     "output_type": "execute_result"
    }
   ],
   "source": [
    "frame4.ix['a'].ix[1]"
   ]
  },
  {
   "cell_type": "code",
   "execution_count": 10,
   "metadata": {
    "collapsed": false
   },
   "outputs": [
    {
     "data": {
      "text/plain": [
       "key1  key2\n",
       "a     1       0\n",
       "      2       3\n",
       "b     1       6\n",
       "      2       9\n",
       "Name: G, dtype: int64"
      ]
     },
     "execution_count": 10,
     "metadata": {},
     "output_type": "execute_result"
    }
   ],
   "source": [
    "frame4.Ohio.G"
   ]
  },
  {
   "cell_type": "code",
   "execution_count": 11,
   "metadata": {
    "collapsed": false
   },
   "outputs": [
    {
     "data": {
      "text/html": [
       "<div>\n",
       "<table border=\"1\" class=\"dataframe\">\n",
       "  <thead>\n",
       "    <tr>\n",
       "      <th></th>\n",
       "      <th>state</th>\n",
       "      <th colspan=\"2\" halign=\"left\">Ohio</th>\n",
       "      <th>Colorado</th>\n",
       "    </tr>\n",
       "    <tr>\n",
       "      <th></th>\n",
       "      <th>color</th>\n",
       "      <th>G</th>\n",
       "      <th>R</th>\n",
       "      <th>G</th>\n",
       "    </tr>\n",
       "    <tr>\n",
       "      <th>key1</th>\n",
       "      <th>key2</th>\n",
       "      <th></th>\n",
       "      <th></th>\n",
       "      <th></th>\n",
       "    </tr>\n",
       "  </thead>\n",
       "  <tbody>\n",
       "    <tr>\n",
       "      <th>a</th>\n",
       "      <th>1</th>\n",
       "      <td>0</td>\n",
       "      <td>1</td>\n",
       "      <td>2</td>\n",
       "    </tr>\n",
       "    <tr>\n",
       "      <th>b</th>\n",
       "      <th>1</th>\n",
       "      <td>6</td>\n",
       "      <td>7</td>\n",
       "      <td>8</td>\n",
       "    </tr>\n",
       "    <tr>\n",
       "      <th>a</th>\n",
       "      <th>2</th>\n",
       "      <td>3</td>\n",
       "      <td>4</td>\n",
       "      <td>5</td>\n",
       "    </tr>\n",
       "    <tr>\n",
       "      <th>b</th>\n",
       "      <th>2</th>\n",
       "      <td>9</td>\n",
       "      <td>10</td>\n",
       "      <td>11</td>\n",
       "    </tr>\n",
       "  </tbody>\n",
       "</table>\n",
       "</div>"
      ],
      "text/plain": [
       "state     Ohio     Colorado\n",
       "color        G   R        G\n",
       "key1 key2                  \n",
       "a    1       0   1        2\n",
       "b    1       6   7        8\n",
       "a    2       3   4        5\n",
       "b    2       9  10       11"
      ]
     },
     "execution_count": 11,
     "metadata": {},
     "output_type": "execute_result"
    }
   ],
   "source": [
    "frame4.sortlevel(1)"
   ]
  },
  {
   "cell_type": "markdown",
   "metadata": {},
   "source": [
    "## 상관분석\n",
    "https://ko.wikipedia.org/wiki/상관분석\n",
    "https://en.wikipedia.org/wiki/Correlation_and_dependence\n",
    "## Excel 방식\n",
    "http://blog.naver.com/PostView.nhn?blogId=foolhun3&logNo=220305763272"
   ]
  },
  {
   "cell_type": "code",
   "execution_count": 13,
   "metadata": {
    "collapsed": true
   },
   "outputs": [],
   "source": [
    "#mobile mau"
   ]
  },
  {
   "cell_type": "code",
   "execution_count": 4,
   "metadata": {
    "collapsed": false
   },
   "outputs": [
    {
     "data": {
      "text/html": [
       "<div>\n",
       "<table border=\"1\" class=\"dataframe\">\n",
       "  <thead>\n",
       "    <tr style=\"text-align: right;\">\n",
       "      <th></th>\n",
       "      <th>1월-12</th>\n",
       "      <th>2월-12</th>\n",
       "      <th>3월-12</th>\n",
       "      <th>4월-12</th>\n",
       "      <th>5월-12</th>\n",
       "      <th>6월-12</th>\n",
       "      <th>7월-12</th>\n",
       "      <th>8월-12</th>\n",
       "      <th>9월-12</th>\n",
       "      <th>10월-12</th>\n",
       "      <th>...</th>\n",
       "      <th>10월-14</th>\n",
       "      <th>11월-14</th>\n",
       "      <th>12월-14</th>\n",
       "      <th>1월-15</th>\n",
       "      <th>2월-15</th>\n",
       "      <th>3월-15</th>\n",
       "      <th>4월-15</th>\n",
       "      <th>5월-15</th>\n",
       "      <th>6월-15</th>\n",
       "      <th>7월-15</th>\n",
       "    </tr>\n",
       "    <tr>\n",
       "      <th>분 류</th>\n",
       "      <th></th>\n",
       "      <th></th>\n",
       "      <th></th>\n",
       "      <th></th>\n",
       "      <th></th>\n",
       "      <th></th>\n",
       "      <th></th>\n",
       "      <th></th>\n",
       "      <th></th>\n",
       "      <th></th>\n",
       "      <th></th>\n",
       "      <th></th>\n",
       "      <th></th>\n",
       "      <th></th>\n",
       "      <th></th>\n",
       "      <th></th>\n",
       "      <th></th>\n",
       "      <th></th>\n",
       "      <th></th>\n",
       "      <th></th>\n",
       "      <th></th>\n",
       "    </tr>\n",
       "  </thead>\n",
       "  <tbody>\n",
       "    <tr>\n",
       "      <th>naver.com</th>\n",
       "      <td>1449426</td>\n",
       "      <td>1318779</td>\n",
       "      <td>1525272</td>\n",
       "      <td>2156043</td>\n",
       "      <td>1935512</td>\n",
       "      <td>2204992</td>\n",
       "      <td>2769000</td>\n",
       "      <td>2753605</td>\n",
       "      <td>2777274</td>\n",
       "      <td>2805178</td>\n",
       "      <td>...</td>\n",
       "      <td>2836273</td>\n",
       "      <td>2691126</td>\n",
       "      <td>2528648</td>\n",
       "      <td>2702249</td>\n",
       "      <td>2512878</td>\n",
       "      <td>2722772</td>\n",
       "      <td>3077679</td>\n",
       "      <td>3046904</td>\n",
       "      <td>3021911</td>\n",
       "      <td>2772323</td>\n",
       "    </tr>\n",
       "    <tr>\n",
       "      <th>daum.net</th>\n",
       "      <td>2123572</td>\n",
       "      <td>2098304</td>\n",
       "      <td>1518737</td>\n",
       "      <td>1862319</td>\n",
       "      <td>1872582</td>\n",
       "      <td>1936302</td>\n",
       "      <td>2301563</td>\n",
       "      <td>2135555</td>\n",
       "      <td>1930862</td>\n",
       "      <td>2136730</td>\n",
       "      <td>...</td>\n",
       "      <td>1547458</td>\n",
       "      <td>1624158</td>\n",
       "      <td>1674045</td>\n",
       "      <td>1682265</td>\n",
       "      <td>1478710</td>\n",
       "      <td>1826173</td>\n",
       "      <td>1596559</td>\n",
       "      <td>1599962</td>\n",
       "      <td>1490001</td>\n",
       "      <td>1419051</td>\n",
       "    </tr>\n",
       "    <tr>\n",
       "      <th>nate.com</th>\n",
       "      <td>802666</td>\n",
       "      <td>813850</td>\n",
       "      <td>709876</td>\n",
       "      <td>590882</td>\n",
       "      <td>494325</td>\n",
       "      <td>660309</td>\n",
       "      <td>588872</td>\n",
       "      <td>595546</td>\n",
       "      <td>633358</td>\n",
       "      <td>687766</td>\n",
       "      <td>...</td>\n",
       "      <td>369452</td>\n",
       "      <td>352956</td>\n",
       "      <td>440285</td>\n",
       "      <td>324040</td>\n",
       "      <td>299486</td>\n",
       "      <td>317636</td>\n",
       "      <td>344752</td>\n",
       "      <td>241285</td>\n",
       "      <td>254219</td>\n",
       "      <td>311185</td>\n",
       "    </tr>\n",
       "    <tr>\n",
       "      <th>google.com</th>\n",
       "      <td>235290</td>\n",
       "      <td>154137</td>\n",
       "      <td>146847</td>\n",
       "      <td>155477</td>\n",
       "      <td>112506</td>\n",
       "      <td>103057</td>\n",
       "      <td>138339</td>\n",
       "      <td>85904</td>\n",
       "      <td>279269</td>\n",
       "      <td>322605</td>\n",
       "      <td>...</td>\n",
       "      <td>302822</td>\n",
       "      <td>384940</td>\n",
       "      <td>382337</td>\n",
       "      <td>357034</td>\n",
       "      <td>398593</td>\n",
       "      <td>530017</td>\n",
       "      <td>340017</td>\n",
       "      <td>316486</td>\n",
       "      <td>354260</td>\n",
       "      <td>300681</td>\n",
       "    </tr>\n",
       "    <tr>\n",
       "      <th>Communication-Email</th>\n",
       "      <td>3910870</td>\n",
       "      <td>3663326</td>\n",
       "      <td>3325002</td>\n",
       "      <td>4070259</td>\n",
       "      <td>3787863</td>\n",
       "      <td>4197746</td>\n",
       "      <td>5009222</td>\n",
       "      <td>4807187</td>\n",
       "      <td>4539054</td>\n",
       "      <td>4863945</td>\n",
       "      <td>...</td>\n",
       "      <td>4233829</td>\n",
       "      <td>4212221</td>\n",
       "      <td>4278095</td>\n",
       "      <td>4219187</td>\n",
       "      <td>3939242</td>\n",
       "      <td>4486005</td>\n",
       "      <td>4599696</td>\n",
       "      <td>4426058</td>\n",
       "      <td>4317891</td>\n",
       "      <td>4042735</td>\n",
       "    </tr>\n",
       "  </tbody>\n",
       "</table>\n",
       "<p>5 rows × 43 columns</p>\n",
       "</div>"
      ],
      "text/plain": [
       "                       1월-12    2월-12    3월-12    4월-12    5월-12    6월-12  \\\n",
       "분 류                                                                         \n",
       "naver.com            1449426  1318779  1525272  2156043  1935512  2204992   \n",
       "daum.net             2123572  2098304  1518737  1862319  1872582  1936302   \n",
       "nate.com              802666   813850   709876   590882   494325   660309   \n",
       "google.com            235290   154137   146847   155477   112506   103057   \n",
       "Communication-Email  3910870  3663326  3325002  4070259  3787863  4197746   \n",
       "\n",
       "                       7월-12    8월-12    9월-12   10월-12   ...      10월-14  \\\n",
       "분 류                                                       ...               \n",
       "naver.com            2769000  2753605  2777274  2805178   ...     2836273   \n",
       "daum.net             2301563  2135555  1930862  2136730   ...     1547458   \n",
       "nate.com              588872   595546   633358   687766   ...      369452   \n",
       "google.com            138339    85904   279269   322605   ...      302822   \n",
       "Communication-Email  5009222  4807187  4539054  4863945   ...     4233829   \n",
       "\n",
       "                      11월-14   12월-14    1월-15    2월-15    3월-15    4월-15  \\\n",
       "분 류                                                                         \n",
       "naver.com            2691126  2528648  2702249  2512878  2722772  3077679   \n",
       "daum.net             1624158  1674045  1682265  1478710  1826173  1596559   \n",
       "nate.com              352956   440285   324040   299486   317636   344752   \n",
       "google.com            384940   382337   357034   398593   530017   340017   \n",
       "Communication-Email  4212221  4278095  4219187  3939242  4486005  4599696   \n",
       "\n",
       "                       5월-15    6월-15    7월-15  \n",
       "분 류                                             \n",
       "naver.com            3046904  3021911  2772323  \n",
       "daum.net             1599962  1490001  1419051  \n",
       "nate.com              241285   254219   311185  \n",
       "google.com            316486   354260   300681  \n",
       "Communication-Email  4426058  4317891  4042735  \n",
       "\n",
       "[5 rows x 43 columns]"
      ]
     },
     "execution_count": 4,
     "metadata": {},
     "output_type": "execute_result"
    }
   ],
   "source": [
    "mail_mmau = pd.read_csv('mail_mmau.csv', index_col='분 류', thousands=',')\n",
    "mail_mmau"
   ]
  },
  {
   "cell_type": "code",
   "execution_count": 9,
   "metadata": {
    "collapsed": false
   },
   "outputs": [
    {
     "data": {
      "text/html": [
       "<div>\n",
       "<table border=\"1\" class=\"dataframe\">\n",
       "  <thead>\n",
       "    <tr style=\"text-align: right;\">\n",
       "      <th>분 류</th>\n",
       "      <th>naver.com</th>\n",
       "      <th>daum.net</th>\n",
       "      <th>nate.com</th>\n",
       "      <th>google.com</th>\n",
       "      <th>Communication-Email</th>\n",
       "    </tr>\n",
       "  </thead>\n",
       "  <tbody>\n",
       "    <tr>\n",
       "      <th>1월-12</th>\n",
       "      <td>1449426</td>\n",
       "      <td>2123572</td>\n",
       "      <td>802666</td>\n",
       "      <td>235290</td>\n",
       "      <td>3910870</td>\n",
       "    </tr>\n",
       "    <tr>\n",
       "      <th>2월-12</th>\n",
       "      <td>1318779</td>\n",
       "      <td>2098304</td>\n",
       "      <td>813850</td>\n",
       "      <td>154137</td>\n",
       "      <td>3663326</td>\n",
       "    </tr>\n",
       "    <tr>\n",
       "      <th>3월-12</th>\n",
       "      <td>1525272</td>\n",
       "      <td>1518737</td>\n",
       "      <td>709876</td>\n",
       "      <td>146847</td>\n",
       "      <td>3325002</td>\n",
       "    </tr>\n",
       "    <tr>\n",
       "      <th>4월-12</th>\n",
       "      <td>2156043</td>\n",
       "      <td>1862319</td>\n",
       "      <td>590882</td>\n",
       "      <td>155477</td>\n",
       "      <td>4070259</td>\n",
       "    </tr>\n",
       "    <tr>\n",
       "      <th>5월-12</th>\n",
       "      <td>1935512</td>\n",
       "      <td>1872582</td>\n",
       "      <td>494325</td>\n",
       "      <td>112506</td>\n",
       "      <td>3787863</td>\n",
       "    </tr>\n",
       "    <tr>\n",
       "      <th>6월-12</th>\n",
       "      <td>2204992</td>\n",
       "      <td>1936302</td>\n",
       "      <td>660309</td>\n",
       "      <td>103057</td>\n",
       "      <td>4197746</td>\n",
       "    </tr>\n",
       "    <tr>\n",
       "      <th>7월-12</th>\n",
       "      <td>2769000</td>\n",
       "      <td>2301563</td>\n",
       "      <td>588872</td>\n",
       "      <td>138339</td>\n",
       "      <td>5009222</td>\n",
       "    </tr>\n",
       "    <tr>\n",
       "      <th>8월-12</th>\n",
       "      <td>2753605</td>\n",
       "      <td>2135555</td>\n",
       "      <td>595546</td>\n",
       "      <td>85904</td>\n",
       "      <td>4807187</td>\n",
       "    </tr>\n",
       "    <tr>\n",
       "      <th>9월-12</th>\n",
       "      <td>2777274</td>\n",
       "      <td>1930862</td>\n",
       "      <td>633358</td>\n",
       "      <td>279269</td>\n",
       "      <td>4539054</td>\n",
       "    </tr>\n",
       "    <tr>\n",
       "      <th>10월-12</th>\n",
       "      <td>2805178</td>\n",
       "      <td>2136730</td>\n",
       "      <td>687766</td>\n",
       "      <td>322605</td>\n",
       "      <td>4863945</td>\n",
       "    </tr>\n",
       "    <tr>\n",
       "      <th>11월-12</th>\n",
       "      <td>2927579</td>\n",
       "      <td>2285009</td>\n",
       "      <td>425363</td>\n",
       "      <td>261946</td>\n",
       "      <td>4905208</td>\n",
       "    </tr>\n",
       "    <tr>\n",
       "      <th>12월-12</th>\n",
       "      <td>3229154</td>\n",
       "      <td>2341023</td>\n",
       "      <td>638553</td>\n",
       "      <td>188018</td>\n",
       "      <td>5152947</td>\n",
       "    </tr>\n",
       "    <tr>\n",
       "      <th>1월-13</th>\n",
       "      <td>3433147</td>\n",
       "      <td>2570833</td>\n",
       "      <td>750651</td>\n",
       "      <td>311931</td>\n",
       "      <td>5668116</td>\n",
       "    </tr>\n",
       "    <tr>\n",
       "      <th>2월-13</th>\n",
       "      <td>3363516</td>\n",
       "      <td>2678861</td>\n",
       "      <td>471897</td>\n",
       "      <td>216741</td>\n",
       "      <td>5498746</td>\n",
       "    </tr>\n",
       "    <tr>\n",
       "      <th>3월-13</th>\n",
       "      <td>3601681</td>\n",
       "      <td>2573414</td>\n",
       "      <td>485968</td>\n",
       "      <td>464622</td>\n",
       "      <td>5718500</td>\n",
       "    </tr>\n",
       "    <tr>\n",
       "      <th>4월-13</th>\n",
       "      <td>3340349</td>\n",
       "      <td>2633206</td>\n",
       "      <td>598299</td>\n",
       "      <td>177120</td>\n",
       "      <td>5459805</td>\n",
       "    </tr>\n",
       "    <tr>\n",
       "      <th>5월-13</th>\n",
       "      <td>3213994</td>\n",
       "      <td>2046341</td>\n",
       "      <td>406282</td>\n",
       "      <td>216049</td>\n",
       "      <td>4863537</td>\n",
       "    </tr>\n",
       "    <tr>\n",
       "      <th>6월-13</th>\n",
       "      <td>3148210</td>\n",
       "      <td>2206243</td>\n",
       "      <td>400556</td>\n",
       "      <td>244268</td>\n",
       "      <td>4909139</td>\n",
       "    </tr>\n",
       "    <tr>\n",
       "      <th>7월-13</th>\n",
       "      <td>3525625</td>\n",
       "      <td>2585445</td>\n",
       "      <td>522934</td>\n",
       "      <td>266168</td>\n",
       "      <td>5614433</td>\n",
       "    </tr>\n",
       "    <tr>\n",
       "      <th>8월-13</th>\n",
       "      <td>3536027</td>\n",
       "      <td>2620149</td>\n",
       "      <td>474995</td>\n",
       "      <td>239347</td>\n",
       "      <td>5478252</td>\n",
       "    </tr>\n",
       "    <tr>\n",
       "      <th>9월-13</th>\n",
       "      <td>3522750</td>\n",
       "      <td>2151058</td>\n",
       "      <td>399272</td>\n",
       "      <td>219926</td>\n",
       "      <td>5162335</td>\n",
       "    </tr>\n",
       "    <tr>\n",
       "      <th>10월-13</th>\n",
       "      <td>3438653</td>\n",
       "      <td>1854696</td>\n",
       "      <td>463383</td>\n",
       "      <td>358790</td>\n",
       "      <td>4786756</td>\n",
       "    </tr>\n",
       "    <tr>\n",
       "      <th>11월-13</th>\n",
       "      <td>3174030</td>\n",
       "      <td>1921762</td>\n",
       "      <td>593783</td>\n",
       "      <td>272594</td>\n",
       "      <td>4795968</td>\n",
       "    </tr>\n",
       "    <tr>\n",
       "      <th>12월-13</th>\n",
       "      <td>2957603</td>\n",
       "      <td>1779469</td>\n",
       "      <td>486482</td>\n",
       "      <td>245083</td>\n",
       "      <td>4452032</td>\n",
       "    </tr>\n",
       "    <tr>\n",
       "      <th>1월-14</th>\n",
       "      <td>3082865</td>\n",
       "      <td>1869647</td>\n",
       "      <td>527502</td>\n",
       "      <td>275666</td>\n",
       "      <td>4607764</td>\n",
       "    </tr>\n",
       "    <tr>\n",
       "      <th>2월-14</th>\n",
       "      <td>3193251</td>\n",
       "      <td>1947752</td>\n",
       "      <td>437116</td>\n",
       "      <td>263974</td>\n",
       "      <td>4780490</td>\n",
       "    </tr>\n",
       "    <tr>\n",
       "      <th>3월-14</th>\n",
       "      <td>2949148</td>\n",
       "      <td>1776500</td>\n",
       "      <td>419819</td>\n",
       "      <td>297214</td>\n",
       "      <td>4477295</td>\n",
       "    </tr>\n",
       "    <tr>\n",
       "      <th>4월-14</th>\n",
       "      <td>3005089</td>\n",
       "      <td>1759545</td>\n",
       "      <td>459371</td>\n",
       "      <td>395442</td>\n",
       "      <td>4637152</td>\n",
       "    </tr>\n",
       "    <tr>\n",
       "      <th>5월-14</th>\n",
       "      <td>3122069</td>\n",
       "      <td>1712444</td>\n",
       "      <td>379448</td>\n",
       "      <td>275913</td>\n",
       "      <td>4586450</td>\n",
       "    </tr>\n",
       "    <tr>\n",
       "      <th>6월-14</th>\n",
       "      <td>3042333</td>\n",
       "      <td>1542448</td>\n",
       "      <td>406276</td>\n",
       "      <td>282377</td>\n",
       "      <td>4380640</td>\n",
       "    </tr>\n",
       "    <tr>\n",
       "      <th>7월-14</th>\n",
       "      <td>3007247</td>\n",
       "      <td>1507817</td>\n",
       "      <td>520050</td>\n",
       "      <td>249850</td>\n",
       "      <td>4446041</td>\n",
       "    </tr>\n",
       "    <tr>\n",
       "      <th>8월-14</th>\n",
       "      <td>2811453</td>\n",
       "      <td>1476506</td>\n",
       "      <td>346728</td>\n",
       "      <td>313819</td>\n",
       "      <td>4213859</td>\n",
       "    </tr>\n",
       "    <tr>\n",
       "      <th>9월-14</th>\n",
       "      <td>2487413</td>\n",
       "      <td>1536117</td>\n",
       "      <td>357084</td>\n",
       "      <td>363053</td>\n",
       "      <td>4005916</td>\n",
       "    </tr>\n",
       "    <tr>\n",
       "      <th>10월-14</th>\n",
       "      <td>2836273</td>\n",
       "      <td>1547458</td>\n",
       "      <td>369452</td>\n",
       "      <td>302822</td>\n",
       "      <td>4233829</td>\n",
       "    </tr>\n",
       "    <tr>\n",
       "      <th>11월-14</th>\n",
       "      <td>2691126</td>\n",
       "      <td>1624158</td>\n",
       "      <td>352956</td>\n",
       "      <td>384940</td>\n",
       "      <td>4212221</td>\n",
       "    </tr>\n",
       "    <tr>\n",
       "      <th>12월-14</th>\n",
       "      <td>2528648</td>\n",
       "      <td>1674045</td>\n",
       "      <td>440285</td>\n",
       "      <td>382337</td>\n",
       "      <td>4278095</td>\n",
       "    </tr>\n",
       "    <tr>\n",
       "      <th>1월-15</th>\n",
       "      <td>2702249</td>\n",
       "      <td>1682265</td>\n",
       "      <td>324040</td>\n",
       "      <td>357034</td>\n",
       "      <td>4219187</td>\n",
       "    </tr>\n",
       "    <tr>\n",
       "      <th>2월-15</th>\n",
       "      <td>2512878</td>\n",
       "      <td>1478710</td>\n",
       "      <td>299486</td>\n",
       "      <td>398593</td>\n",
       "      <td>3939242</td>\n",
       "    </tr>\n",
       "    <tr>\n",
       "      <th>3월-15</th>\n",
       "      <td>2722772</td>\n",
       "      <td>1826173</td>\n",
       "      <td>317636</td>\n",
       "      <td>530017</td>\n",
       "      <td>4486005</td>\n",
       "    </tr>\n",
       "    <tr>\n",
       "      <th>4월-15</th>\n",
       "      <td>3077679</td>\n",
       "      <td>1596559</td>\n",
       "      <td>344752</td>\n",
       "      <td>340017</td>\n",
       "      <td>4599696</td>\n",
       "    </tr>\n",
       "    <tr>\n",
       "      <th>5월-15</th>\n",
       "      <td>3046904</td>\n",
       "      <td>1599962</td>\n",
       "      <td>241285</td>\n",
       "      <td>316486</td>\n",
       "      <td>4426058</td>\n",
       "    </tr>\n",
       "    <tr>\n",
       "      <th>6월-15</th>\n",
       "      <td>3021911</td>\n",
       "      <td>1490001</td>\n",
       "      <td>254219</td>\n",
       "      <td>354260</td>\n",
       "      <td>4317891</td>\n",
       "    </tr>\n",
       "    <tr>\n",
       "      <th>7월-15</th>\n",
       "      <td>2772323</td>\n",
       "      <td>1419051</td>\n",
       "      <td>311185</td>\n",
       "      <td>300681</td>\n",
       "      <td>4042735</td>\n",
       "    </tr>\n",
       "  </tbody>\n",
       "</table>\n",
       "</div>"
      ],
      "text/plain": [
       "분 류     naver.com  daum.net  nate.com  google.com  Communication-Email\n",
       "1월-12     1449426   2123572    802666      235290              3910870\n",
       "2월-12     1318779   2098304    813850      154137              3663326\n",
       "3월-12     1525272   1518737    709876      146847              3325002\n",
       "4월-12     2156043   1862319    590882      155477              4070259\n",
       "5월-12     1935512   1872582    494325      112506              3787863\n",
       "6월-12     2204992   1936302    660309      103057              4197746\n",
       "7월-12     2769000   2301563    588872      138339              5009222\n",
       "8월-12     2753605   2135555    595546       85904              4807187\n",
       "9월-12     2777274   1930862    633358      279269              4539054\n",
       "10월-12    2805178   2136730    687766      322605              4863945\n",
       "11월-12    2927579   2285009    425363      261946              4905208\n",
       "12월-12    3229154   2341023    638553      188018              5152947\n",
       "1월-13     3433147   2570833    750651      311931              5668116\n",
       "2월-13     3363516   2678861    471897      216741              5498746\n",
       "3월-13     3601681   2573414    485968      464622              5718500\n",
       "4월-13     3340349   2633206    598299      177120              5459805\n",
       "5월-13     3213994   2046341    406282      216049              4863537\n",
       "6월-13     3148210   2206243    400556      244268              4909139\n",
       "7월-13     3525625   2585445    522934      266168              5614433\n",
       "8월-13     3536027   2620149    474995      239347              5478252\n",
       "9월-13     3522750   2151058    399272      219926              5162335\n",
       "10월-13    3438653   1854696    463383      358790              4786756\n",
       "11월-13    3174030   1921762    593783      272594              4795968\n",
       "12월-13    2957603   1779469    486482      245083              4452032\n",
       "1월-14     3082865   1869647    527502      275666              4607764\n",
       "2월-14     3193251   1947752    437116      263974              4780490\n",
       "3월-14     2949148   1776500    419819      297214              4477295\n",
       "4월-14     3005089   1759545    459371      395442              4637152\n",
       "5월-14     3122069   1712444    379448      275913              4586450\n",
       "6월-14     3042333   1542448    406276      282377              4380640\n",
       "7월-14     3007247   1507817    520050      249850              4446041\n",
       "8월-14     2811453   1476506    346728      313819              4213859\n",
       "9월-14     2487413   1536117    357084      363053              4005916\n",
       "10월-14    2836273   1547458    369452      302822              4233829\n",
       "11월-14    2691126   1624158    352956      384940              4212221\n",
       "12월-14    2528648   1674045    440285      382337              4278095\n",
       "1월-15     2702249   1682265    324040      357034              4219187\n",
       "2월-15     2512878   1478710    299486      398593              3939242\n",
       "3월-15     2722772   1826173    317636      530017              4486005\n",
       "4월-15     3077679   1596559    344752      340017              4599696\n",
       "5월-15     3046904   1599962    241285      316486              4426058\n",
       "6월-15     3021911   1490001    254219      354260              4317891\n",
       "7월-15     2772323   1419051    311185      300681              4042735"
      ]
     },
     "execution_count": 9,
     "metadata": {},
     "output_type": "execute_result"
    }
   ],
   "source": [
    "mmau= mail_mmau.T\n",
    "mmau"
   ]
  },
  {
   "cell_type": "code",
   "execution_count": 31,
   "metadata": {
    "collapsed": false
   },
   "outputs": [
    {
     "data": {
      "text/html": [
       "<div>\n",
       "<table border=\"1\" class=\"dataframe\">\n",
       "  <thead>\n",
       "    <tr style=\"text-align: right;\">\n",
       "      <th>분 류</th>\n",
       "      <th>naver.com</th>\n",
       "      <th>daum.net</th>\n",
       "      <th>nate.com</th>\n",
       "      <th>google.com</th>\n",
       "      <th>Communication-Email</th>\n",
       "    </tr>\n",
       "  </thead>\n",
       "  <tbody>\n",
       "    <tr>\n",
       "      <th>1월-12</th>\n",
       "      <td>NaN</td>\n",
       "      <td>NaN</td>\n",
       "      <td>NaN</td>\n",
       "      <td>NaN</td>\n",
       "      <td>NaN</td>\n",
       "    </tr>\n",
       "    <tr>\n",
       "      <th>2월-12</th>\n",
       "      <td>-0.090137</td>\n",
       "      <td>-0.011899</td>\n",
       "      <td>0.013934</td>\n",
       "      <td>-0.344906</td>\n",
       "      <td>-0.063296</td>\n",
       "    </tr>\n",
       "    <tr>\n",
       "      <th>3월-12</th>\n",
       "      <td>0.156579</td>\n",
       "      <td>-0.276207</td>\n",
       "      <td>-0.127756</td>\n",
       "      <td>-0.047296</td>\n",
       "      <td>-0.092354</td>\n",
       "    </tr>\n",
       "    <tr>\n",
       "      <th>4월-12</th>\n",
       "      <td>0.413547</td>\n",
       "      <td>0.226229</td>\n",
       "      <td>-0.167626</td>\n",
       "      <td>0.058769</td>\n",
       "      <td>0.224137</td>\n",
       "    </tr>\n",
       "    <tr>\n",
       "      <th>5월-12</th>\n",
       "      <td>-0.102285</td>\n",
       "      <td>0.005511</td>\n",
       "      <td>-0.163412</td>\n",
       "      <td>-0.276382</td>\n",
       "      <td>-0.069380</td>\n",
       "    </tr>\n",
       "    <tr>\n",
       "      <th>6월-12</th>\n",
       "      <td>0.139229</td>\n",
       "      <td>0.034028</td>\n",
       "      <td>0.335779</td>\n",
       "      <td>-0.083987</td>\n",
       "      <td>0.108210</td>\n",
       "    </tr>\n",
       "    <tr>\n",
       "      <th>7월-12</th>\n",
       "      <td>0.255787</td>\n",
       "      <td>0.188638</td>\n",
       "      <td>-0.108187</td>\n",
       "      <td>0.342354</td>\n",
       "      <td>0.193312</td>\n",
       "    </tr>\n",
       "    <tr>\n",
       "      <th>8월-12</th>\n",
       "      <td>-0.005560</td>\n",
       "      <td>-0.072128</td>\n",
       "      <td>0.011334</td>\n",
       "      <td>-0.379033</td>\n",
       "      <td>-0.040333</td>\n",
       "    </tr>\n",
       "    <tr>\n",
       "      <th>9월-12</th>\n",
       "      <td>0.008596</td>\n",
       "      <td>-0.095850</td>\n",
       "      <td>0.063491</td>\n",
       "      <td>2.250943</td>\n",
       "      <td>-0.055778</td>\n",
       "    </tr>\n",
       "    <tr>\n",
       "      <th>10월-12</th>\n",
       "      <td>0.010047</td>\n",
       "      <td>0.106620</td>\n",
       "      <td>0.085904</td>\n",
       "      <td>0.155177</td>\n",
       "      <td>0.071577</td>\n",
       "    </tr>\n",
       "    <tr>\n",
       "      <th>11월-12</th>\n",
       "      <td>0.043634</td>\n",
       "      <td>0.069395</td>\n",
       "      <td>-0.381529</td>\n",
       "      <td>-0.188029</td>\n",
       "      <td>0.008483</td>\n",
       "    </tr>\n",
       "    <tr>\n",
       "      <th>12월-12</th>\n",
       "      <td>0.103012</td>\n",
       "      <td>0.024514</td>\n",
       "      <td>0.501195</td>\n",
       "      <td>-0.282226</td>\n",
       "      <td>0.050505</td>\n",
       "    </tr>\n",
       "    <tr>\n",
       "      <th>1월-13</th>\n",
       "      <td>0.063172</td>\n",
       "      <td>0.098166</td>\n",
       "      <td>0.175550</td>\n",
       "      <td>0.659049</td>\n",
       "      <td>0.099976</td>\n",
       "    </tr>\n",
       "    <tr>\n",
       "      <th>2월-13</th>\n",
       "      <td>-0.020282</td>\n",
       "      <td>0.042021</td>\n",
       "      <td>-0.371350</td>\n",
       "      <td>-0.305164</td>\n",
       "      <td>-0.029881</td>\n",
       "    </tr>\n",
       "    <tr>\n",
       "      <th>3월-13</th>\n",
       "      <td>0.070808</td>\n",
       "      <td>-0.039363</td>\n",
       "      <td>0.029818</td>\n",
       "      <td>1.143674</td>\n",
       "      <td>0.039964</td>\n",
       "    </tr>\n",
       "    <tr>\n",
       "      <th>4월-13</th>\n",
       "      <td>-0.072558</td>\n",
       "      <td>0.023235</td>\n",
       "      <td>0.231149</td>\n",
       "      <td>-0.618787</td>\n",
       "      <td>-0.045238</td>\n",
       "    </tr>\n",
       "    <tr>\n",
       "      <th>5월-13</th>\n",
       "      <td>-0.037827</td>\n",
       "      <td>-0.222871</td>\n",
       "      <td>-0.320938</td>\n",
       "      <td>0.219789</td>\n",
       "      <td>-0.109210</td>\n",
       "    </tr>\n",
       "    <tr>\n",
       "      <th>6월-13</th>\n",
       "      <td>-0.020468</td>\n",
       "      <td>0.078140</td>\n",
       "      <td>-0.014094</td>\n",
       "      <td>0.130614</td>\n",
       "      <td>0.009376</td>\n",
       "    </tr>\n",
       "    <tr>\n",
       "      <th>7월-13</th>\n",
       "      <td>0.119882</td>\n",
       "      <td>0.171877</td>\n",
       "      <td>0.305520</td>\n",
       "      <td>0.089656</td>\n",
       "      <td>0.143670</td>\n",
       "    </tr>\n",
       "    <tr>\n",
       "      <th>8월-13</th>\n",
       "      <td>0.002950</td>\n",
       "      <td>0.013423</td>\n",
       "      <td>-0.091673</td>\n",
       "      <td>-0.100767</td>\n",
       "      <td>-0.024256</td>\n",
       "    </tr>\n",
       "    <tr>\n",
       "      <th>9월-13</th>\n",
       "      <td>-0.003755</td>\n",
       "      <td>-0.179032</td>\n",
       "      <td>-0.159419</td>\n",
       "      <td>-0.081142</td>\n",
       "      <td>-0.057667</td>\n",
       "    </tr>\n",
       "    <tr>\n",
       "      <th>10월-13</th>\n",
       "      <td>-0.023873</td>\n",
       "      <td>-0.137775</td>\n",
       "      <td>0.160570</td>\n",
       "      <td>0.631412</td>\n",
       "      <td>-0.072754</td>\n",
       "    </tr>\n",
       "    <tr>\n",
       "      <th>11월-13</th>\n",
       "      <td>-0.076955</td>\n",
       "      <td>0.036160</td>\n",
       "      <td>0.281409</td>\n",
       "      <td>-0.240241</td>\n",
       "      <td>0.001924</td>\n",
       "    </tr>\n",
       "    <tr>\n",
       "      <th>12월-13</th>\n",
       "      <td>-0.068187</td>\n",
       "      <td>-0.074043</td>\n",
       "      <td>-0.180707</td>\n",
       "      <td>-0.100923</td>\n",
       "      <td>-0.071714</td>\n",
       "    </tr>\n",
       "    <tr>\n",
       "      <th>1월-14</th>\n",
       "      <td>0.042353</td>\n",
       "      <td>0.050677</td>\n",
       "      <td>0.084320</td>\n",
       "      <td>0.124786</td>\n",
       "      <td>0.034980</td>\n",
       "    </tr>\n",
       "    <tr>\n",
       "      <th>2월-14</th>\n",
       "      <td>0.035806</td>\n",
       "      <td>0.041775</td>\n",
       "      <td>-0.171347</td>\n",
       "      <td>-0.042414</td>\n",
       "      <td>0.037486</td>\n",
       "    </tr>\n",
       "    <tr>\n",
       "      <th>3월-14</th>\n",
       "      <td>-0.076443</td>\n",
       "      <td>-0.087923</td>\n",
       "      <td>-0.039571</td>\n",
       "      <td>0.125921</td>\n",
       "      <td>-0.063423</td>\n",
       "    </tr>\n",
       "    <tr>\n",
       "      <th>4월-14</th>\n",
       "      <td>0.018969</td>\n",
       "      <td>-0.009544</td>\n",
       "      <td>0.094212</td>\n",
       "      <td>0.330496</td>\n",
       "      <td>0.035704</td>\n",
       "    </tr>\n",
       "    <tr>\n",
       "      <th>5월-14</th>\n",
       "      <td>0.038927</td>\n",
       "      <td>-0.026769</td>\n",
       "      <td>-0.173984</td>\n",
       "      <td>-0.302267</td>\n",
       "      <td>-0.010934</td>\n",
       "    </tr>\n",
       "    <tr>\n",
       "      <th>6월-14</th>\n",
       "      <td>-0.025539</td>\n",
       "      <td>-0.099271</td>\n",
       "      <td>0.070703</td>\n",
       "      <td>0.023428</td>\n",
       "      <td>-0.044873</td>\n",
       "    </tr>\n",
       "    <tr>\n",
       "      <th>7월-14</th>\n",
       "      <td>-0.011533</td>\n",
       "      <td>-0.022452</td>\n",
       "      <td>0.280041</td>\n",
       "      <td>-0.115190</td>\n",
       "      <td>0.014930</td>\n",
       "    </tr>\n",
       "    <tr>\n",
       "      <th>8월-14</th>\n",
       "      <td>-0.065107</td>\n",
       "      <td>-0.020766</td>\n",
       "      <td>-0.333279</td>\n",
       "      <td>0.256030</td>\n",
       "      <td>-0.052222</td>\n",
       "    </tr>\n",
       "    <tr>\n",
       "      <th>9월-14</th>\n",
       "      <td>-0.115257</td>\n",
       "      <td>0.040373</td>\n",
       "      <td>0.029868</td>\n",
       "      <td>0.156887</td>\n",
       "      <td>-0.049347</td>\n",
       "    </tr>\n",
       "    <tr>\n",
       "      <th>10월-14</th>\n",
       "      <td>0.140250</td>\n",
       "      <td>0.007383</td>\n",
       "      <td>0.034636</td>\n",
       "      <td>-0.165901</td>\n",
       "      <td>0.056894</td>\n",
       "    </tr>\n",
       "    <tr>\n",
       "      <th>11월-14</th>\n",
       "      <td>-0.051175</td>\n",
       "      <td>0.049565</td>\n",
       "      <td>-0.044650</td>\n",
       "      <td>0.271176</td>\n",
       "      <td>-0.005104</td>\n",
       "    </tr>\n",
       "    <tr>\n",
       "      <th>12월-14</th>\n",
       "      <td>-0.060375</td>\n",
       "      <td>0.030716</td>\n",
       "      <td>0.247422</td>\n",
       "      <td>-0.006762</td>\n",
       "      <td>0.015639</td>\n",
       "    </tr>\n",
       "    <tr>\n",
       "      <th>1월-15</th>\n",
       "      <td>0.068654</td>\n",
       "      <td>0.004910</td>\n",
       "      <td>-0.264022</td>\n",
       "      <td>-0.066180</td>\n",
       "      <td>-0.013770</td>\n",
       "    </tr>\n",
       "    <tr>\n",
       "      <th>2월-15</th>\n",
       "      <td>-0.070079</td>\n",
       "      <td>-0.121001</td>\n",
       "      <td>-0.075775</td>\n",
       "      <td>0.116401</td>\n",
       "      <td>-0.066350</td>\n",
       "    </tr>\n",
       "    <tr>\n",
       "      <th>3월-15</th>\n",
       "      <td>0.083527</td>\n",
       "      <td>0.234977</td>\n",
       "      <td>0.060604</td>\n",
       "      <td>0.329720</td>\n",
       "      <td>0.138799</td>\n",
       "    </tr>\n",
       "    <tr>\n",
       "      <th>4월-15</th>\n",
       "      <td>0.130348</td>\n",
       "      <td>-0.125735</td>\n",
       "      <td>0.085368</td>\n",
       "      <td>-0.358479</td>\n",
       "      <td>0.025343</td>\n",
       "    </tr>\n",
       "    <tr>\n",
       "      <th>5월-15</th>\n",
       "      <td>-0.009999</td>\n",
       "      <td>0.002131</td>\n",
       "      <td>-0.300120</td>\n",
       "      <td>-0.069205</td>\n",
       "      <td>-0.037750</td>\n",
       "    </tr>\n",
       "    <tr>\n",
       "      <th>6월-15</th>\n",
       "      <td>-0.008203</td>\n",
       "      <td>-0.068727</td>\n",
       "      <td>0.053605</td>\n",
       "      <td>0.119354</td>\n",
       "      <td>-0.024439</td>\n",
       "    </tr>\n",
       "    <tr>\n",
       "      <th>7월-15</th>\n",
       "      <td>-0.082593</td>\n",
       "      <td>-0.047617</td>\n",
       "      <td>0.224082</td>\n",
       "      <td>-0.151242</td>\n",
       "      <td>-0.063725</td>\n",
       "    </tr>\n",
       "  </tbody>\n",
       "</table>\n",
       "</div>"
      ],
      "text/plain": [
       "분 류     naver.com  daum.net  nate.com  google.com  Communication-Email\n",
       "1월-12         NaN       NaN       NaN         NaN                  NaN\n",
       "2월-12   -0.090137 -0.011899  0.013934   -0.344906            -0.063296\n",
       "3월-12    0.156579 -0.276207 -0.127756   -0.047296            -0.092354\n",
       "4월-12    0.413547  0.226229 -0.167626    0.058769             0.224137\n",
       "5월-12   -0.102285  0.005511 -0.163412   -0.276382            -0.069380\n",
       "6월-12    0.139229  0.034028  0.335779   -0.083987             0.108210\n",
       "7월-12    0.255787  0.188638 -0.108187    0.342354             0.193312\n",
       "8월-12   -0.005560 -0.072128  0.011334   -0.379033            -0.040333\n",
       "9월-12    0.008596 -0.095850  0.063491    2.250943            -0.055778\n",
       "10월-12   0.010047  0.106620  0.085904    0.155177             0.071577\n",
       "11월-12   0.043634  0.069395 -0.381529   -0.188029             0.008483\n",
       "12월-12   0.103012  0.024514  0.501195   -0.282226             0.050505\n",
       "1월-13    0.063172  0.098166  0.175550    0.659049             0.099976\n",
       "2월-13   -0.020282  0.042021 -0.371350   -0.305164            -0.029881\n",
       "3월-13    0.070808 -0.039363  0.029818    1.143674             0.039964\n",
       "4월-13   -0.072558  0.023235  0.231149   -0.618787            -0.045238\n",
       "5월-13   -0.037827 -0.222871 -0.320938    0.219789            -0.109210\n",
       "6월-13   -0.020468  0.078140 -0.014094    0.130614             0.009376\n",
       "7월-13    0.119882  0.171877  0.305520    0.089656             0.143670\n",
       "8월-13    0.002950  0.013423 -0.091673   -0.100767            -0.024256\n",
       "9월-13   -0.003755 -0.179032 -0.159419   -0.081142            -0.057667\n",
       "10월-13  -0.023873 -0.137775  0.160570    0.631412            -0.072754\n",
       "11월-13  -0.076955  0.036160  0.281409   -0.240241             0.001924\n",
       "12월-13  -0.068187 -0.074043 -0.180707   -0.100923            -0.071714\n",
       "1월-14    0.042353  0.050677  0.084320    0.124786             0.034980\n",
       "2월-14    0.035806  0.041775 -0.171347   -0.042414             0.037486\n",
       "3월-14   -0.076443 -0.087923 -0.039571    0.125921            -0.063423\n",
       "4월-14    0.018969 -0.009544  0.094212    0.330496             0.035704\n",
       "5월-14    0.038927 -0.026769 -0.173984   -0.302267            -0.010934\n",
       "6월-14   -0.025539 -0.099271  0.070703    0.023428            -0.044873\n",
       "7월-14   -0.011533 -0.022452  0.280041   -0.115190             0.014930\n",
       "8월-14   -0.065107 -0.020766 -0.333279    0.256030            -0.052222\n",
       "9월-14   -0.115257  0.040373  0.029868    0.156887            -0.049347\n",
       "10월-14   0.140250  0.007383  0.034636   -0.165901             0.056894\n",
       "11월-14  -0.051175  0.049565 -0.044650    0.271176            -0.005104\n",
       "12월-14  -0.060375  0.030716  0.247422   -0.006762             0.015639\n",
       "1월-15    0.068654  0.004910 -0.264022   -0.066180            -0.013770\n",
       "2월-15   -0.070079 -0.121001 -0.075775    0.116401            -0.066350\n",
       "3월-15    0.083527  0.234977  0.060604    0.329720             0.138799\n",
       "4월-15    0.130348 -0.125735  0.085368   -0.358479             0.025343\n",
       "5월-15   -0.009999  0.002131 -0.300120   -0.069205            -0.037750\n",
       "6월-15   -0.008203 -0.068727  0.053605    0.119354            -0.024439\n",
       "7월-15   -0.082593 -0.047617  0.224082   -0.151242            -0.063725"
      ]
     },
     "execution_count": 31,
     "metadata": {},
     "output_type": "execute_result"
    }
   ],
   "source": [
    "mmau.pct_change()"
   ]
  },
  {
   "cell_type": "code",
   "execution_count": 32,
   "metadata": {
    "collapsed": false
   },
   "outputs": [
    {
     "data": {
      "text/plain": [
       "164011059464.21039"
      ]
     },
     "execution_count": 32,
     "metadata": {},
     "output_type": "execute_result"
    }
   ],
   "source": [
    "mmau['daum.net'].cov(mmau['Communication-Email'])"
   ]
  },
  {
   "cell_type": "code",
   "execution_count": 33,
   "metadata": {
    "collapsed": false
   },
   "outputs": [
    {
     "data": {
      "text/plain": [
       "0.79280894904377797"
      ]
     },
     "execution_count": 33,
     "metadata": {},
     "output_type": "execute_result"
    }
   ],
   "source": [
    "mmau['daum.net'].corr(mmau['Communication-Email'])"
   ]
  },
  {
   "cell_type": "code",
   "execution_count": 34,
   "metadata": {
    "collapsed": false
   },
   "outputs": [
    {
     "data": {
      "text/html": [
       "<div>\n",
       "<table border=\"1\" class=\"dataframe\">\n",
       "  <thead>\n",
       "    <tr style=\"text-align: right;\">\n",
       "      <th>분 류</th>\n",
       "      <th>naver.com</th>\n",
       "      <th>daum.net</th>\n",
       "      <th>nate.com</th>\n",
       "      <th>google.com</th>\n",
       "      <th>Communication-Email</th>\n",
       "    </tr>\n",
       "    <tr>\n",
       "      <th>분 류</th>\n",
       "      <th></th>\n",
       "      <th></th>\n",
       "      <th></th>\n",
       "      <th></th>\n",
       "      <th></th>\n",
       "    </tr>\n",
       "  </thead>\n",
       "  <tbody>\n",
       "    <tr>\n",
       "      <th>naver.com</th>\n",
       "      <td>1.000000</td>\n",
       "      <td>0.358375</td>\n",
       "      <td>-0.381901</td>\n",
       "      <td>0.302069</td>\n",
       "      <td>0.836771</td>\n",
       "    </tr>\n",
       "    <tr>\n",
       "      <th>daum.net</th>\n",
       "      <td>0.358375</td>\n",
       "      <td>1.000000</td>\n",
       "      <td>0.483446</td>\n",
       "      <td>-0.290624</td>\n",
       "      <td>0.792809</td>\n",
       "    </tr>\n",
       "    <tr>\n",
       "      <th>nate.com</th>\n",
       "      <td>-0.381901</td>\n",
       "      <td>0.483446</td>\n",
       "      <td>1.000000</td>\n",
       "      <td>-0.548870</td>\n",
       "      <td>0.061057</td>\n",
       "    </tr>\n",
       "    <tr>\n",
       "      <th>google.com</th>\n",
       "      <td>0.302069</td>\n",
       "      <td>-0.290624</td>\n",
       "      <td>-0.548870</td>\n",
       "      <td>1.000000</td>\n",
       "      <td>0.059398</td>\n",
       "    </tr>\n",
       "    <tr>\n",
       "      <th>Communication-Email</th>\n",
       "      <td>0.836771</td>\n",
       "      <td>0.792809</td>\n",
       "      <td>0.061057</td>\n",
       "      <td>0.059398</td>\n",
       "      <td>1.000000</td>\n",
       "    </tr>\n",
       "  </tbody>\n",
       "</table>\n",
       "</div>"
      ],
      "text/plain": [
       "분 류                  naver.com  daum.net  nate.com  google.com  \\\n",
       "분 류                                                              \n",
       "naver.com             1.000000  0.358375 -0.381901    0.302069   \n",
       "daum.net              0.358375  1.000000  0.483446   -0.290624   \n",
       "nate.com             -0.381901  0.483446  1.000000   -0.548870   \n",
       "google.com            0.302069 -0.290624 -0.548870    1.000000   \n",
       "Communication-Email   0.836771  0.792809  0.061057    0.059398   \n",
       "\n",
       "분 류                  Communication-Email  \n",
       "분 류                                       \n",
       "naver.com                       0.836771  \n",
       "daum.net                        0.792809  \n",
       "nate.com                        0.061057  \n",
       "google.com                      0.059398  \n",
       "Communication-Email             1.000000  "
      ]
     },
     "execution_count": 34,
     "metadata": {},
     "output_type": "execute_result"
    }
   ],
   "source": [
    "mmau.corr()"
   ]
  },
  {
   "cell_type": "code",
   "execution_count": 35,
   "metadata": {
    "collapsed": true
   },
   "outputs": [],
   "source": [
    "#pc mau"
   ]
  },
  {
   "cell_type": "code",
   "execution_count": 6,
   "metadata": {
    "collapsed": false
   },
   "outputs": [
    {
     "data": {
      "text/html": [
       "<div>\n",
       "<table border=\"1\" class=\"dataframe\">\n",
       "  <thead>\n",
       "    <tr style=\"text-align: right;\">\n",
       "      <th></th>\n",
       "      <th>9월-02</th>\n",
       "      <th>10월-02</th>\n",
       "      <th>11월-02</th>\n",
       "      <th>12월-02</th>\n",
       "      <th>1월-03</th>\n",
       "      <th>2월-03</th>\n",
       "      <th>3월-03</th>\n",
       "      <th>4월-03</th>\n",
       "      <th>5월-03</th>\n",
       "      <th>6월-03</th>\n",
       "      <th>...</th>\n",
       "      <th>10월-14</th>\n",
       "      <th>11월-14</th>\n",
       "      <th>12월-14</th>\n",
       "      <th>1월-15</th>\n",
       "      <th>2월-15</th>\n",
       "      <th>3월-15</th>\n",
       "      <th>4월-15</th>\n",
       "      <th>5월-15</th>\n",
       "      <th>6월-15</th>\n",
       "      <th>7월-15</th>\n",
       "    </tr>\n",
       "    <tr>\n",
       "      <th>분 류</th>\n",
       "      <th></th>\n",
       "      <th></th>\n",
       "      <th></th>\n",
       "      <th></th>\n",
       "      <th></th>\n",
       "      <th></th>\n",
       "      <th></th>\n",
       "      <th></th>\n",
       "      <th></th>\n",
       "      <th></th>\n",
       "      <th></th>\n",
       "      <th></th>\n",
       "      <th></th>\n",
       "      <th></th>\n",
       "      <th></th>\n",
       "      <th></th>\n",
       "      <th></th>\n",
       "      <th></th>\n",
       "      <th></th>\n",
       "      <th></th>\n",
       "      <th></th>\n",
       "    </tr>\n",
       "  </thead>\n",
       "  <tbody>\n",
       "    <tr>\n",
       "      <th>naver.com</th>\n",
       "      <td>1939599</td>\n",
       "      <td>1927483</td>\n",
       "      <td>2324534</td>\n",
       "      <td>2477848</td>\n",
       "      <td>2576350</td>\n",
       "      <td>2885544</td>\n",
       "      <td>3091230</td>\n",
       "      <td>3381671</td>\n",
       "      <td>3299419</td>\n",
       "      <td>3894331</td>\n",
       "      <td>...</td>\n",
       "      <td>17130578</td>\n",
       "      <td>16857636</td>\n",
       "      <td>16798943</td>\n",
       "      <td>16600515</td>\n",
       "      <td>15483087</td>\n",
       "      <td>16903873</td>\n",
       "      <td>16550268</td>\n",
       "      <td>16710362</td>\n",
       "      <td>16924774</td>\n",
       "      <td>16636861</td>\n",
       "    </tr>\n",
       "    <tr>\n",
       "      <th>daum.net</th>\n",
       "      <td>18169858</td>\n",
       "      <td>17430340</td>\n",
       "      <td>18684232</td>\n",
       "      <td>19103068</td>\n",
       "      <td>19090580</td>\n",
       "      <td>19338630</td>\n",
       "      <td>19854052</td>\n",
       "      <td>19252372</td>\n",
       "      <td>19254174</td>\n",
       "      <td>20410178</td>\n",
       "      <td>...</td>\n",
       "      <td>13093149</td>\n",
       "      <td>12799077</td>\n",
       "      <td>12749609</td>\n",
       "      <td>12956563</td>\n",
       "      <td>11764914</td>\n",
       "      <td>12903009</td>\n",
       "      <td>12222087</td>\n",
       "      <td>12294511</td>\n",
       "      <td>12025579</td>\n",
       "      <td>12015783</td>\n",
       "    </tr>\n",
       "    <tr>\n",
       "      <th>nate.com</th>\n",
       "      <td>556665</td>\n",
       "      <td>962698</td>\n",
       "      <td>1864338</td>\n",
       "      <td>3556092</td>\n",
       "      <td>5205320</td>\n",
       "      <td>5339015</td>\n",
       "      <td>5038476</td>\n",
       "      <td>4605165</td>\n",
       "      <td>4510060</td>\n",
       "      <td>4878930</td>\n",
       "      <td>...</td>\n",
       "      <td>5740949</td>\n",
       "      <td>5422418</td>\n",
       "      <td>5294178</td>\n",
       "      <td>5331004</td>\n",
       "      <td>4853505</td>\n",
       "      <td>5067788</td>\n",
       "      <td>4960576</td>\n",
       "      <td>4809377</td>\n",
       "      <td>4956443</td>\n",
       "      <td>4861113</td>\n",
       "    </tr>\n",
       "    <tr>\n",
       "      <th>google.com</th>\n",
       "      <td>NaN</td>\n",
       "      <td>NaN</td>\n",
       "      <td>NaN</td>\n",
       "      <td>NaN</td>\n",
       "      <td>NaN</td>\n",
       "      <td>NaN</td>\n",
       "      <td>NaN</td>\n",
       "      <td>NaN</td>\n",
       "      <td>NaN</td>\n",
       "      <td>NaN</td>\n",
       "      <td>...</td>\n",
       "      <td>1377576</td>\n",
       "      <td>1473539</td>\n",
       "      <td>1434281</td>\n",
       "      <td>1544514</td>\n",
       "      <td>1390391</td>\n",
       "      <td>1781983</td>\n",
       "      <td>1645368</td>\n",
       "      <td>1761574</td>\n",
       "      <td>1925899</td>\n",
       "      <td>1938953</td>\n",
       "    </tr>\n",
       "    <tr>\n",
       "      <th>communication-mail</th>\n",
       "      <td>20712421</td>\n",
       "      <td>20044462</td>\n",
       "      <td>20998532</td>\n",
       "      <td>21393643</td>\n",
       "      <td>21419554</td>\n",
       "      <td>21347029</td>\n",
       "      <td>21992107</td>\n",
       "      <td>21800682</td>\n",
       "      <td>21889912</td>\n",
       "      <td>22951745</td>\n",
       "      <td>...</td>\n",
       "      <td>24359396</td>\n",
       "      <td>24150259</td>\n",
       "      <td>23913457</td>\n",
       "      <td>23865345</td>\n",
       "      <td>22330964</td>\n",
       "      <td>23840936</td>\n",
       "      <td>23416619</td>\n",
       "      <td>23679246</td>\n",
       "      <td>23610765</td>\n",
       "      <td>23304235</td>\n",
       "    </tr>\n",
       "  </tbody>\n",
       "</table>\n",
       "<p>5 rows × 155 columns</p>\n",
       "</div>"
      ],
      "text/plain": [
       "                       9월-02    10월-02    11월-02    12월-02     1월-03  \\\n",
       "분 류                                                                    \n",
       "naver.com            1939599   1927483   2324534   2477848   2576350   \n",
       "daum.net            18169858  17430340  18684232  19103068  19090580   \n",
       "nate.com              556665    962698   1864338   3556092   5205320   \n",
       "google.com               NaN       NaN       NaN       NaN       NaN   \n",
       "communication-mail  20712421  20044462  20998532  21393643  21419554   \n",
       "\n",
       "                       2월-03     3월-03     4월-03     5월-03     6월-03  \\\n",
       "분 류                                                                    \n",
       "naver.com            2885544   3091230   3381671   3299419   3894331   \n",
       "daum.net            19338630  19854052  19252372  19254174  20410178   \n",
       "nate.com             5339015   5038476   4605165   4510060   4878930   \n",
       "google.com               NaN       NaN       NaN       NaN       NaN   \n",
       "communication-mail  21347029  21992107  21800682  21889912  22951745   \n",
       "\n",
       "                      ...       10월-14    11월-14    12월-14     1월-15  \\\n",
       "분 류                   ...                                              \n",
       "naver.com             ...     17130578  16857636  16798943  16600515   \n",
       "daum.net              ...     13093149  12799077  12749609  12956563   \n",
       "nate.com              ...      5740949   5422418   5294178   5331004   \n",
       "google.com            ...      1377576   1473539   1434281   1544514   \n",
       "communication-mail    ...     24359396  24150259  23913457  23865345   \n",
       "\n",
       "                       2월-15     3월-15     4월-15     5월-15     6월-15     7월-15  \n",
       "분 류                                                                             \n",
       "naver.com           15483087  16903873  16550268  16710362  16924774  16636861  \n",
       "daum.net            11764914  12903009  12222087  12294511  12025579  12015783  \n",
       "nate.com             4853505   5067788   4960576   4809377   4956443   4861113  \n",
       "google.com           1390391   1781983   1645368   1761574   1925899   1938953  \n",
       "communication-mail  22330964  23840936  23416619  23679246  23610765  23304235  \n",
       "\n",
       "[5 rows x 155 columns]"
      ]
     },
     "execution_count": 6,
     "metadata": {},
     "output_type": "execute_result"
    }
   ],
   "source": [
    "mail_pcmau = pd.read_csv('mail_pcmau.csv', index_col='분 류', thousands=',')\n",
    "mail_pcmau"
   ]
  },
  {
   "cell_type": "code",
   "execution_count": 7,
   "metadata": {
    "collapsed": false
   },
   "outputs": [
    {
     "data": {
      "text/html": [
       "<div>\n",
       "<table border=\"1\" class=\"dataframe\">\n",
       "  <thead>\n",
       "    <tr style=\"text-align: right;\">\n",
       "      <th>분 류</th>\n",
       "      <th>naver.com</th>\n",
       "      <th>daum.net</th>\n",
       "      <th>nate.com</th>\n",
       "      <th>google.com</th>\n",
       "      <th>communication-mail</th>\n",
       "    </tr>\n",
       "  </thead>\n",
       "  <tbody>\n",
       "    <tr>\n",
       "      <th>9월-02</th>\n",
       "      <td>1939599</td>\n",
       "      <td>18169858</td>\n",
       "      <td>556665</td>\n",
       "      <td>NaN</td>\n",
       "      <td>20712421</td>\n",
       "    </tr>\n",
       "    <tr>\n",
       "      <th>10월-02</th>\n",
       "      <td>1927483</td>\n",
       "      <td>17430340</td>\n",
       "      <td>962698</td>\n",
       "      <td>NaN</td>\n",
       "      <td>20044462</td>\n",
       "    </tr>\n",
       "    <tr>\n",
       "      <th>11월-02</th>\n",
       "      <td>2324534</td>\n",
       "      <td>18684232</td>\n",
       "      <td>1864338</td>\n",
       "      <td>NaN</td>\n",
       "      <td>20998532</td>\n",
       "    </tr>\n",
       "    <tr>\n",
       "      <th>12월-02</th>\n",
       "      <td>2477848</td>\n",
       "      <td>19103068</td>\n",
       "      <td>3556092</td>\n",
       "      <td>NaN</td>\n",
       "      <td>21393643</td>\n",
       "    </tr>\n",
       "    <tr>\n",
       "      <th>1월-03</th>\n",
       "      <td>2576350</td>\n",
       "      <td>19090580</td>\n",
       "      <td>5205320</td>\n",
       "      <td>NaN</td>\n",
       "      <td>21419554</td>\n",
       "    </tr>\n",
       "    <tr>\n",
       "      <th>2월-03</th>\n",
       "      <td>2885544</td>\n",
       "      <td>19338630</td>\n",
       "      <td>5339015</td>\n",
       "      <td>NaN</td>\n",
       "      <td>21347029</td>\n",
       "    </tr>\n",
       "    <tr>\n",
       "      <th>3월-03</th>\n",
       "      <td>3091230</td>\n",
       "      <td>19854052</td>\n",
       "      <td>5038476</td>\n",
       "      <td>NaN</td>\n",
       "      <td>21992107</td>\n",
       "    </tr>\n",
       "    <tr>\n",
       "      <th>4월-03</th>\n",
       "      <td>3381671</td>\n",
       "      <td>19252372</td>\n",
       "      <td>4605165</td>\n",
       "      <td>NaN</td>\n",
       "      <td>21800682</td>\n",
       "    </tr>\n",
       "    <tr>\n",
       "      <th>5월-03</th>\n",
       "      <td>3299419</td>\n",
       "      <td>19254174</td>\n",
       "      <td>4510060</td>\n",
       "      <td>NaN</td>\n",
       "      <td>21889912</td>\n",
       "    </tr>\n",
       "    <tr>\n",
       "      <th>6월-03</th>\n",
       "      <td>3894331</td>\n",
       "      <td>20410178</td>\n",
       "      <td>4878930</td>\n",
       "      <td>NaN</td>\n",
       "      <td>22951745</td>\n",
       "    </tr>\n",
       "    <tr>\n",
       "      <th>7월-03</th>\n",
       "      <td>4016301</td>\n",
       "      <td>20746605</td>\n",
       "      <td>4811039</td>\n",
       "      <td>NaN</td>\n",
       "      <td>22972780</td>\n",
       "    </tr>\n",
       "    <tr>\n",
       "      <th>8월-03</th>\n",
       "      <td>4428060</td>\n",
       "      <td>20186228</td>\n",
       "      <td>5320048</td>\n",
       "      <td>NaN</td>\n",
       "      <td>22379283</td>\n",
       "    </tr>\n",
       "    <tr>\n",
       "      <th>9월-03</th>\n",
       "      <td>4231484</td>\n",
       "      <td>20284082</td>\n",
       "      <td>5544585</td>\n",
       "      <td>NaN</td>\n",
       "      <td>22265839</td>\n",
       "    </tr>\n",
       "    <tr>\n",
       "      <th>10월-03</th>\n",
       "      <td>4283027</td>\n",
       "      <td>20484624</td>\n",
       "      <td>5573478</td>\n",
       "      <td>NaN</td>\n",
       "      <td>22421044</td>\n",
       "    </tr>\n",
       "    <tr>\n",
       "      <th>11월-03</th>\n",
       "      <td>4707581</td>\n",
       "      <td>20189203</td>\n",
       "      <td>5055455</td>\n",
       "      <td>NaN</td>\n",
       "      <td>22164090</td>\n",
       "    </tr>\n",
       "    <tr>\n",
       "      <th>12월-03</th>\n",
       "      <td>5302335</td>\n",
       "      <td>20910876</td>\n",
       "      <td>5983831</td>\n",
       "      <td>NaN</td>\n",
       "      <td>23043746</td>\n",
       "    </tr>\n",
       "    <tr>\n",
       "      <th>1월-04</th>\n",
       "      <td>5679813</td>\n",
       "      <td>20984888</td>\n",
       "      <td>5654637</td>\n",
       "      <td>NaN</td>\n",
       "      <td>23176427</td>\n",
       "    </tr>\n",
       "    <tr>\n",
       "      <th>2월-04</th>\n",
       "      <td>5979773</td>\n",
       "      <td>21146798</td>\n",
       "      <td>5303486</td>\n",
       "      <td>NaN</td>\n",
       "      <td>23444831</td>\n",
       "    </tr>\n",
       "    <tr>\n",
       "      <th>3월-04</th>\n",
       "      <td>6072524</td>\n",
       "      <td>22135197</td>\n",
       "      <td>5192742</td>\n",
       "      <td>NaN</td>\n",
       "      <td>24984428</td>\n",
       "    </tr>\n",
       "    <tr>\n",
       "      <th>4월-04</th>\n",
       "      <td>6249485</td>\n",
       "      <td>21456262</td>\n",
       "      <td>5428641</td>\n",
       "      <td>NaN</td>\n",
       "      <td>24315064</td>\n",
       "    </tr>\n",
       "    <tr>\n",
       "      <th>5월-04</th>\n",
       "      <td>6602480</td>\n",
       "      <td>21911904</td>\n",
       "      <td>6454753</td>\n",
       "      <td>NaN</td>\n",
       "      <td>24754254</td>\n",
       "    </tr>\n",
       "    <tr>\n",
       "      <th>6월-04</th>\n",
       "      <td>7219760</td>\n",
       "      <td>22046684</td>\n",
       "      <td>7000204</td>\n",
       "      <td>NaN</td>\n",
       "      <td>24866785</td>\n",
       "    </tr>\n",
       "    <tr>\n",
       "      <th>7월-04</th>\n",
       "      <td>7777300</td>\n",
       "      <td>22194677</td>\n",
       "      <td>6791591</td>\n",
       "      <td>NaN</td>\n",
       "      <td>25113490</td>\n",
       "    </tr>\n",
       "    <tr>\n",
       "      <th>8월-04</th>\n",
       "      <td>7834622</td>\n",
       "      <td>21690226</td>\n",
       "      <td>5206727</td>\n",
       "      <td>NaN</td>\n",
       "      <td>24722110</td>\n",
       "    </tr>\n",
       "    <tr>\n",
       "      <th>9월-04</th>\n",
       "      <td>7739602</td>\n",
       "      <td>22391957</td>\n",
       "      <td>5380375</td>\n",
       "      <td>NaN</td>\n",
       "      <td>25953522</td>\n",
       "    </tr>\n",
       "    <tr>\n",
       "      <th>10월-04</th>\n",
       "      <td>8314945</td>\n",
       "      <td>22277487</td>\n",
       "      <td>5303270</td>\n",
       "      <td>NaN</td>\n",
       "      <td>25894557</td>\n",
       "    </tr>\n",
       "    <tr>\n",
       "      <th>11월-04</th>\n",
       "      <td>8766620</td>\n",
       "      <td>22537309</td>\n",
       "      <td>5718460</td>\n",
       "      <td>NaN</td>\n",
       "      <td>25957531</td>\n",
       "    </tr>\n",
       "    <tr>\n",
       "      <th>12월-04</th>\n",
       "      <td>9210256</td>\n",
       "      <td>22940698</td>\n",
       "      <td>6488637</td>\n",
       "      <td>NaN</td>\n",
       "      <td>26129305</td>\n",
       "    </tr>\n",
       "    <tr>\n",
       "      <th>1월-05</th>\n",
       "      <td>9770828</td>\n",
       "      <td>23228296</td>\n",
       "      <td>5782026</td>\n",
       "      <td>NaN</td>\n",
       "      <td>26380365</td>\n",
       "    </tr>\n",
       "    <tr>\n",
       "      <th>2월-05</th>\n",
       "      <td>9496927</td>\n",
       "      <td>22655442</td>\n",
       "      <td>5246028</td>\n",
       "      <td>292286</td>\n",
       "      <td>26130894</td>\n",
       "    </tr>\n",
       "    <tr>\n",
       "      <th>...</th>\n",
       "      <td>...</td>\n",
       "      <td>...</td>\n",
       "      <td>...</td>\n",
       "      <td>...</td>\n",
       "      <td>...</td>\n",
       "    </tr>\n",
       "    <tr>\n",
       "      <th>2월-13</th>\n",
       "      <td>16445049</td>\n",
       "      <td>15302367</td>\n",
       "      <td>8136763</td>\n",
       "      <td>1917456</td>\n",
       "      <td>25469465</td>\n",
       "    </tr>\n",
       "    <tr>\n",
       "      <th>3월-13</th>\n",
       "      <td>17218338</td>\n",
       "      <td>15282429</td>\n",
       "      <td>8026906</td>\n",
       "      <td>1833469</td>\n",
       "      <td>25733999</td>\n",
       "    </tr>\n",
       "    <tr>\n",
       "      <th>4월-13</th>\n",
       "      <td>17499722</td>\n",
       "      <td>15552130</td>\n",
       "      <td>7704685</td>\n",
       "      <td>1636746</td>\n",
       "      <td>25841201</td>\n",
       "    </tr>\n",
       "    <tr>\n",
       "      <th>5월-13</th>\n",
       "      <td>17551734</td>\n",
       "      <td>15154851</td>\n",
       "      <td>7602971</td>\n",
       "      <td>1753664</td>\n",
       "      <td>26027771</td>\n",
       "    </tr>\n",
       "    <tr>\n",
       "      <th>6월-13</th>\n",
       "      <td>17402594</td>\n",
       "      <td>14618680</td>\n",
       "      <td>7296313</td>\n",
       "      <td>1496933</td>\n",
       "      <td>25647848</td>\n",
       "    </tr>\n",
       "    <tr>\n",
       "      <th>7월-13</th>\n",
       "      <td>17358320</td>\n",
       "      <td>14644140</td>\n",
       "      <td>7381676</td>\n",
       "      <td>1556375</td>\n",
       "      <td>25335216</td>\n",
       "    </tr>\n",
       "    <tr>\n",
       "      <th>8월-13</th>\n",
       "      <td>16889609</td>\n",
       "      <td>14369395</td>\n",
       "      <td>7241079</td>\n",
       "      <td>1555648</td>\n",
       "      <td>24896754</td>\n",
       "    </tr>\n",
       "    <tr>\n",
       "      <th>9월-13</th>\n",
       "      <td>16889534</td>\n",
       "      <td>14131943</td>\n",
       "      <td>7080461</td>\n",
       "      <td>1575855</td>\n",
       "      <td>24912915</td>\n",
       "    </tr>\n",
       "    <tr>\n",
       "      <th>10월-13</th>\n",
       "      <td>18025278</td>\n",
       "      <td>14633468</td>\n",
       "      <td>7015064</td>\n",
       "      <td>1611232</td>\n",
       "      <td>25423032</td>\n",
       "    </tr>\n",
       "    <tr>\n",
       "      <th>11월-13</th>\n",
       "      <td>17712858</td>\n",
       "      <td>14117708</td>\n",
       "      <td>6757697</td>\n",
       "      <td>1336258</td>\n",
       "      <td>25261929</td>\n",
       "    </tr>\n",
       "    <tr>\n",
       "      <th>12월-13</th>\n",
       "      <td>17589390</td>\n",
       "      <td>14358445</td>\n",
       "      <td>6506733</td>\n",
       "      <td>1411548</td>\n",
       "      <td>25345016</td>\n",
       "    </tr>\n",
       "    <tr>\n",
       "      <th>1월-14</th>\n",
       "      <td>17669087</td>\n",
       "      <td>13827592</td>\n",
       "      <td>6298640</td>\n",
       "      <td>1548955</td>\n",
       "      <td>24883209</td>\n",
       "    </tr>\n",
       "    <tr>\n",
       "      <th>2월-14</th>\n",
       "      <td>16806799</td>\n",
       "      <td>13443259</td>\n",
       "      <td>5980735</td>\n",
       "      <td>1382737</td>\n",
       "      <td>24214828</td>\n",
       "    </tr>\n",
       "    <tr>\n",
       "      <th>3월-14</th>\n",
       "      <td>17179211</td>\n",
       "      <td>13890476</td>\n",
       "      <td>6148479</td>\n",
       "      <td>1473548</td>\n",
       "      <td>24699183</td>\n",
       "    </tr>\n",
       "    <tr>\n",
       "      <th>4월-14</th>\n",
       "      <td>16831345</td>\n",
       "      <td>13478635</td>\n",
       "      <td>5994593</td>\n",
       "      <td>1371303</td>\n",
       "      <td>24325197</td>\n",
       "    </tr>\n",
       "    <tr>\n",
       "      <th>5월-14</th>\n",
       "      <td>17442516</td>\n",
       "      <td>13414101</td>\n",
       "      <td>5868764</td>\n",
       "      <td>1518505</td>\n",
       "      <td>24691219</td>\n",
       "    </tr>\n",
       "    <tr>\n",
       "      <th>6월-14</th>\n",
       "      <td>17318585</td>\n",
       "      <td>13201836</td>\n",
       "      <td>5841759</td>\n",
       "      <td>1517366</td>\n",
       "      <td>24568020</td>\n",
       "    </tr>\n",
       "    <tr>\n",
       "      <th>7월-14</th>\n",
       "      <td>17396560</td>\n",
       "      <td>13292901</td>\n",
       "      <td>6035119</td>\n",
       "      <td>1476431</td>\n",
       "      <td>24703403</td>\n",
       "    </tr>\n",
       "    <tr>\n",
       "      <th>8월-14</th>\n",
       "      <td>17057120</td>\n",
       "      <td>13335667</td>\n",
       "      <td>5669171</td>\n",
       "      <td>1484239</td>\n",
       "      <td>24537349</td>\n",
       "    </tr>\n",
       "    <tr>\n",
       "      <th>9월-14</th>\n",
       "      <td>17193074</td>\n",
       "      <td>12959223</td>\n",
       "      <td>5515749</td>\n",
       "      <td>1564786</td>\n",
       "      <td>24380176</td>\n",
       "    </tr>\n",
       "    <tr>\n",
       "      <th>10월-14</th>\n",
       "      <td>17130578</td>\n",
       "      <td>13093149</td>\n",
       "      <td>5740949</td>\n",
       "      <td>1377576</td>\n",
       "      <td>24359396</td>\n",
       "    </tr>\n",
       "    <tr>\n",
       "      <th>11월-14</th>\n",
       "      <td>16857636</td>\n",
       "      <td>12799077</td>\n",
       "      <td>5422418</td>\n",
       "      <td>1473539</td>\n",
       "      <td>24150259</td>\n",
       "    </tr>\n",
       "    <tr>\n",
       "      <th>12월-14</th>\n",
       "      <td>16798943</td>\n",
       "      <td>12749609</td>\n",
       "      <td>5294178</td>\n",
       "      <td>1434281</td>\n",
       "      <td>23913457</td>\n",
       "    </tr>\n",
       "    <tr>\n",
       "      <th>1월-15</th>\n",
       "      <td>16600515</td>\n",
       "      <td>12956563</td>\n",
       "      <td>5331004</td>\n",
       "      <td>1544514</td>\n",
       "      <td>23865345</td>\n",
       "    </tr>\n",
       "    <tr>\n",
       "      <th>2월-15</th>\n",
       "      <td>15483087</td>\n",
       "      <td>11764914</td>\n",
       "      <td>4853505</td>\n",
       "      <td>1390391</td>\n",
       "      <td>22330964</td>\n",
       "    </tr>\n",
       "    <tr>\n",
       "      <th>3월-15</th>\n",
       "      <td>16903873</td>\n",
       "      <td>12903009</td>\n",
       "      <td>5067788</td>\n",
       "      <td>1781983</td>\n",
       "      <td>23840936</td>\n",
       "    </tr>\n",
       "    <tr>\n",
       "      <th>4월-15</th>\n",
       "      <td>16550268</td>\n",
       "      <td>12222087</td>\n",
       "      <td>4960576</td>\n",
       "      <td>1645368</td>\n",
       "      <td>23416619</td>\n",
       "    </tr>\n",
       "    <tr>\n",
       "      <th>5월-15</th>\n",
       "      <td>16710362</td>\n",
       "      <td>12294511</td>\n",
       "      <td>4809377</td>\n",
       "      <td>1761574</td>\n",
       "      <td>23679246</td>\n",
       "    </tr>\n",
       "    <tr>\n",
       "      <th>6월-15</th>\n",
       "      <td>16924774</td>\n",
       "      <td>12025579</td>\n",
       "      <td>4956443</td>\n",
       "      <td>1925899</td>\n",
       "      <td>23610765</td>\n",
       "    </tr>\n",
       "    <tr>\n",
       "      <th>7월-15</th>\n",
       "      <td>16636861</td>\n",
       "      <td>12015783</td>\n",
       "      <td>4861113</td>\n",
       "      <td>1938953</td>\n",
       "      <td>23304235</td>\n",
       "    </tr>\n",
       "  </tbody>\n",
       "</table>\n",
       "<p>155 rows × 5 columns</p>\n",
       "</div>"
      ],
      "text/plain": [
       "분 류     naver.com  daum.net  nate.com  google.com  communication-mail\n",
       "9월-02     1939599  18169858    556665         NaN            20712421\n",
       "10월-02    1927483  17430340    962698         NaN            20044462\n",
       "11월-02    2324534  18684232   1864338         NaN            20998532\n",
       "12월-02    2477848  19103068   3556092         NaN            21393643\n",
       "1월-03     2576350  19090580   5205320         NaN            21419554\n",
       "2월-03     2885544  19338630   5339015         NaN            21347029\n",
       "3월-03     3091230  19854052   5038476         NaN            21992107\n",
       "4월-03     3381671  19252372   4605165         NaN            21800682\n",
       "5월-03     3299419  19254174   4510060         NaN            21889912\n",
       "6월-03     3894331  20410178   4878930         NaN            22951745\n",
       "7월-03     4016301  20746605   4811039         NaN            22972780\n",
       "8월-03     4428060  20186228   5320048         NaN            22379283\n",
       "9월-03     4231484  20284082   5544585         NaN            22265839\n",
       "10월-03    4283027  20484624   5573478         NaN            22421044\n",
       "11월-03    4707581  20189203   5055455         NaN            22164090\n",
       "12월-03    5302335  20910876   5983831         NaN            23043746\n",
       "1월-04     5679813  20984888   5654637         NaN            23176427\n",
       "2월-04     5979773  21146798   5303486         NaN            23444831\n",
       "3월-04     6072524  22135197   5192742         NaN            24984428\n",
       "4월-04     6249485  21456262   5428641         NaN            24315064\n",
       "5월-04     6602480  21911904   6454753         NaN            24754254\n",
       "6월-04     7219760  22046684   7000204         NaN            24866785\n",
       "7월-04     7777300  22194677   6791591         NaN            25113490\n",
       "8월-04     7834622  21690226   5206727         NaN            24722110\n",
       "9월-04     7739602  22391957   5380375         NaN            25953522\n",
       "10월-04    8314945  22277487   5303270         NaN            25894557\n",
       "11월-04    8766620  22537309   5718460         NaN            25957531\n",
       "12월-04    9210256  22940698   6488637         NaN            26129305\n",
       "1월-05     9770828  23228296   5782026         NaN            26380365\n",
       "2월-05     9496927  22655442   5246028      292286            26130894\n",
       "...           ...       ...       ...         ...                 ...\n",
       "2월-13    16445049  15302367   8136763     1917456            25469465\n",
       "3월-13    17218338  15282429   8026906     1833469            25733999\n",
       "4월-13    17499722  15552130   7704685     1636746            25841201\n",
       "5월-13    17551734  15154851   7602971     1753664            26027771\n",
       "6월-13    17402594  14618680   7296313     1496933            25647848\n",
       "7월-13    17358320  14644140   7381676     1556375            25335216\n",
       "8월-13    16889609  14369395   7241079     1555648            24896754\n",
       "9월-13    16889534  14131943   7080461     1575855            24912915\n",
       "10월-13   18025278  14633468   7015064     1611232            25423032\n",
       "11월-13   17712858  14117708   6757697     1336258            25261929\n",
       "12월-13   17589390  14358445   6506733     1411548            25345016\n",
       "1월-14    17669087  13827592   6298640     1548955            24883209\n",
       "2월-14    16806799  13443259   5980735     1382737            24214828\n",
       "3월-14    17179211  13890476   6148479     1473548            24699183\n",
       "4월-14    16831345  13478635   5994593     1371303            24325197\n",
       "5월-14    17442516  13414101   5868764     1518505            24691219\n",
       "6월-14    17318585  13201836   5841759     1517366            24568020\n",
       "7월-14    17396560  13292901   6035119     1476431            24703403\n",
       "8월-14    17057120  13335667   5669171     1484239            24537349\n",
       "9월-14    17193074  12959223   5515749     1564786            24380176\n",
       "10월-14   17130578  13093149   5740949     1377576            24359396\n",
       "11월-14   16857636  12799077   5422418     1473539            24150259\n",
       "12월-14   16798943  12749609   5294178     1434281            23913457\n",
       "1월-15    16600515  12956563   5331004     1544514            23865345\n",
       "2월-15    15483087  11764914   4853505     1390391            22330964\n",
       "3월-15    16903873  12903009   5067788     1781983            23840936\n",
       "4월-15    16550268  12222087   4960576     1645368            23416619\n",
       "5월-15    16710362  12294511   4809377     1761574            23679246\n",
       "6월-15    16924774  12025579   4956443     1925899            23610765\n",
       "7월-15    16636861  12015783   4861113     1938953            23304235\n",
       "\n",
       "[155 rows x 5 columns]"
      ]
     },
     "execution_count": 7,
     "metadata": {},
     "output_type": "execute_result"
    }
   ],
   "source": [
    "pcmau = mail_pcmau.T\n",
    "pcmau"
   ]
  },
  {
   "cell_type": "markdown",
   "metadata": {},
   "source": [
    "# 2차과제\n",
    "## 1. 각 메일 서비스별 mobile 과 pc 의 mau 상관관계를 분석(2012년 1월~)\n",
    "http://wiki.daumkakao.com/pages/viewpage.action?pageId=333764026\n",
    "## 2. 선형회귀 분석을 이용해 서비스별 mobile과 pc의 2015년 8월 mau 예측\n",
    "10/8일 학습내용 참고: http://wiki.daumkakao.com/download/attachments/333755176/10-8.py?version=1&modificationDate=1444299050000&api=v2\n",
    "\n",
    "목요일 까지"
   ]
  },
  {
   "cell_type": "code",
   "execution_count": 1,
   "metadata": {
    "collapsed": false
   },
   "outputs": [
    {
     "data": {
      "text/html": [
       "<div>\n",
       "<table border=\"1\" class=\"dataframe\">\n",
       "  <thead>\n",
       "    <tr>\n",
       "      <th></th>\n",
       "      <th></th>\n",
       "      <th colspan=\"5\" halign=\"left\">PC</th>\n",
       "      <th colspan=\"5\" halign=\"left\">mobile</th>\n",
       "    </tr>\n",
       "    <tr>\n",
       "      <th></th>\n",
       "      <th>분 류</th>\n",
       "      <th>naver.com</th>\n",
       "      <th>daum.net</th>\n",
       "      <th>nate.com</th>\n",
       "      <th>google.com</th>\n",
       "      <th>communication-mail</th>\n",
       "      <th>naver.com</th>\n",
       "      <th>daum.net</th>\n",
       "      <th>nate.com</th>\n",
       "      <th>google.com</th>\n",
       "      <th>Communication-Email</th>\n",
       "    </tr>\n",
       "    <tr>\n",
       "      <th></th>\n",
       "      <th>분 류</th>\n",
       "      <th></th>\n",
       "      <th></th>\n",
       "      <th></th>\n",
       "      <th></th>\n",
       "      <th></th>\n",
       "      <th></th>\n",
       "      <th></th>\n",
       "      <th></th>\n",
       "      <th></th>\n",
       "      <th></th>\n",
       "    </tr>\n",
       "  </thead>\n",
       "  <tbody>\n",
       "    <tr>\n",
       "      <th rowspan=\"5\" valign=\"top\">PC</th>\n",
       "      <th>naver.com</th>\n",
       "      <td>1.000000</td>\n",
       "      <td>0.439784</td>\n",
       "      <td>0.333719</td>\n",
       "      <td>0.040172</td>\n",
       "      <td>0.577233</td>\n",
       "      <td>0.065337</td>\n",
       "      <td>0.157944</td>\n",
       "      <td>0.311487</td>\n",
       "      <td>-0.386705</td>\n",
       "      <td>0.113592</td>\n",
       "    </tr>\n",
       "    <tr>\n",
       "      <th>daum.net</th>\n",
       "      <td>0.439784</td>\n",
       "      <td>1.000000</td>\n",
       "      <td>0.897975</td>\n",
       "      <td>0.609559</td>\n",
       "      <td>0.973625</td>\n",
       "      <td>-0.220610</td>\n",
       "      <td>0.665910</td>\n",
       "      <td>0.813449</td>\n",
       "      <td>-0.662553</td>\n",
       "      <td>0.240541</td>\n",
       "    </tr>\n",
       "    <tr>\n",
       "      <th>nate.com</th>\n",
       "      <td>0.333719</td>\n",
       "      <td>0.897975</td>\n",
       "      <td>1.000000</td>\n",
       "      <td>0.687268</td>\n",
       "      <td>0.901100</td>\n",
       "      <td>-0.553288</td>\n",
       "      <td>0.437170</td>\n",
       "      <td>0.813443</td>\n",
       "      <td>-0.705153</td>\n",
       "      <td>-0.107334</td>\n",
       "    </tr>\n",
       "    <tr>\n",
       "      <th>google.com</th>\n",
       "      <td>0.040172</td>\n",
       "      <td>0.609559</td>\n",
       "      <td>0.687268</td>\n",
       "      <td>1.000000</td>\n",
       "      <td>0.597074</td>\n",
       "      <td>-0.375898</td>\n",
       "      <td>0.344896</td>\n",
       "      <td>0.465158</td>\n",
       "      <td>-0.397874</td>\n",
       "      <td>-0.021826</td>\n",
       "    </tr>\n",
       "    <tr>\n",
       "      <th>communication-mail</th>\n",
       "      <td>0.577233</td>\n",
       "      <td>0.973625</td>\n",
       "      <td>0.901100</td>\n",
       "      <td>0.597074</td>\n",
       "      <td>1.000000</td>\n",
       "      <td>-0.262742</td>\n",
       "      <td>0.568185</td>\n",
       "      <td>0.795905</td>\n",
       "      <td>-0.702522</td>\n",
       "      <td>0.159496</td>\n",
       "    </tr>\n",
       "    <tr>\n",
       "      <th rowspan=\"5\" valign=\"top\">mobile</th>\n",
       "      <th>naver.com</th>\n",
       "      <td>0.065337</td>\n",
       "      <td>-0.220610</td>\n",
       "      <td>-0.553288</td>\n",
       "      <td>-0.375898</td>\n",
       "      <td>-0.262742</td>\n",
       "      <td>1.000000</td>\n",
       "      <td>0.358375</td>\n",
       "      <td>-0.381901</td>\n",
       "      <td>0.302069</td>\n",
       "      <td>0.836771</td>\n",
       "    </tr>\n",
       "    <tr>\n",
       "      <th>daum.net</th>\n",
       "      <td>0.157944</td>\n",
       "      <td>0.665910</td>\n",
       "      <td>0.437170</td>\n",
       "      <td>0.344896</td>\n",
       "      <td>0.568185</td>\n",
       "      <td>0.358375</td>\n",
       "      <td>1.000000</td>\n",
       "      <td>0.483446</td>\n",
       "      <td>-0.290624</td>\n",
       "      <td>0.792809</td>\n",
       "    </tr>\n",
       "    <tr>\n",
       "      <th>nate.com</th>\n",
       "      <td>0.311487</td>\n",
       "      <td>0.813449</td>\n",
       "      <td>0.813443</td>\n",
       "      <td>0.465158</td>\n",
       "      <td>0.795905</td>\n",
       "      <td>-0.381901</td>\n",
       "      <td>0.483446</td>\n",
       "      <td>1.000000</td>\n",
       "      <td>-0.548870</td>\n",
       "      <td>0.061057</td>\n",
       "    </tr>\n",
       "    <tr>\n",
       "      <th>google.com</th>\n",
       "      <td>-0.386705</td>\n",
       "      <td>-0.662553</td>\n",
       "      <td>-0.705153</td>\n",
       "      <td>-0.397874</td>\n",
       "      <td>-0.702522</td>\n",
       "      <td>0.302069</td>\n",
       "      <td>-0.290624</td>\n",
       "      <td>-0.548870</td>\n",
       "      <td>1.000000</td>\n",
       "      <td>0.059398</td>\n",
       "    </tr>\n",
       "    <tr>\n",
       "      <th>Communication-Email</th>\n",
       "      <td>0.113592</td>\n",
       "      <td>0.240541</td>\n",
       "      <td>-0.107334</td>\n",
       "      <td>-0.021826</td>\n",
       "      <td>0.159496</td>\n",
       "      <td>0.836771</td>\n",
       "      <td>0.792809</td>\n",
       "      <td>0.061057</td>\n",
       "      <td>0.059398</td>\n",
       "      <td>1.000000</td>\n",
       "    </tr>\n",
       "  </tbody>\n",
       "</table>\n",
       "</div>"
      ],
      "text/plain": [
       "                                  PC                                 \\\n",
       "분 류                        naver.com  daum.net  nate.com google.com   \n",
       "       분 류                                                            \n",
       "PC     naver.com            1.000000  0.439784  0.333719   0.040172   \n",
       "       daum.net             0.439784  1.000000  0.897975   0.609559   \n",
       "       nate.com             0.333719  0.897975  1.000000   0.687268   \n",
       "       google.com           0.040172  0.609559  0.687268   1.000000   \n",
       "       communication-mail   0.577233  0.973625  0.901100   0.597074   \n",
       "mobile naver.com            0.065337 -0.220610 -0.553288  -0.375898   \n",
       "       daum.net             0.157944  0.665910  0.437170   0.344896   \n",
       "       nate.com             0.311487  0.813449  0.813443   0.465158   \n",
       "       google.com          -0.386705 -0.662553 -0.705153  -0.397874   \n",
       "       Communication-Email  0.113592  0.240541 -0.107334  -0.021826   \n",
       "\n",
       "                                                 mobile                      \\\n",
       "분 류                        communication-mail naver.com  daum.net  nate.com   \n",
       "       분 류                                                                    \n",
       "PC     naver.com                     0.577233  0.065337  0.157944  0.311487   \n",
       "       daum.net                      0.973625 -0.220610  0.665910  0.813449   \n",
       "       nate.com                      0.901100 -0.553288  0.437170  0.813443   \n",
       "       google.com                    0.597074 -0.375898  0.344896  0.465158   \n",
       "       communication-mail            1.000000 -0.262742  0.568185  0.795905   \n",
       "mobile naver.com                    -0.262742  1.000000  0.358375 -0.381901   \n",
       "       daum.net                      0.568185  0.358375  1.000000  0.483446   \n",
       "       nate.com                      0.795905 -0.381901  0.483446  1.000000   \n",
       "       google.com                   -0.702522  0.302069 -0.290624 -0.548870   \n",
       "       Communication-Email           0.159496  0.836771  0.792809  0.061057   \n",
       "\n",
       "                                                           \n",
       "분 류                        google.com Communication-Email  \n",
       "       분 류                                                 \n",
       "PC     naver.com            -0.386705            0.113592  \n",
       "       daum.net             -0.662553            0.240541  \n",
       "       nate.com             -0.705153           -0.107334  \n",
       "       google.com           -0.397874           -0.021826  \n",
       "       communication-mail   -0.702522            0.159496  \n",
       "mobile naver.com             0.302069            0.836771  \n",
       "       daum.net             -0.290624            0.792809  \n",
       "       nate.com             -0.548870            0.061057  \n",
       "       google.com            1.000000            0.059398  \n",
       "       Communication-Email   0.059398            1.000000  "
      ]
     },
     "execution_count": 1,
     "metadata": {},
     "output_type": "execute_result"
    }
   ],
   "source": [
    "import numpy as np\n",
    "import pandas as pd\n",
    "from pandas import Series, DataFrame\n",
    "\n",
    "mail_pcmau = pd.read_csv('mail_pcmau.csv', index_col='분 류', thousands=',')\n",
    "mail_mmau = pd.read_csv('mail_mmau.csv', index_col='분 류', thousands=',')\n",
    "\n",
    "mmau = mail_mmau.T\n",
    "pcmau = mail_pcmau.T\n",
    "\n",
    "pd.concat({'mobile': mmau, 'PC': pcmau}, axis=1, join='inner').corr().PC.ix['mobile']"
   ]
  },
  {
   "cell_type": "code",
   "execution_count": null,
   "metadata": {
    "collapsed": true
   },
   "outputs": [],
   "source": []
  },
  {
   "cell_type": "code",
   "execution_count": 100,
   "metadata": {
    "collapsed": false
   },
   "outputs": [
    {
     "data": {
      "text/html": [
       "<div>\n",
       "<table border=\"1\" class=\"dataframe\">\n",
       "  <thead>\n",
       "    <tr style=\"text-align: right;\">\n",
       "      <th>분 류</th>\n",
       "      <th>naver.com</th>\n",
       "      <th>daum.net</th>\n",
       "      <th>nate.com</th>\n",
       "      <th>google.com</th>\n",
       "      <th>Communication-Email</th>\n",
       "    </tr>\n",
       "  </thead>\n",
       "  <tbody>\n",
       "    <tr>\n",
       "      <th>1월-12</th>\n",
       "      <td>1449426</td>\n",
       "      <td>2123572</td>\n",
       "      <td>802666</td>\n",
       "      <td>235290</td>\n",
       "      <td>3910870</td>\n",
       "    </tr>\n",
       "    <tr>\n",
       "      <th>2월-12</th>\n",
       "      <td>1318779</td>\n",
       "      <td>2098304</td>\n",
       "      <td>813850</td>\n",
       "      <td>154137</td>\n",
       "      <td>3663326</td>\n",
       "    </tr>\n",
       "    <tr>\n",
       "      <th>3월-12</th>\n",
       "      <td>1525272</td>\n",
       "      <td>1518737</td>\n",
       "      <td>709876</td>\n",
       "      <td>146847</td>\n",
       "      <td>3325002</td>\n",
       "    </tr>\n",
       "    <tr>\n",
       "      <th>4월-12</th>\n",
       "      <td>2156043</td>\n",
       "      <td>1862319</td>\n",
       "      <td>590882</td>\n",
       "      <td>155477</td>\n",
       "      <td>4070259</td>\n",
       "    </tr>\n",
       "    <tr>\n",
       "      <th>5월-12</th>\n",
       "      <td>1935512</td>\n",
       "      <td>1872582</td>\n",
       "      <td>494325</td>\n",
       "      <td>112506</td>\n",
       "      <td>3787863</td>\n",
       "    </tr>\n",
       "    <tr>\n",
       "      <th>6월-12</th>\n",
       "      <td>2204992</td>\n",
       "      <td>1936302</td>\n",
       "      <td>660309</td>\n",
       "      <td>103057</td>\n",
       "      <td>4197746</td>\n",
       "    </tr>\n",
       "    <tr>\n",
       "      <th>7월-12</th>\n",
       "      <td>2769000</td>\n",
       "      <td>2301563</td>\n",
       "      <td>588872</td>\n",
       "      <td>138339</td>\n",
       "      <td>5009222</td>\n",
       "    </tr>\n",
       "    <tr>\n",
       "      <th>8월-12</th>\n",
       "      <td>2753605</td>\n",
       "      <td>2135555</td>\n",
       "      <td>595546</td>\n",
       "      <td>85904</td>\n",
       "      <td>4807187</td>\n",
       "    </tr>\n",
       "    <tr>\n",
       "      <th>9월-12</th>\n",
       "      <td>2777274</td>\n",
       "      <td>1930862</td>\n",
       "      <td>633358</td>\n",
       "      <td>279269</td>\n",
       "      <td>4539054</td>\n",
       "    </tr>\n",
       "    <tr>\n",
       "      <th>10월-12</th>\n",
       "      <td>2805178</td>\n",
       "      <td>2136730</td>\n",
       "      <td>687766</td>\n",
       "      <td>322605</td>\n",
       "      <td>4863945</td>\n",
       "    </tr>\n",
       "    <tr>\n",
       "      <th>11월-12</th>\n",
       "      <td>2927579</td>\n",
       "      <td>2285009</td>\n",
       "      <td>425363</td>\n",
       "      <td>261946</td>\n",
       "      <td>4905208</td>\n",
       "    </tr>\n",
       "    <tr>\n",
       "      <th>12월-12</th>\n",
       "      <td>3229154</td>\n",
       "      <td>2341023</td>\n",
       "      <td>638553</td>\n",
       "      <td>188018</td>\n",
       "      <td>5152947</td>\n",
       "    </tr>\n",
       "    <tr>\n",
       "      <th>1월-13</th>\n",
       "      <td>3433147</td>\n",
       "      <td>2570833</td>\n",
       "      <td>750651</td>\n",
       "      <td>311931</td>\n",
       "      <td>5668116</td>\n",
       "    </tr>\n",
       "    <tr>\n",
       "      <th>2월-13</th>\n",
       "      <td>3363516</td>\n",
       "      <td>2678861</td>\n",
       "      <td>471897</td>\n",
       "      <td>216741</td>\n",
       "      <td>5498746</td>\n",
       "    </tr>\n",
       "    <tr>\n",
       "      <th>3월-13</th>\n",
       "      <td>3601681</td>\n",
       "      <td>2573414</td>\n",
       "      <td>485968</td>\n",
       "      <td>464622</td>\n",
       "      <td>5718500</td>\n",
       "    </tr>\n",
       "    <tr>\n",
       "      <th>4월-13</th>\n",
       "      <td>3340349</td>\n",
       "      <td>2633206</td>\n",
       "      <td>598299</td>\n",
       "      <td>177120</td>\n",
       "      <td>5459805</td>\n",
       "    </tr>\n",
       "    <tr>\n",
       "      <th>5월-13</th>\n",
       "      <td>3213994</td>\n",
       "      <td>2046341</td>\n",
       "      <td>406282</td>\n",
       "      <td>216049</td>\n",
       "      <td>4863537</td>\n",
       "    </tr>\n",
       "    <tr>\n",
       "      <th>6월-13</th>\n",
       "      <td>3148210</td>\n",
       "      <td>2206243</td>\n",
       "      <td>400556</td>\n",
       "      <td>244268</td>\n",
       "      <td>4909139</td>\n",
       "    </tr>\n",
       "    <tr>\n",
       "      <th>7월-13</th>\n",
       "      <td>3525625</td>\n",
       "      <td>2585445</td>\n",
       "      <td>522934</td>\n",
       "      <td>266168</td>\n",
       "      <td>5614433</td>\n",
       "    </tr>\n",
       "    <tr>\n",
       "      <th>8월-13</th>\n",
       "      <td>3536027</td>\n",
       "      <td>2620149</td>\n",
       "      <td>474995</td>\n",
       "      <td>239347</td>\n",
       "      <td>5478252</td>\n",
       "    </tr>\n",
       "    <tr>\n",
       "      <th>9월-13</th>\n",
       "      <td>3522750</td>\n",
       "      <td>2151058</td>\n",
       "      <td>399272</td>\n",
       "      <td>219926</td>\n",
       "      <td>5162335</td>\n",
       "    </tr>\n",
       "    <tr>\n",
       "      <th>10월-13</th>\n",
       "      <td>3438653</td>\n",
       "      <td>1854696</td>\n",
       "      <td>463383</td>\n",
       "      <td>358790</td>\n",
       "      <td>4786756</td>\n",
       "    </tr>\n",
       "    <tr>\n",
       "      <th>11월-13</th>\n",
       "      <td>3174030</td>\n",
       "      <td>1921762</td>\n",
       "      <td>593783</td>\n",
       "      <td>272594</td>\n",
       "      <td>4795968</td>\n",
       "    </tr>\n",
       "    <tr>\n",
       "      <th>12월-13</th>\n",
       "      <td>2957603</td>\n",
       "      <td>1779469</td>\n",
       "      <td>486482</td>\n",
       "      <td>245083</td>\n",
       "      <td>4452032</td>\n",
       "    </tr>\n",
       "    <tr>\n",
       "      <th>1월-14</th>\n",
       "      <td>3082865</td>\n",
       "      <td>1869647</td>\n",
       "      <td>527502</td>\n",
       "      <td>275666</td>\n",
       "      <td>4607764</td>\n",
       "    </tr>\n",
       "    <tr>\n",
       "      <th>2월-14</th>\n",
       "      <td>3193251</td>\n",
       "      <td>1947752</td>\n",
       "      <td>437116</td>\n",
       "      <td>263974</td>\n",
       "      <td>4780490</td>\n",
       "    </tr>\n",
       "    <tr>\n",
       "      <th>3월-14</th>\n",
       "      <td>2949148</td>\n",
       "      <td>1776500</td>\n",
       "      <td>419819</td>\n",
       "      <td>297214</td>\n",
       "      <td>4477295</td>\n",
       "    </tr>\n",
       "    <tr>\n",
       "      <th>4월-14</th>\n",
       "      <td>3005089</td>\n",
       "      <td>1759545</td>\n",
       "      <td>459371</td>\n",
       "      <td>395442</td>\n",
       "      <td>4637152</td>\n",
       "    </tr>\n",
       "    <tr>\n",
       "      <th>5월-14</th>\n",
       "      <td>3122069</td>\n",
       "      <td>1712444</td>\n",
       "      <td>379448</td>\n",
       "      <td>275913</td>\n",
       "      <td>4586450</td>\n",
       "    </tr>\n",
       "    <tr>\n",
       "      <th>6월-14</th>\n",
       "      <td>3042333</td>\n",
       "      <td>1542448</td>\n",
       "      <td>406276</td>\n",
       "      <td>282377</td>\n",
       "      <td>4380640</td>\n",
       "    </tr>\n",
       "    <tr>\n",
       "      <th>7월-14</th>\n",
       "      <td>3007247</td>\n",
       "      <td>1507817</td>\n",
       "      <td>520050</td>\n",
       "      <td>249850</td>\n",
       "      <td>4446041</td>\n",
       "    </tr>\n",
       "    <tr>\n",
       "      <th>8월-14</th>\n",
       "      <td>2811453</td>\n",
       "      <td>1476506</td>\n",
       "      <td>346728</td>\n",
       "      <td>313819</td>\n",
       "      <td>4213859</td>\n",
       "    </tr>\n",
       "    <tr>\n",
       "      <th>9월-14</th>\n",
       "      <td>2487413</td>\n",
       "      <td>1536117</td>\n",
       "      <td>357084</td>\n",
       "      <td>363053</td>\n",
       "      <td>4005916</td>\n",
       "    </tr>\n",
       "    <tr>\n",
       "      <th>10월-14</th>\n",
       "      <td>2836273</td>\n",
       "      <td>1547458</td>\n",
       "      <td>369452</td>\n",
       "      <td>302822</td>\n",
       "      <td>4233829</td>\n",
       "    </tr>\n",
       "    <tr>\n",
       "      <th>11월-14</th>\n",
       "      <td>2691126</td>\n",
       "      <td>1624158</td>\n",
       "      <td>352956</td>\n",
       "      <td>384940</td>\n",
       "      <td>4212221</td>\n",
       "    </tr>\n",
       "    <tr>\n",
       "      <th>12월-14</th>\n",
       "      <td>2528648</td>\n",
       "      <td>1674045</td>\n",
       "      <td>440285</td>\n",
       "      <td>382337</td>\n",
       "      <td>4278095</td>\n",
       "    </tr>\n",
       "    <tr>\n",
       "      <th>1월-15</th>\n",
       "      <td>2702249</td>\n",
       "      <td>1682265</td>\n",
       "      <td>324040</td>\n",
       "      <td>357034</td>\n",
       "      <td>4219187</td>\n",
       "    </tr>\n",
       "    <tr>\n",
       "      <th>2월-15</th>\n",
       "      <td>2512878</td>\n",
       "      <td>1478710</td>\n",
       "      <td>299486</td>\n",
       "      <td>398593</td>\n",
       "      <td>3939242</td>\n",
       "    </tr>\n",
       "    <tr>\n",
       "      <th>3월-15</th>\n",
       "      <td>2722772</td>\n",
       "      <td>1826173</td>\n",
       "      <td>317636</td>\n",
       "      <td>530017</td>\n",
       "      <td>4486005</td>\n",
       "    </tr>\n",
       "    <tr>\n",
       "      <th>4월-15</th>\n",
       "      <td>3077679</td>\n",
       "      <td>1596559</td>\n",
       "      <td>344752</td>\n",
       "      <td>340017</td>\n",
       "      <td>4599696</td>\n",
       "    </tr>\n",
       "    <tr>\n",
       "      <th>5월-15</th>\n",
       "      <td>3046904</td>\n",
       "      <td>1599962</td>\n",
       "      <td>241285</td>\n",
       "      <td>316486</td>\n",
       "      <td>4426058</td>\n",
       "    </tr>\n",
       "    <tr>\n",
       "      <th>6월-15</th>\n",
       "      <td>3021911</td>\n",
       "      <td>1490001</td>\n",
       "      <td>254219</td>\n",
       "      <td>354260</td>\n",
       "      <td>4317891</td>\n",
       "    </tr>\n",
       "    <tr>\n",
       "      <th>7월-15</th>\n",
       "      <td>2772323</td>\n",
       "      <td>1419051</td>\n",
       "      <td>311185</td>\n",
       "      <td>300681</td>\n",
       "      <td>4042735</td>\n",
       "    </tr>\n",
       "  </tbody>\n",
       "</table>\n",
       "</div>"
      ],
      "text/plain": [
       "분 류     naver.com  daum.net  nate.com  google.com  Communication-Email\n",
       "1월-12     1449426   2123572    802666      235290              3910870\n",
       "2월-12     1318779   2098304    813850      154137              3663326\n",
       "3월-12     1525272   1518737    709876      146847              3325002\n",
       "4월-12     2156043   1862319    590882      155477              4070259\n",
       "5월-12     1935512   1872582    494325      112506              3787863\n",
       "6월-12     2204992   1936302    660309      103057              4197746\n",
       "7월-12     2769000   2301563    588872      138339              5009222\n",
       "8월-12     2753605   2135555    595546       85904              4807187\n",
       "9월-12     2777274   1930862    633358      279269              4539054\n",
       "10월-12    2805178   2136730    687766      322605              4863945\n",
       "11월-12    2927579   2285009    425363      261946              4905208\n",
       "12월-12    3229154   2341023    638553      188018              5152947\n",
       "1월-13     3433147   2570833    750651      311931              5668116\n",
       "2월-13     3363516   2678861    471897      216741              5498746\n",
       "3월-13     3601681   2573414    485968      464622              5718500\n",
       "4월-13     3340349   2633206    598299      177120              5459805\n",
       "5월-13     3213994   2046341    406282      216049              4863537\n",
       "6월-13     3148210   2206243    400556      244268              4909139\n",
       "7월-13     3525625   2585445    522934      266168              5614433\n",
       "8월-13     3536027   2620149    474995      239347              5478252\n",
       "9월-13     3522750   2151058    399272      219926              5162335\n",
       "10월-13    3438653   1854696    463383      358790              4786756\n",
       "11월-13    3174030   1921762    593783      272594              4795968\n",
       "12월-13    2957603   1779469    486482      245083              4452032\n",
       "1월-14     3082865   1869647    527502      275666              4607764\n",
       "2월-14     3193251   1947752    437116      263974              4780490\n",
       "3월-14     2949148   1776500    419819      297214              4477295\n",
       "4월-14     3005089   1759545    459371      395442              4637152\n",
       "5월-14     3122069   1712444    379448      275913              4586450\n",
       "6월-14     3042333   1542448    406276      282377              4380640\n",
       "7월-14     3007247   1507817    520050      249850              4446041\n",
       "8월-14     2811453   1476506    346728      313819              4213859\n",
       "9월-14     2487413   1536117    357084      363053              4005916\n",
       "10월-14    2836273   1547458    369452      302822              4233829\n",
       "11월-14    2691126   1624158    352956      384940              4212221\n",
       "12월-14    2528648   1674045    440285      382337              4278095\n",
       "1월-15     2702249   1682265    324040      357034              4219187\n",
       "2월-15     2512878   1478710    299486      398593              3939242\n",
       "3월-15     2722772   1826173    317636      530017              4486005\n",
       "4월-15     3077679   1596559    344752      340017              4599696\n",
       "5월-15     3046904   1599962    241285      316486              4426058\n",
       "6월-15     3021911   1490001    254219      354260              4317891\n",
       "7월-15     2772323   1419051    311185      300681              4042735"
      ]
     },
     "execution_count": 100,
     "metadata": {},
     "output_type": "execute_result"
    }
   ],
   "source": [
    "import numpy as np\n",
    "import pandas as pd\n",
    "from pandas import Series, DataFrame\n",
    "\n",
    "mail_pcmau = pd.read_csv('mail_pcmau.csv', index_col='분 류', thousands=',')\n",
    "mail_mmau = pd.read_csv('mail_mmau.csv', index_col='분 류', thousands=',')\n",
    "\n",
    "mmau = mail_mmau.T\n",
    "pcmau = mail_pcmau.T\n",
    "\n",
    "mmau\n"
   ]
  },
  {
   "cell_type": "code",
   "execution_count": 265,
   "metadata": {
    "collapsed": false
   },
   "outputs": [
    {
     "data": {
      "text/html": [
       "<div>\n",
       "<table border=\"1\" class=\"dataframe\">\n",
       "  <thead>\n",
       "    <tr style=\"text-align: right;\">\n",
       "      <th></th>\n",
       "      <th></th>\n",
       "      <th>1월-12</th>\n",
       "      <th>2월-12</th>\n",
       "      <th>3월-12</th>\n",
       "      <th>4월-12</th>\n",
       "      <th>5월-12</th>\n",
       "      <th>6월-12</th>\n",
       "      <th>7월-12</th>\n",
       "      <th>8월-12</th>\n",
       "      <th>9월-12</th>\n",
       "      <th>10월-12</th>\n",
       "      <th>...</th>\n",
       "      <th>10월-14</th>\n",
       "      <th>11월-14</th>\n",
       "      <th>12월-14</th>\n",
       "      <th>1월-15</th>\n",
       "      <th>2월-15</th>\n",
       "      <th>3월-15</th>\n",
       "      <th>4월-15</th>\n",
       "      <th>5월-15</th>\n",
       "      <th>6월-15</th>\n",
       "      <th>7월-15</th>\n",
       "    </tr>\n",
       "    <tr>\n",
       "      <th></th>\n",
       "      <th>분 류</th>\n",
       "      <th></th>\n",
       "      <th></th>\n",
       "      <th></th>\n",
       "      <th></th>\n",
       "      <th></th>\n",
       "      <th></th>\n",
       "      <th></th>\n",
       "      <th></th>\n",
       "      <th></th>\n",
       "      <th></th>\n",
       "      <th></th>\n",
       "      <th></th>\n",
       "      <th></th>\n",
       "      <th></th>\n",
       "      <th></th>\n",
       "      <th></th>\n",
       "      <th></th>\n",
       "      <th></th>\n",
       "      <th></th>\n",
       "      <th></th>\n",
       "      <th></th>\n",
       "    </tr>\n",
       "  </thead>\n",
       "  <tbody>\n",
       "    <tr>\n",
       "      <th rowspan=\"5\" valign=\"top\">PC</th>\n",
       "      <th>naver.com</th>\n",
       "      <td>17121839</td>\n",
       "      <td>16950102</td>\n",
       "      <td>17123838</td>\n",
       "      <td>17756425</td>\n",
       "      <td>17845347</td>\n",
       "      <td>17138097</td>\n",
       "      <td>17276779</td>\n",
       "      <td>17599890</td>\n",
       "      <td>16685681</td>\n",
       "      <td>16754910</td>\n",
       "      <td>...</td>\n",
       "      <td>17130578</td>\n",
       "      <td>16857636</td>\n",
       "      <td>16798943</td>\n",
       "      <td>16600515</td>\n",
       "      <td>15483087</td>\n",
       "      <td>16903873</td>\n",
       "      <td>16550268</td>\n",
       "      <td>16710362</td>\n",
       "      <td>16924774</td>\n",
       "      <td>16636861</td>\n",
       "    </tr>\n",
       "    <tr>\n",
       "      <th>daum.net</th>\n",
       "      <td>16228608</td>\n",
       "      <td>15748261</td>\n",
       "      <td>15950497</td>\n",
       "      <td>15967961</td>\n",
       "      <td>16488893</td>\n",
       "      <td>15572506</td>\n",
       "      <td>16291615</td>\n",
       "      <td>16564825</td>\n",
       "      <td>15481871</td>\n",
       "      <td>16125494</td>\n",
       "      <td>...</td>\n",
       "      <td>13093149</td>\n",
       "      <td>12799077</td>\n",
       "      <td>12749609</td>\n",
       "      <td>12956563</td>\n",
       "      <td>11764914</td>\n",
       "      <td>12903009</td>\n",
       "      <td>12222087</td>\n",
       "      <td>12294511</td>\n",
       "      <td>12025579</td>\n",
       "      <td>12015783</td>\n",
       "    </tr>\n",
       "    <tr>\n",
       "      <th>nate.com</th>\n",
       "      <td>12271546</td>\n",
       "      <td>11773522</td>\n",
       "      <td>11649994</td>\n",
       "      <td>11917413</td>\n",
       "      <td>11838747</td>\n",
       "      <td>10768330</td>\n",
       "      <td>9908393</td>\n",
       "      <td>9222417</td>\n",
       "      <td>8553294</td>\n",
       "      <td>8685570</td>\n",
       "      <td>...</td>\n",
       "      <td>5740949</td>\n",
       "      <td>5422418</td>\n",
       "      <td>5294178</td>\n",
       "      <td>5331004</td>\n",
       "      <td>4853505</td>\n",
       "      <td>5067788</td>\n",
       "      <td>4960576</td>\n",
       "      <td>4809377</td>\n",
       "      <td>4956443</td>\n",
       "      <td>4861113</td>\n",
       "    </tr>\n",
       "    <tr>\n",
       "      <th>google.com</th>\n",
       "      <td>2031192</td>\n",
       "      <td>2023086</td>\n",
       "      <td>1891066</td>\n",
       "      <td>1989751</td>\n",
       "      <td>1953428</td>\n",
       "      <td>1921062</td>\n",
       "      <td>2065869</td>\n",
       "      <td>1878269</td>\n",
       "      <td>1830855</td>\n",
       "      <td>1851246</td>\n",
       "      <td>...</td>\n",
       "      <td>1377576</td>\n",
       "      <td>1473539</td>\n",
       "      <td>1434281</td>\n",
       "      <td>1544514</td>\n",
       "      <td>1390391</td>\n",
       "      <td>1781983</td>\n",
       "      <td>1645368</td>\n",
       "      <td>1761574</td>\n",
       "      <td>1925899</td>\n",
       "      <td>1938953</td>\n",
       "    </tr>\n",
       "    <tr>\n",
       "      <th>communication-mail</th>\n",
       "      <td>26844061</td>\n",
       "      <td>26324191</td>\n",
       "      <td>26440470</td>\n",
       "      <td>27000678</td>\n",
       "      <td>27110680</td>\n",
       "      <td>26197903</td>\n",
       "      <td>26994676</td>\n",
       "      <td>26958452</td>\n",
       "      <td>26106865</td>\n",
       "      <td>26055860</td>\n",
       "      <td>...</td>\n",
       "      <td>24359396</td>\n",
       "      <td>24150259</td>\n",
       "      <td>23913457</td>\n",
       "      <td>23865345</td>\n",
       "      <td>22330964</td>\n",
       "      <td>23840936</td>\n",
       "      <td>23416619</td>\n",
       "      <td>23679246</td>\n",
       "      <td>23610765</td>\n",
       "      <td>23304235</td>\n",
       "    </tr>\n",
       "    <tr>\n",
       "      <th rowspan=\"5\" valign=\"top\">mobile</th>\n",
       "      <th>naver.com</th>\n",
       "      <td>1449426</td>\n",
       "      <td>1318779</td>\n",
       "      <td>1525272</td>\n",
       "      <td>2156043</td>\n",
       "      <td>1935512</td>\n",
       "      <td>2204992</td>\n",
       "      <td>2769000</td>\n",
       "      <td>2753605</td>\n",
       "      <td>2777274</td>\n",
       "      <td>2805178</td>\n",
       "      <td>...</td>\n",
       "      <td>2836273</td>\n",
       "      <td>2691126</td>\n",
       "      <td>2528648</td>\n",
       "      <td>2702249</td>\n",
       "      <td>2512878</td>\n",
       "      <td>2722772</td>\n",
       "      <td>3077679</td>\n",
       "      <td>3046904</td>\n",
       "      <td>3021911</td>\n",
       "      <td>2772323</td>\n",
       "    </tr>\n",
       "    <tr>\n",
       "      <th>daum.net</th>\n",
       "      <td>2123572</td>\n",
       "      <td>2098304</td>\n",
       "      <td>1518737</td>\n",
       "      <td>1862319</td>\n",
       "      <td>1872582</td>\n",
       "      <td>1936302</td>\n",
       "      <td>2301563</td>\n",
       "      <td>2135555</td>\n",
       "      <td>1930862</td>\n",
       "      <td>2136730</td>\n",
       "      <td>...</td>\n",
       "      <td>1547458</td>\n",
       "      <td>1624158</td>\n",
       "      <td>1674045</td>\n",
       "      <td>1682265</td>\n",
       "      <td>1478710</td>\n",
       "      <td>1826173</td>\n",
       "      <td>1596559</td>\n",
       "      <td>1599962</td>\n",
       "      <td>1490001</td>\n",
       "      <td>1419051</td>\n",
       "    </tr>\n",
       "    <tr>\n",
       "      <th>nate.com</th>\n",
       "      <td>802666</td>\n",
       "      <td>813850</td>\n",
       "      <td>709876</td>\n",
       "      <td>590882</td>\n",
       "      <td>494325</td>\n",
       "      <td>660309</td>\n",
       "      <td>588872</td>\n",
       "      <td>595546</td>\n",
       "      <td>633358</td>\n",
       "      <td>687766</td>\n",
       "      <td>...</td>\n",
       "      <td>369452</td>\n",
       "      <td>352956</td>\n",
       "      <td>440285</td>\n",
       "      <td>324040</td>\n",
       "      <td>299486</td>\n",
       "      <td>317636</td>\n",
       "      <td>344752</td>\n",
       "      <td>241285</td>\n",
       "      <td>254219</td>\n",
       "      <td>311185</td>\n",
       "    </tr>\n",
       "    <tr>\n",
       "      <th>google.com</th>\n",
       "      <td>235290</td>\n",
       "      <td>154137</td>\n",
       "      <td>146847</td>\n",
       "      <td>155477</td>\n",
       "      <td>112506</td>\n",
       "      <td>103057</td>\n",
       "      <td>138339</td>\n",
       "      <td>85904</td>\n",
       "      <td>279269</td>\n",
       "      <td>322605</td>\n",
       "      <td>...</td>\n",
       "      <td>302822</td>\n",
       "      <td>384940</td>\n",
       "      <td>382337</td>\n",
       "      <td>357034</td>\n",
       "      <td>398593</td>\n",
       "      <td>530017</td>\n",
       "      <td>340017</td>\n",
       "      <td>316486</td>\n",
       "      <td>354260</td>\n",
       "      <td>300681</td>\n",
       "    </tr>\n",
       "    <tr>\n",
       "      <th>Communication-Email</th>\n",
       "      <td>3910870</td>\n",
       "      <td>3663326</td>\n",
       "      <td>3325002</td>\n",
       "      <td>4070259</td>\n",
       "      <td>3787863</td>\n",
       "      <td>4197746</td>\n",
       "      <td>5009222</td>\n",
       "      <td>4807187</td>\n",
       "      <td>4539054</td>\n",
       "      <td>4863945</td>\n",
       "      <td>...</td>\n",
       "      <td>4233829</td>\n",
       "      <td>4212221</td>\n",
       "      <td>4278095</td>\n",
       "      <td>4219187</td>\n",
       "      <td>3939242</td>\n",
       "      <td>4486005</td>\n",
       "      <td>4599696</td>\n",
       "      <td>4426058</td>\n",
       "      <td>4317891</td>\n",
       "      <td>4042735</td>\n",
       "    </tr>\n",
       "  </tbody>\n",
       "</table>\n",
       "<p>10 rows × 43 columns</p>\n",
       "</div>"
      ],
      "text/plain": [
       "                               1월-12     2월-12     3월-12     4월-12     5월-12  \\\n",
       "       분 류                                                                     \n",
       "PC     naver.com            17121839  16950102  17123838  17756425  17845347   \n",
       "       daum.net             16228608  15748261  15950497  15967961  16488893   \n",
       "       nate.com             12271546  11773522  11649994  11917413  11838747   \n",
       "       google.com            2031192   2023086   1891066   1989751   1953428   \n",
       "       communication-mail   26844061  26324191  26440470  27000678  27110680   \n",
       "mobile naver.com             1449426   1318779   1525272   2156043   1935512   \n",
       "       daum.net              2123572   2098304   1518737   1862319   1872582   \n",
       "       nate.com               802666    813850    709876    590882    494325   \n",
       "       google.com             235290    154137    146847    155477    112506   \n",
       "       Communication-Email   3910870   3663326   3325002   4070259   3787863   \n",
       "\n",
       "                               6월-12     7월-12     8월-12     9월-12    10월-12  \\\n",
       "       분 류                                                                     \n",
       "PC     naver.com            17138097  17276779  17599890  16685681  16754910   \n",
       "       daum.net             15572506  16291615  16564825  15481871  16125494   \n",
       "       nate.com             10768330   9908393   9222417   8553294   8685570   \n",
       "       google.com            1921062   2065869   1878269   1830855   1851246   \n",
       "       communication-mail   26197903  26994676  26958452  26106865  26055860   \n",
       "mobile naver.com             2204992   2769000   2753605   2777274   2805178   \n",
       "       daum.net              1936302   2301563   2135555   1930862   2136730   \n",
       "       nate.com               660309    588872    595546    633358    687766   \n",
       "       google.com             103057    138339     85904    279269    322605   \n",
       "       Communication-Email   4197746   5009222   4807187   4539054   4863945   \n",
       "\n",
       "                              ...       10월-14    11월-14    12월-14     1월-15  \\\n",
       "       분 류                    ...                                              \n",
       "PC     naver.com              ...     17130578  16857636  16798943  16600515   \n",
       "       daum.net               ...     13093149  12799077  12749609  12956563   \n",
       "       nate.com               ...      5740949   5422418   5294178   5331004   \n",
       "       google.com             ...      1377576   1473539   1434281   1544514   \n",
       "       communication-mail     ...     24359396  24150259  23913457  23865345   \n",
       "mobile naver.com              ...      2836273   2691126   2528648   2702249   \n",
       "       daum.net               ...      1547458   1624158   1674045   1682265   \n",
       "       nate.com               ...       369452    352956    440285    324040   \n",
       "       google.com             ...       302822    384940    382337    357034   \n",
       "       Communication-Email    ...      4233829   4212221   4278095   4219187   \n",
       "\n",
       "                               2월-15     3월-15     4월-15     5월-15     6월-15  \\\n",
       "       분 류                                                                     \n",
       "PC     naver.com            15483087  16903873  16550268  16710362  16924774   \n",
       "       daum.net             11764914  12903009  12222087  12294511  12025579   \n",
       "       nate.com              4853505   5067788   4960576   4809377   4956443   \n",
       "       google.com            1390391   1781983   1645368   1761574   1925899   \n",
       "       communication-mail   22330964  23840936  23416619  23679246  23610765   \n",
       "mobile naver.com             2512878   2722772   3077679   3046904   3021911   \n",
       "       daum.net              1478710   1826173   1596559   1599962   1490001   \n",
       "       nate.com               299486    317636    344752    241285    254219   \n",
       "       google.com             398593    530017    340017    316486    354260   \n",
       "       Communication-Email   3939242   4486005   4599696   4426058   4317891   \n",
       "\n",
       "                               7월-15  \n",
       "       분 류                            \n",
       "PC     naver.com            16636861  \n",
       "       daum.net             12015783  \n",
       "       nate.com              4861113  \n",
       "       google.com            1938953  \n",
       "       communication-mail   23304235  \n",
       "mobile naver.com             2772323  \n",
       "       daum.net              1419051  \n",
       "       nate.com               311185  \n",
       "       google.com             300681  \n",
       "       Communication-Email   4042735  \n",
       "\n",
       "[10 rows x 43 columns]"
      ]
     },
     "execution_count": 265,
     "metadata": {},
     "output_type": "execute_result"
    }
   ],
   "source": [
    "from sklearn.linear_model import LinearRegression\n",
    "\n",
    "lr = LinearRegression()\n",
    "\n",
    "mail_pcmau = pd.read_csv('mail_pcmau.csv', index_col='분 류', thousands=',')\n",
    "mail_mmau = pd.read_csv('mail_mmau.csv', index_col='분 류', thousands=',')\n",
    "\n",
    "data = pd.concat({'mobile': mail_mmau, 'PC': mail_pcmau}, axis=0, join='inner')\n",
    "\n",
    "data"
   ]
  },
  {
   "cell_type": "code",
   "execution_count": 267,
   "metadata": {
    "collapsed": false
   },
   "outputs": [
    {
     "name": "stdout",
     "output_type": "stream",
     "text": [
      "        분 류                \n",
      "PC      naver.com              17121839\n",
      "        daum.net               16228608\n",
      "        nate.com               12271546\n",
      "        google.com              2031192\n",
      "        communication-mail     26844061\n",
      "mobile  naver.com               1449426\n",
      "        daum.net                2123572\n",
      "        nate.com                 802666\n",
      "        google.com               235290\n",
      "        Communication-Email     3910870\n",
      "Name: 1월-12, dtype: int64\n",
      "(10,)\n",
      "(10, 43)\n",
      "model.coef_: [  3.12570343e-01   2.76242319e-01   1.31119430e-01   1.36104476e-01\n",
      "   7.43133506e-02   1.21563150e-01   7.60535827e-02  -6.43575460e-03\n",
      "  -7.55555608e-03   3.08685047e-02  -9.01901647e-03  -3.71564142e-02\n",
      "   3.84995281e-02  -2.85248815e-03   5.27330096e-02   4.50303085e-05\n",
      "  -7.97518121e-02  -3.24205908e-03   5.72330747e-02   5.95520511e-03\n",
      "  -4.95378868e-02  -1.16471651e-01   1.34740093e-02  -5.23294990e-02\n",
      "  -3.38716175e-02  -1.46491225e-02  -3.27346377e-02   4.40859935e-02\n",
      "  -3.34056392e-02  -4.39059949e-02  -3.71825472e-03  -2.46102631e-02\n",
      "   4.11816827e-02  -4.69590320e-03   4.34884040e-02   1.16583956e-01\n",
      "   1.38227011e-03   5.03829274e-02   7.25560798e-02   2.05535703e-02\n",
      "  -4.63924324e-02  -4.53224041e-02  -6.06515341e-02]\n"
     ]
    },
    {
     "data": {
      "text/plain": [
       "array([ 17121839.00000014,  16228608.00000009,  12271545.99999999,\n",
       "         2031191.99999991,  26844061.00000029,   1449425.99999993,\n",
       "         2123571.99999991,    802665.99999989,    235289.99999989,\n",
       "         3910869.99999995])"
      ]
     },
     "execution_count": 267,
     "metadata": {},
     "output_type": "execute_result"
    }
   ],
   "source": [
    "#y = mmau['naver.com'].values\n",
    "y = data['1월-12']\n",
    "print(y)\n",
    "\n",
    "#print(\"y:\", y)\n",
    "print(y.shape)\n",
    "\n",
    "#X = mail_pcmau[:,1:]\n",
    "X = data\n",
    "#X\n",
    "\n",
    "print(X.shape)\n",
    "#mail_pcmau\n",
    "\n",
    "\n",
    "#X\n",
    "#data\n",
    "\n",
    "#y = pd.DataFrame(data, columns=['daum.net']).values\n",
    "\n",
    "#y = pd.DataFrame(data, columns=['daum.net', 'nate.com', 'google.com', 'Communication-Email']).values\n",
    "#y\n",
    "\n",
    "model = lr.fit(X, y)\n",
    "\n",
    "print(\"model.coef_:\", model.coef_)\n",
    "model.predict(X)\n"
   ]
  },
  {
   "cell_type": "code",
   "execution_count": 268,
   "metadata": {
    "collapsed": false
   },
   "outputs": [
    {
     "name": "stdout",
     "output_type": "stream",
     "text": [
      "shape: (10,)\n",
      "모델의 정확도 평가:  1.0\n",
      "모델의 정확도 평가. 분산값. 클수록 정확도가 나쁜 모델:  1.6058314973e-14\n"
     ]
    }
   ],
   "source": [
    "print(\"shape:\", model.predict(X).shape)\n",
    "\n",
    "# 모델의 정확도 평가. 1 이 perfect\n",
    "print(\"모델의 정확도 평가: \", model.score(X,y))\n",
    "\n",
    "# 모델의 정확도 평가. 분산값. 클수록 정확도가 나쁜 모델\n",
    "print(\"모델의 정확도 평가. 분산값. 클수록 정확도가 나쁜 모델: \", (np.mean((model.predict(X) - y) ** 2)))"
   ]
  },
  {
   "cell_type": "code",
   "execution_count": null,
   "metadata": {
    "collapsed": true
   },
   "outputs": [],
   "source": []
  }
 ],
 "metadata": {
  "kernelspec": {
   "display_name": "Python 3",
   "language": "python",
   "name": "python3"
  },
  "language_info": {
   "codemirror_mode": {
    "name": "ipython",
    "version": 3
   },
   "file_extension": ".py",
   "mimetype": "text/x-python",
   "name": "python",
   "nbconvert_exporter": "python",
   "pygments_lexer": "ipython3",
   "version": "3.4.3"
  }
 },
 "nbformat": 4,
 "nbformat_minor": 0
}
